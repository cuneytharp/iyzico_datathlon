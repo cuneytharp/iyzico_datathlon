{
 "cells": [
  {
   "cell_type": "code",
   "execution_count": 27,
   "id": "a82e96b9",
   "metadata": {},
   "outputs": [],
   "source": [
    "import pandas as pd "
   ]
  },
  {
   "cell_type": "code",
   "execution_count": 28,
   "id": "4da12433",
   "metadata": {},
   "outputs": [],
   "source": [
    "df = pd.read_csv(\"train.csv\")"
   ]
  },
  {
   "cell_type": "code",
   "execution_count": 29,
   "id": "7f9bfb54",
   "metadata": {},
   "outputs": [
    {
     "data": {
      "text/html": [
       "<div>\n",
       "<style scoped>\n",
       "    .dataframe tbody tr th:only-of-type {\n",
       "        vertical-align: middle;\n",
       "    }\n",
       "\n",
       "    .dataframe tbody tr th {\n",
       "        vertical-align: top;\n",
       "    }\n",
       "\n",
       "    .dataframe thead th {\n",
       "        text-align: right;\n",
       "    }\n",
       "</style>\n",
       "<table border=\"1\" class=\"dataframe\">\n",
       "  <thead>\n",
       "    <tr style=\"text-align: right;\">\n",
       "      <th></th>\n",
       "      <th>merchant_id</th>\n",
       "      <th>month_id</th>\n",
       "      <th>merchant_source_name</th>\n",
       "      <th>settlement_period</th>\n",
       "      <th>working_type</th>\n",
       "      <th>mcc_id</th>\n",
       "      <th>merchant_segment</th>\n",
       "      <th>net_payment_count</th>\n",
       "    </tr>\n",
       "  </thead>\n",
       "  <tbody>\n",
       "    <tr>\n",
       "      <th>0</th>\n",
       "      <td>merchant_43992</td>\n",
       "      <td>202307</td>\n",
       "      <td>Merchant Source - 3</td>\n",
       "      <td>Settlement Period - 3</td>\n",
       "      <td>Working Type - 2</td>\n",
       "      <td>mcc_197</td>\n",
       "      <td>Segment - 2</td>\n",
       "      <td>15106</td>\n",
       "    </tr>\n",
       "    <tr>\n",
       "      <th>1</th>\n",
       "      <td>merchant_43992</td>\n",
       "      <td>202301</td>\n",
       "      <td>Merchant Source - 3</td>\n",
       "      <td>Settlement Period - 3</td>\n",
       "      <td>Working Type - 2</td>\n",
       "      <td>mcc_197</td>\n",
       "      <td>Segment - 2</td>\n",
       "      <td>16918</td>\n",
       "    </tr>\n",
       "    <tr>\n",
       "      <th>2</th>\n",
       "      <td>merchant_43992</td>\n",
       "      <td>202305</td>\n",
       "      <td>Merchant Source - 3</td>\n",
       "      <td>Settlement Period - 3</td>\n",
       "      <td>Working Type - 2</td>\n",
       "      <td>mcc_197</td>\n",
       "      <td>Segment - 2</td>\n",
       "      <td>13452</td>\n",
       "    </tr>\n",
       "    <tr>\n",
       "      <th>3</th>\n",
       "      <td>merchant_43992</td>\n",
       "      <td>202308</td>\n",
       "      <td>Merchant Source - 3</td>\n",
       "      <td>Settlement Period - 3</td>\n",
       "      <td>Working Type - 2</td>\n",
       "      <td>mcc_197</td>\n",
       "      <td>Segment - 2</td>\n",
       "      <td>16787</td>\n",
       "    </tr>\n",
       "  </tbody>\n",
       "</table>\n",
       "</div>"
      ],
      "text/plain": [
       "      merchant_id  month_id merchant_source_name      settlement_period  \\\n",
       "0  merchant_43992    202307  Merchant Source - 3  Settlement Period - 3   \n",
       "1  merchant_43992    202301  Merchant Source - 3  Settlement Period - 3   \n",
       "2  merchant_43992    202305  Merchant Source - 3  Settlement Period - 3   \n",
       "3  merchant_43992    202308  Merchant Source - 3  Settlement Period - 3   \n",
       "\n",
       "       working_type   mcc_id merchant_segment  net_payment_count  \n",
       "0  Working Type - 2  mcc_197      Segment - 2              15106  \n",
       "1  Working Type - 2  mcc_197      Segment - 2              16918  \n",
       "2  Working Type - 2  mcc_197      Segment - 2              13452  \n",
       "3  Working Type - 2  mcc_197      Segment - 2              16787  "
      ]
     },
     "execution_count": 29,
     "metadata": {},
     "output_type": "execute_result"
    }
   ],
   "source": [
    "df[:4]"
   ]
  },
  {
   "cell_type": "code",
   "execution_count": 30,
   "id": "92462016",
   "metadata": {},
   "outputs": [
    {
     "name": "stdout",
     "output_type": "stream",
     "text": [
      "<class 'pandas.core.frame.DataFrame'>\n",
      "RangeIndex: 291142 entries, 0 to 291141\n",
      "Data columns (total 8 columns):\n",
      " #   Column                Non-Null Count   Dtype \n",
      "---  ------                --------------   ----- \n",
      " 0   merchant_id           291142 non-null  object\n",
      " 1   month_id              291142 non-null  int64 \n",
      " 2   merchant_source_name  291142 non-null  object\n",
      " 3   settlement_period     291142 non-null  object\n",
      " 4   working_type          291142 non-null  object\n",
      " 5   mcc_id                291142 non-null  object\n",
      " 6   merchant_segment      291142 non-null  object\n",
      " 7   net_payment_count     291142 non-null  int64 \n",
      "dtypes: int64(2), object(6)\n",
      "memory usage: 17.8+ MB\n"
     ]
    }
   ],
   "source": [
    "df.info()"
   ]
  },
  {
   "cell_type": "code",
   "execution_count": 31,
   "id": "5f56d1b6",
   "metadata": {},
   "outputs": [],
   "source": [
    "df[\"date\"] = pd.to_datetime(df[\"month_id\"],format=\"%Y%m\")"
   ]
  },
  {
   "cell_type": "code",
   "execution_count": 32,
   "id": "03db9724",
   "metadata": {},
   "outputs": [],
   "source": [
    "df[\"year\"]=df[\"date\"].dt.year\n",
    "df[\"month\"]=df[\"date\"].dt.month"
   ]
  },
  {
   "cell_type": "code",
   "execution_count": 33,
   "id": "10796366",
   "metadata": {},
   "outputs": [],
   "source": [
    "df.drop([\"month_id\",\"date\"],axis=1,inplace=True)"
   ]
  },
  {
   "cell_type": "code",
   "execution_count": 34,
   "id": "f7313926",
   "metadata": {},
   "outputs": [
    {
     "data": {
      "text/html": [
       "<div>\n",
       "<style scoped>\n",
       "    .dataframe tbody tr th:only-of-type {\n",
       "        vertical-align: middle;\n",
       "    }\n",
       "\n",
       "    .dataframe tbody tr th {\n",
       "        vertical-align: top;\n",
       "    }\n",
       "\n",
       "    .dataframe thead th {\n",
       "        text-align: right;\n",
       "    }\n",
       "</style>\n",
       "<table border=\"1\" class=\"dataframe\">\n",
       "  <thead>\n",
       "    <tr style=\"text-align: right;\">\n",
       "      <th></th>\n",
       "      <th>merchant_id</th>\n",
       "      <th>merchant_source_name</th>\n",
       "      <th>settlement_period</th>\n",
       "      <th>working_type</th>\n",
       "      <th>mcc_id</th>\n",
       "      <th>merchant_segment</th>\n",
       "      <th>net_payment_count</th>\n",
       "      <th>year</th>\n",
       "      <th>month</th>\n",
       "    </tr>\n",
       "  </thead>\n",
       "  <tbody>\n",
       "    <tr>\n",
       "      <th>0</th>\n",
       "      <td>merchant_43992</td>\n",
       "      <td>Merchant Source - 3</td>\n",
       "      <td>Settlement Period - 3</td>\n",
       "      <td>Working Type - 2</td>\n",
       "      <td>mcc_197</td>\n",
       "      <td>Segment - 2</td>\n",
       "      <td>15106</td>\n",
       "      <td>2023</td>\n",
       "      <td>7</td>\n",
       "    </tr>\n",
       "    <tr>\n",
       "      <th>1</th>\n",
       "      <td>merchant_43992</td>\n",
       "      <td>Merchant Source - 3</td>\n",
       "      <td>Settlement Period - 3</td>\n",
       "      <td>Working Type - 2</td>\n",
       "      <td>mcc_197</td>\n",
       "      <td>Segment - 2</td>\n",
       "      <td>16918</td>\n",
       "      <td>2023</td>\n",
       "      <td>1</td>\n",
       "    </tr>\n",
       "    <tr>\n",
       "      <th>2</th>\n",
       "      <td>merchant_43992</td>\n",
       "      <td>Merchant Source - 3</td>\n",
       "      <td>Settlement Period - 3</td>\n",
       "      <td>Working Type - 2</td>\n",
       "      <td>mcc_197</td>\n",
       "      <td>Segment - 2</td>\n",
       "      <td>13452</td>\n",
       "      <td>2023</td>\n",
       "      <td>5</td>\n",
       "    </tr>\n",
       "    <tr>\n",
       "      <th>3</th>\n",
       "      <td>merchant_43992</td>\n",
       "      <td>Merchant Source - 3</td>\n",
       "      <td>Settlement Period - 3</td>\n",
       "      <td>Working Type - 2</td>\n",
       "      <td>mcc_197</td>\n",
       "      <td>Segment - 2</td>\n",
       "      <td>16787</td>\n",
       "      <td>2023</td>\n",
       "      <td>8</td>\n",
       "    </tr>\n",
       "  </tbody>\n",
       "</table>\n",
       "</div>"
      ],
      "text/plain": [
       "      merchant_id merchant_source_name      settlement_period  \\\n",
       "0  merchant_43992  Merchant Source - 3  Settlement Period - 3   \n",
       "1  merchant_43992  Merchant Source - 3  Settlement Period - 3   \n",
       "2  merchant_43992  Merchant Source - 3  Settlement Period - 3   \n",
       "3  merchant_43992  Merchant Source - 3  Settlement Period - 3   \n",
       "\n",
       "       working_type   mcc_id merchant_segment  net_payment_count  year  month  \n",
       "0  Working Type - 2  mcc_197      Segment - 2              15106  2023      7  \n",
       "1  Working Type - 2  mcc_197      Segment - 2              16918  2023      1  \n",
       "2  Working Type - 2  mcc_197      Segment - 2              13452  2023      5  \n",
       "3  Working Type - 2  mcc_197      Segment - 2              16787  2023      8  "
      ]
     },
     "execution_count": 34,
     "metadata": {},
     "output_type": "execute_result"
    }
   ],
   "source": [
    "df[:4]"
   ]
  },
  {
   "cell_type": "code",
   "execution_count": 26,
   "id": "ea964b5f",
   "metadata": {},
   "outputs": [
    {
     "name": "stdout",
     "output_type": "stream",
     "text": [
      "<class 'pandas.core.frame.DataFrame'>\n",
      "RangeIndex: 291142 entries, 0 to 291141\n",
      "Data columns (total 9 columns):\n",
      " #   Column                Non-Null Count   Dtype \n",
      "---  ------                --------------   ----- \n",
      " 0   merchant_id           291142 non-null  object\n",
      " 1   merchant_source_name  291142 non-null  object\n",
      " 2   settlement_period     291142 non-null  object\n",
      " 3   working_type          291142 non-null  object\n",
      " 4   mcc_id                291142 non-null  object\n",
      " 5   merchant_segment      291142 non-null  object\n",
      " 6   net_payment_count     291142 non-null  int64 \n",
      " 7   year                  291142 non-null  int64 \n",
      " 8   month                 291142 non-null  int64 \n",
      "dtypes: int64(3), object(6)\n",
      "memory usage: 20.0+ MB\n"
     ]
    }
   ],
   "source": [
    "df.info()"
   ]
  },
  {
   "cell_type": "code",
   "execution_count": 41,
   "id": "4b919e4c",
   "metadata": {},
   "outputs": [
    {
     "name": "stdout",
     "output_type": "stream",
     "text": [
      "COLUMN: merchant_id\n",
      "['merchant_43992' 'merchant_47611' 'merchant_40801' ... 'merchant_11346'\n",
      " 'merchant_21397' 'merchant_66895']\n",
      "\n",
      "\n",
      "COLUMN: merchant_source_name\n",
      "['Merchant Source - 3' 'Merchant Source - 2' 'Merchant Source - 1']\n",
      "\n",
      "\n",
      "COLUMN: settlement_period\n",
      "['Settlement Period - 3' 'Settlement Period - 1' 'Settlement Period - 2']\n",
      "\n",
      "\n",
      "COLUMN: working_type\n",
      "['Working Type - 2' 'Working Type - 6' 'Working Type - 5'\n",
      " 'Working Type - 3' 'Working Type - 4' 'Working Type - 1']\n",
      "\n",
      "\n",
      "COLUMN: mcc_id\n",
      "['mcc_197' 'mcc_80' 'mcc_135' 'mcc_38' 'mcc_55' 'mcc_188' 'mcc_168'\n",
      " 'mcc_1' 'mcc_177' 'mcc_126' 'mcc_42' 'mcc_195' 'mcc_35' 'mcc_85' 'mcc_28'\n",
      " 'mcc_132' 'mcc_169' 'mcc_185' 'mcc_112' 'mcc_56' 'mcc_161' 'mcc_130'\n",
      " 'mcc_110' 'mcc_24' 'mcc_96' 'mcc_73' 'mcc_65' 'mcc_144' 'mcc_68' 'mcc_76'\n",
      " 'mcc_162' 'mcc_117' 'mcc_143' 'mcc_74' 'mcc_54' 'mcc_93' 'mcc_7'\n",
      " 'mcc_166' 'mcc_106' 'mcc_160' 'mcc_83' 'mcc_109' 'mcc_46' 'mcc_77'\n",
      " 'mcc_174' 'mcc_194' 'mcc_64' 'mcc_40' 'mcc_153' 'mcc_116' 'mcc_20'\n",
      " 'mcc_2' 'mcc_100' 'mcc_87' 'mcc_9' 'mcc_60' 'mcc_147' 'mcc_29' 'mcc_5'\n",
      " 'mcc_10' 'mcc_18' 'mcc_187' 'mcc_138' 'mcc_33' 'mcc_53' 'mcc_71'\n",
      " 'mcc_152' 'mcc_131' 'mcc_88' 'mcc_89' 'mcc_90' 'mcc_145' 'mcc_104'\n",
      " 'mcc_52' 'mcc_70' 'mcc_151' 'mcc_155' 'mcc_50' 'mcc_128' 'mcc_63'\n",
      " 'mcc_23' 'mcc_125' 'mcc_120' 'mcc_92' 'mcc_51' 'mcc_172' 'mcc_81'\n",
      " 'mcc_115' 'mcc_189' 'mcc_4' 'mcc_61' 'mcc_19' 'mcc_154' 'mcc_31'\n",
      " 'mcc_184' 'mcc_94' 'mcc_107' 'mcc_78' 'mcc_121' 'mcc_86' 'mcc_22'\n",
      " 'mcc_179' 'mcc_34' 'mcc_21' 'mcc_25' 'mcc_165' 'mcc_67' 'mcc_26'\n",
      " 'mcc_190' 'mcc_141' 'mcc_157' 'mcc_45' 'mcc_3' 'mcc_127' 'mcc_44'\n",
      " 'mcc_113' 'mcc_175' 'mcc_108' 'mcc_167' 'mcc_11' 'mcc_36' 'mcc_176'\n",
      " 'mcc_6' 'mcc_39' 'mcc_13' 'mcc_48' 'mcc_30' 'mcc_180' 'mcc_101' 'mcc_14'\n",
      " 'mcc_122' 'mcc_12' 'mcc_193' 'mcc_43' 'mcc_164' 'mcc_114' 'mcc_156'\n",
      " 'mcc_183' 'mcc_57' 'mcc_66' 'mcc_95' 'mcc_58' 'mcc_137' 'mcc_150'\n",
      " 'mcc_102' 'mcc_16' 'mcc_47' 'mcc_196' 'mcc_149' 'mcc_79' 'mcc_170'\n",
      " 'mcc_148' 'mcc_173' 'mcc_134' 'mcc_133' 'mcc_178' 'mcc_163' 'mcc_49'\n",
      " 'mcc_82' 'mcc_124' 'mcc_84' 'mcc_118' 'mcc_171' 'mcc_72' 'mcc_192'\n",
      " 'mcc_37' 'mcc_59' 'mcc_186' 'mcc_69' 'mcc_27' 'mcc_15' 'mcc_98']\n",
      "\n",
      "\n",
      "COLUMN: merchant_segment\n",
      "['Segment - 2' 'Segment - 3' 'Segment - 4' 'Segment - 1']\n",
      "\n",
      "\n"
     ]
    }
   ],
   "source": [
    "for column in df.select_dtypes(include=\"object\").columns:\n",
    "    print(\"COLUMN:\",column)\n",
    "    print(df[column].unique())\n",
    "    print(\"\\n\")"
   ]
  },
  {
   "cell_type": "code",
   "execution_count": null,
   "id": "f120b0cd",
   "metadata": {},
   "outputs": [],
   "source": []
  }
 ],
 "metadata": {
  "kernelspec": {
   "display_name": "Python 3 (ipykernel)",
   "language": "python",
   "name": "python3"
  },
  "language_info": {
   "codemirror_mode": {
    "name": "ipython",
    "version": 3
   },
   "file_extension": ".py",
   "mimetype": "text/x-python",
   "name": "python",
   "nbconvert_exporter": "python",
   "pygments_lexer": "ipython3",
   "version": "3.11.4"
  }
 },
 "nbformat": 4,
 "nbformat_minor": 5
}
