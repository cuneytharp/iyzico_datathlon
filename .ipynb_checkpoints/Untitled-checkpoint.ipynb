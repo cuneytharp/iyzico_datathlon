{
 "cells": [
  {
   "cell_type": "code",
   "execution_count": 1,
   "id": "a82e96b9",
   "metadata": {},
   "outputs": [],
   "source": [
    "import pandas as pd \n",
    "import matplotlib.pyplot as plt\n",
    "import seaborn as sns\n",
    "import numpy as np\n",
    "from pycaret.regression import *\n",
    "import time "
   ]
  },
  {
   "cell_type": "code",
   "execution_count": 2,
   "id": "4da12433",
   "metadata": {},
   "outputs": [],
   "source": [
    "df = pd.read_csv(\"train.csv\")"
   ]
  },
  {
   "cell_type": "code",
   "execution_count": 3,
   "id": "5f56d1b6",
   "metadata": {},
   "outputs": [],
   "source": [
    "df[\"date\"] = pd.to_datetime(df[\"month_id\"],format=\"%Y%m\")"
   ]
  },
  {
   "cell_type": "code",
   "execution_count": 4,
   "id": "03db9724",
   "metadata": {},
   "outputs": [],
   "source": [
    "df[\"year\"]=df[\"date\"].dt.year\n",
    "df[\"month\"]=df[\"date\"].dt.month"
   ]
  },
  {
   "cell_type": "code",
   "execution_count": 5,
   "id": "10796366",
   "metadata": {},
   "outputs": [],
   "source": [
    "df.drop([\"month_id\",\"date\"],axis=1,inplace=True)"
   ]
  },
  {
   "cell_type": "code",
   "execution_count": 6,
   "id": "c380a6de",
   "metadata": {},
   "outputs": [],
   "source": [
    "df_test = df[df[\"merchant_id\"].str.contains(\"merchant_36004\")]\n",
    "df_test = df_test.sort_values(by=[\"year\",\"month\"])\n",
    "df_test['Series'] = np.arange(1,len(df_test)+1)\n",
    "df_test=df_test[[\"Series\",\"year\",\"month\",\"net_payment_count\"]]"
   ]
  },
  {
   "cell_type": "code",
   "execution_count": 7,
   "id": "dbf15640",
   "metadata": {},
   "outputs": [
    {
     "data": {
      "text/html": [
       "<div>\n",
       "<style scoped>\n",
       "    .dataframe tbody tr th:only-of-type {\n",
       "        vertical-align: middle;\n",
       "    }\n",
       "\n",
       "    .dataframe tbody tr th {\n",
       "        vertical-align: top;\n",
       "    }\n",
       "\n",
       "    .dataframe thead th {\n",
       "        text-align: right;\n",
       "    }\n",
       "</style>\n",
       "<table border=\"1\" class=\"dataframe\">\n",
       "  <thead>\n",
       "    <tr style=\"text-align: right;\">\n",
       "      <th></th>\n",
       "      <th>Series</th>\n",
       "      <th>year</th>\n",
       "      <th>month</th>\n",
       "      <th>net_payment_count</th>\n",
       "    </tr>\n",
       "  </thead>\n",
       "  <tbody>\n",
       "    <tr>\n",
       "      <th>264341</th>\n",
       "      <td>1</td>\n",
       "      <td>2022</td>\n",
       "      <td>3</td>\n",
       "      <td>9</td>\n",
       "    </tr>\n",
       "    <tr>\n",
       "      <th>264342</th>\n",
       "      <td>2</td>\n",
       "      <td>2022</td>\n",
       "      <td>4</td>\n",
       "      <td>6</td>\n",
       "    </tr>\n",
       "    <tr>\n",
       "      <th>264343</th>\n",
       "      <td>3</td>\n",
       "      <td>2022</td>\n",
       "      <td>5</td>\n",
       "      <td>5</td>\n",
       "    </tr>\n",
       "    <tr>\n",
       "      <th>264344</th>\n",
       "      <td>4</td>\n",
       "      <td>2022</td>\n",
       "      <td>10</td>\n",
       "      <td>3</td>\n",
       "    </tr>\n",
       "  </tbody>\n",
       "</table>\n",
       "</div>"
      ],
      "text/plain": [
       "        Series  year  month  net_payment_count\n",
       "264341       1  2022      3                  9\n",
       "264342       2  2022      4                  6\n",
       "264343       3  2022      5                  5\n",
       "264344       4  2022     10                  3"
      ]
     },
     "execution_count": 7,
     "metadata": {},
     "output_type": "execute_result"
    }
   ],
   "source": [
    "df_test"
   ]
  },
  {
   "cell_type": "code",
   "execution_count": 8,
   "id": "6e9d6db4",
   "metadata": {},
   "outputs": [
    {
     "data": {
      "text/html": [
       "<style type=\"text/css\">\n",
       "#T_5ff62_row8_col1, #T_5ff62_row12_col1 {\n",
       "  background-color: lightgreen;\n",
       "}\n",
       "</style>\n",
       "<table id=\"T_5ff62\">\n",
       "  <thead>\n",
       "    <tr>\n",
       "      <th class=\"blank level0\" >&nbsp;</th>\n",
       "      <th id=\"T_5ff62_level0_col0\" class=\"col_heading level0 col0\" >Description</th>\n",
       "      <th id=\"T_5ff62_level0_col1\" class=\"col_heading level0 col1\" >Value</th>\n",
       "    </tr>\n",
       "  </thead>\n",
       "  <tbody>\n",
       "    <tr>\n",
       "      <th id=\"T_5ff62_level0_row0\" class=\"row_heading level0 row0\" >0</th>\n",
       "      <td id=\"T_5ff62_row0_col0\" class=\"data row0 col0\" >Session id</td>\n",
       "      <td id=\"T_5ff62_row0_col1\" class=\"data row0 col1\" >123</td>\n",
       "    </tr>\n",
       "    <tr>\n",
       "      <th id=\"T_5ff62_level0_row1\" class=\"row_heading level0 row1\" >1</th>\n",
       "      <td id=\"T_5ff62_row1_col0\" class=\"data row1 col0\" >Target</td>\n",
       "      <td id=\"T_5ff62_row1_col1\" class=\"data row1 col1\" >net_payment_count</td>\n",
       "    </tr>\n",
       "    <tr>\n",
       "      <th id=\"T_5ff62_level0_row2\" class=\"row_heading level0 row2\" >2</th>\n",
       "      <td id=\"T_5ff62_row2_col0\" class=\"data row2 col0\" >Target type</td>\n",
       "      <td id=\"T_5ff62_row2_col1\" class=\"data row2 col1\" >Regression</td>\n",
       "    </tr>\n",
       "    <tr>\n",
       "      <th id=\"T_5ff62_level0_row3\" class=\"row_heading level0 row3\" >3</th>\n",
       "      <td id=\"T_5ff62_row3_col0\" class=\"data row3 col0\" >Original data shape</td>\n",
       "      <td id=\"T_5ff62_row3_col1\" class=\"data row3 col1\" >(4, 4)</td>\n",
       "    </tr>\n",
       "    <tr>\n",
       "      <th id=\"T_5ff62_level0_row4\" class=\"row_heading level0 row4\" >4</th>\n",
       "      <td id=\"T_5ff62_row4_col0\" class=\"data row4 col0\" >Transformed data shape</td>\n",
       "      <td id=\"T_5ff62_row4_col1\" class=\"data row4 col1\" >(4, 4)</td>\n",
       "    </tr>\n",
       "    <tr>\n",
       "      <th id=\"T_5ff62_level0_row5\" class=\"row_heading level0 row5\" >5</th>\n",
       "      <td id=\"T_5ff62_row5_col0\" class=\"data row5 col0\" >Transformed train set shape</td>\n",
       "      <td id=\"T_5ff62_row5_col1\" class=\"data row5 col1\" >(2, 4)</td>\n",
       "    </tr>\n",
       "    <tr>\n",
       "      <th id=\"T_5ff62_level0_row6\" class=\"row_heading level0 row6\" >6</th>\n",
       "      <td id=\"T_5ff62_row6_col0\" class=\"data row6 col0\" >Transformed test set shape</td>\n",
       "      <td id=\"T_5ff62_row6_col1\" class=\"data row6 col1\" >(2, 4)</td>\n",
       "    </tr>\n",
       "    <tr>\n",
       "      <th id=\"T_5ff62_level0_row7\" class=\"row_heading level0 row7\" >7</th>\n",
       "      <td id=\"T_5ff62_row7_col0\" class=\"data row7 col0\" >Numeric features</td>\n",
       "      <td id=\"T_5ff62_row7_col1\" class=\"data row7 col1\" >1</td>\n",
       "    </tr>\n",
       "    <tr>\n",
       "      <th id=\"T_5ff62_level0_row8\" class=\"row_heading level0 row8\" >8</th>\n",
       "      <td id=\"T_5ff62_row8_col0\" class=\"data row8 col0\" >Preprocess</td>\n",
       "      <td id=\"T_5ff62_row8_col1\" class=\"data row8 col1\" >True</td>\n",
       "    </tr>\n",
       "    <tr>\n",
       "      <th id=\"T_5ff62_level0_row9\" class=\"row_heading level0 row9\" >9</th>\n",
       "      <td id=\"T_5ff62_row9_col0\" class=\"data row9 col0\" >Imputation type</td>\n",
       "      <td id=\"T_5ff62_row9_col1\" class=\"data row9 col1\" >simple</td>\n",
       "    </tr>\n",
       "    <tr>\n",
       "      <th id=\"T_5ff62_level0_row10\" class=\"row_heading level0 row10\" >10</th>\n",
       "      <td id=\"T_5ff62_row10_col0\" class=\"data row10 col0\" >Numeric imputation</td>\n",
       "      <td id=\"T_5ff62_row10_col1\" class=\"data row10 col1\" >mean</td>\n",
       "    </tr>\n",
       "    <tr>\n",
       "      <th id=\"T_5ff62_level0_row11\" class=\"row_heading level0 row11\" >11</th>\n",
       "      <td id=\"T_5ff62_row11_col0\" class=\"data row11 col0\" >Categorical imputation</td>\n",
       "      <td id=\"T_5ff62_row11_col1\" class=\"data row11 col1\" >mode</td>\n",
       "    </tr>\n",
       "    <tr>\n",
       "      <th id=\"T_5ff62_level0_row12\" class=\"row_heading level0 row12\" >12</th>\n",
       "      <td id=\"T_5ff62_row12_col0\" class=\"data row12 col0\" >Transform target</td>\n",
       "      <td id=\"T_5ff62_row12_col1\" class=\"data row12 col1\" >True</td>\n",
       "    </tr>\n",
       "    <tr>\n",
       "      <th id=\"T_5ff62_level0_row13\" class=\"row_heading level0 row13\" >13</th>\n",
       "      <td id=\"T_5ff62_row13_col0\" class=\"data row13 col0\" >Transform target method</td>\n",
       "      <td id=\"T_5ff62_row13_col1\" class=\"data row13 col1\" >yeo-johnson</td>\n",
       "    </tr>\n",
       "    <tr>\n",
       "      <th id=\"T_5ff62_level0_row14\" class=\"row_heading level0 row14\" >14</th>\n",
       "      <td id=\"T_5ff62_row14_col0\" class=\"data row14 col0\" >Fold Generator</td>\n",
       "      <td id=\"T_5ff62_row14_col1\" class=\"data row14 col1\" >TimeSeriesSplit</td>\n",
       "    </tr>\n",
       "    <tr>\n",
       "      <th id=\"T_5ff62_level0_row15\" class=\"row_heading level0 row15\" >15</th>\n",
       "      <td id=\"T_5ff62_row15_col0\" class=\"data row15 col0\" >Fold Number</td>\n",
       "      <td id=\"T_5ff62_row15_col1\" class=\"data row15 col1\" >3</td>\n",
       "    </tr>\n",
       "    <tr>\n",
       "      <th id=\"T_5ff62_level0_row16\" class=\"row_heading level0 row16\" >16</th>\n",
       "      <td id=\"T_5ff62_row16_col0\" class=\"data row16 col0\" >CPU Jobs</td>\n",
       "      <td id=\"T_5ff62_row16_col1\" class=\"data row16 col1\" >-1</td>\n",
       "    </tr>\n",
       "    <tr>\n",
       "      <th id=\"T_5ff62_level0_row17\" class=\"row_heading level0 row17\" >17</th>\n",
       "      <td id=\"T_5ff62_row17_col0\" class=\"data row17 col0\" >Use GPU</td>\n",
       "      <td id=\"T_5ff62_row17_col1\" class=\"data row17 col1\" >False</td>\n",
       "    </tr>\n",
       "    <tr>\n",
       "      <th id=\"T_5ff62_level0_row18\" class=\"row_heading level0 row18\" >18</th>\n",
       "      <td id=\"T_5ff62_row18_col0\" class=\"data row18 col0\" >Log Experiment</td>\n",
       "      <td id=\"T_5ff62_row18_col1\" class=\"data row18 col1\" >False</td>\n",
       "    </tr>\n",
       "    <tr>\n",
       "      <th id=\"T_5ff62_level0_row19\" class=\"row_heading level0 row19\" >19</th>\n",
       "      <td id=\"T_5ff62_row19_col0\" class=\"data row19 col0\" >Experiment Name</td>\n",
       "      <td id=\"T_5ff62_row19_col1\" class=\"data row19 col1\" >reg-default-name</td>\n",
       "    </tr>\n",
       "    <tr>\n",
       "      <th id=\"T_5ff62_level0_row20\" class=\"row_heading level0 row20\" >20</th>\n",
       "      <td id=\"T_5ff62_row20_col0\" class=\"data row20 col0\" >USI</td>\n",
       "      <td id=\"T_5ff62_row20_col1\" class=\"data row20 col1\" >57b4</td>\n",
       "    </tr>\n",
       "  </tbody>\n",
       "</table>\n"
      ],
      "text/plain": [
       "<pandas.io.formats.style.Styler at 0x29c02f70350>"
      ]
     },
     "metadata": {},
     "output_type": "display_data"
    }
   ],
   "source": [
    "s = setup(data = df_test, target = 'net_payment_count', fold_strategy = 'timeseries', data_split_shuffle = False, numeric_features = ['year'], fold = 3, transform_target = True, session_id = 123)"
   ]
  },
  {
   "cell_type": "code",
   "execution_count": 9,
   "id": "95c50344",
   "metadata": {},
   "outputs": [
    {
     "data": {
      "text/html": [],
      "text/plain": [
       "<IPython.core.display.HTML object>"
      ]
     },
     "metadata": {},
     "output_type": "display_data"
    },
    {
     "data": {
      "text/html": [
       "<style type=\"text/css\">\n",
       "</style>\n",
       "<table id=\"T_0abd6\">\n",
       "  <thead>\n",
       "  </thead>\n",
       "  <tbody>\n",
       "  </tbody>\n",
       "</table>\n"
      ],
      "text/plain": [
       "<pandas.io.formats.style.Styler at 0x29c033829d0>"
      ]
     },
     "metadata": {},
     "output_type": "display_data"
    },
    {
     "data": {
      "text/html": [],
      "text/plain": [
       "<IPython.core.display.HTML object>"
      ]
     },
     "metadata": {},
     "output_type": "display_data"
    }
   ],
   "source": [
    "best = compare_models(sort = 'MAE')"
   ]
  },
  {
   "cell_type": "code",
   "execution_count": 10,
   "id": "012959aa",
   "metadata": {},
   "outputs": [],
   "source": [
    "#df[(df[\"year\"]==2023) & (df[\"month\"]==9)][\"merchant_id\"].values."
   ]
  },
  {
   "cell_type": "code",
   "execution_count": 11,
   "id": "30697e7e",
   "metadata": {},
   "outputs": [],
   "source": [
    "# prediction_holdout = predict_model(best);"
   ]
  },
  {
   "cell_type": "code",
   "execution_count": 12,
   "id": "ba814fe8",
   "metadata": {},
   "outputs": [],
   "source": [
    "# predictions = predict_model(best, data=df_test)"
   ]
  },
  {
   "cell_type": "code",
   "execution_count": 13,
   "id": "ef9b3b2f",
   "metadata": {},
   "outputs": [],
   "source": [
    "# final_best = finalize_model(best)"
   ]
  },
  {
   "cell_type": "code",
   "execution_count": 14,
   "id": "a796d9f9",
   "metadata": {},
   "outputs": [],
   "source": [
    "# predictions_future = predict_model(final_best, data=future_df)\n",
    "# predictions_future.head()"
   ]
  },
  {
   "cell_type": "code",
   "execution_count": 15,
   "id": "04ccd97b",
   "metadata": {},
   "outputs": [],
   "source": [
    "# future_dates = pd.date_range(start = '2023-10-01', end = '2023-12-31', freq = 'MS')\n",
    "# future_df = pd.DataFrame()\n",
    "# future_df['month'] = [i.month for i in future_dates]\n",
    "# future_df['year'] = [i.year for i in future_dates]    \n",
    "# future_df['Series'] = np.arange(df_test.shape[0],(df_test.shape[0]+len(future_dates)))\n",
    "# future_df.head()"
   ]
  },
  {
   "cell_type": "code",
   "execution_count": 16,
   "id": "005bcd91",
   "metadata": {},
   "outputs": [
    {
     "data": {
      "text/plain": [
       "7287"
      ]
     },
     "execution_count": 16,
     "metadata": {},
     "output_type": "execute_result"
    }
   ],
   "source": [
    "active_since_last = df[(df[\"year\"]==2023) & (df[\"month\"]==9)][\"merchant_id\"].values\n",
    "len(active_since_last)"
   ]
  },
  {
   "cell_type": "code",
   "execution_count": null,
   "id": "f0fef81e",
   "metadata": {},
   "outputs": [],
   "source": []
  },
  {
   "cell_type": "code",
   "execution_count": null,
   "id": "74ecea33",
   "metadata": {},
   "outputs": [
    {
     "name": "stdout",
     "output_type": "stream",
     "text": [
      "merchant_43992\n"
     ]
    },
    {
     "data": {
      "text/html": [],
      "text/plain": [
       "<IPython.core.display.HTML object>"
      ]
     },
     "metadata": {},
     "output_type": "display_data"
    },
    {
     "name": "stdout",
     "output_type": "stream",
     "text": [
      "0\n",
      "PROCESS TIME: 10.883381843566895\n",
      "merchant_47611\n"
     ]
    },
    {
     "data": {
      "text/html": [],
      "text/plain": [
       "<IPython.core.display.HTML object>"
      ]
     },
     "metadata": {},
     "output_type": "display_data"
    },
    {
     "name": "stdout",
     "output_type": "stream",
     "text": [
      "1\n",
      "PROCESS TIME: 8.161432027816772\n",
      "merchant_40801\n",
      "data is not enough 1\n",
      "PROCESS TIME: 0.08888959884643555\n",
      "merchant_7319\n",
      "data is not enough 1\n",
      "PROCESS TIME: 0.06824326515197754\n",
      "merchant_26604\n"
     ]
    },
    {
     "data": {
      "text/html": [],
      "text/plain": [
       "<IPython.core.display.HTML object>"
      ]
     },
     "metadata": {},
     "output_type": "display_data"
    },
    {
     "name": "stdout",
     "output_type": "stream",
     "text": [
      "4\n",
      "PROCESS TIME: 3.9230973720550537\n",
      "merchant_10700\n"
     ]
    },
    {
     "data": {
      "text/html": [],
      "text/plain": [
       "<IPython.core.display.HTML object>"
      ]
     },
     "metadata": {},
     "output_type": "display_data"
    },
    {
     "name": "stdout",
     "output_type": "stream",
     "text": [
      "5\n",
      "PROCESS TIME: 3.9474008083343506\n",
      "merchant_50657\n"
     ]
    },
    {
     "data": {
      "text/html": [],
      "text/plain": [
       "<IPython.core.display.HTML object>"
      ]
     },
     "metadata": {},
     "output_type": "display_data"
    },
    {
     "name": "stdout",
     "output_type": "stream",
     "text": [
      "6\n",
      "PROCESS TIME: 3.9811246395111084\n",
      "merchant_60635\n"
     ]
    },
    {
     "data": {
      "text/html": [],
      "text/plain": [
       "<IPython.core.display.HTML object>"
      ]
     },
     "metadata": {},
     "output_type": "display_data"
    },
    {
     "name": "stdout",
     "output_type": "stream",
     "text": [
      "7\n",
      "PROCESS TIME: 3.932988405227661\n",
      "merchant_41304\n",
      "data is not enough 5\n",
      "PROCESS TIME: 2.6698484420776367\n",
      "merchant_62110\n",
      "data is not enough 3\n",
      "PROCESS TIME: 2.6711950302124023\n",
      "merchant_36759\n"
     ]
    },
    {
     "data": {
      "text/html": [],
      "text/plain": [
       "<IPython.core.display.HTML object>"
      ]
     },
     "metadata": {},
     "output_type": "display_data"
    },
    {
     "name": "stdout",
     "output_type": "stream",
     "text": [
      "10\n",
      "PROCESS TIME: 3.9293456077575684\n",
      "merchant_771\n"
     ]
    },
    {
     "data": {
      "text/html": [],
      "text/plain": [
       "<IPython.core.display.HTML object>"
      ]
     },
     "metadata": {},
     "output_type": "display_data"
    },
    {
     "name": "stdout",
     "output_type": "stream",
     "text": [
      "11\n",
      "PROCESS TIME: 3.7294583320617676\n",
      "merchant_44490\n"
     ]
    },
    {
     "data": {
      "text/html": [],
      "text/plain": [
       "<IPython.core.display.HTML object>"
      ]
     },
     "metadata": {},
     "output_type": "display_data"
    },
    {
     "name": "stdout",
     "output_type": "stream",
     "text": [
      "12\n",
      "PROCESS TIME: 4.002569913864136\n",
      "merchant_28618\n",
      "data is not enough 1\n",
      "PROCESS TIME: 0.046869754791259766\n",
      "merchant_46560\n"
     ]
    },
    {
     "data": {
      "text/html": [],
      "text/plain": [
       "<IPython.core.display.HTML object>"
      ]
     },
     "metadata": {},
     "output_type": "display_data"
    },
    {
     "name": "stdout",
     "output_type": "stream",
     "text": [
      "14\n",
      "PROCESS TIME: 3.9244344234466553\n",
      "merchant_23040\n"
     ]
    },
    {
     "data": {
      "text/html": [],
      "text/plain": [
       "<IPython.core.display.HTML object>"
      ]
     },
     "metadata": {},
     "output_type": "display_data"
    },
    {
     "name": "stdout",
     "output_type": "stream",
     "text": [
      "15\n",
      "PROCESS TIME: 3.773980140686035\n",
      "merchant_55742\n"
     ]
    },
    {
     "data": {
      "text/html": [],
      "text/plain": [
       "<IPython.core.display.HTML object>"
      ]
     },
     "metadata": {},
     "output_type": "display_data"
    },
    {
     "name": "stdout",
     "output_type": "stream",
     "text": [
      "16\n",
      "PROCESS TIME: 3.6521759033203125\n",
      "merchant_64238\n"
     ]
    },
    {
     "data": {
      "text/html": [],
      "text/plain": [
       "<IPython.core.display.HTML object>"
      ]
     },
     "metadata": {},
     "output_type": "display_data"
    },
    {
     "name": "stdout",
     "output_type": "stream",
     "text": [
      "17\n",
      "PROCESS TIME: 3.9402694702148438\n",
      "merchant_54790\n"
     ]
    },
    {
     "data": {
      "text/html": [],
      "text/plain": [
       "<IPython.core.display.HTML object>"
      ]
     },
     "metadata": {},
     "output_type": "display_data"
    },
    {
     "name": "stdout",
     "output_type": "stream",
     "text": [
      "18\n",
      "PROCESS TIME: 3.9652202129364014\n",
      "merchant_47501\n",
      "data is not enough 1\n",
      "PROCESS TIME: 0.07804083824157715\n",
      "merchant_11114\n"
     ]
    },
    {
     "data": {
      "text/html": [],
      "text/plain": [
       "<IPython.core.display.HTML object>"
      ]
     },
     "metadata": {},
     "output_type": "display_data"
    },
    {
     "name": "stdout",
     "output_type": "stream",
     "text": [
      "20\n",
      "PROCESS TIME: 3.645524501800537\n",
      "merchant_25139\n"
     ]
    },
    {
     "data": {
      "text/html": [],
      "text/plain": [
       "<IPython.core.display.HTML object>"
      ]
     },
     "metadata": {},
     "output_type": "display_data"
    },
    {
     "name": "stdout",
     "output_type": "stream",
     "text": [
      "21\n",
      "PROCESS TIME: 3.5974626541137695\n",
      "merchant_44608\n"
     ]
    },
    {
     "data": {
      "text/html": [],
      "text/plain": [
       "<IPython.core.display.HTML object>"
      ]
     },
     "metadata": {},
     "output_type": "display_data"
    },
    {
     "name": "stdout",
     "output_type": "stream",
     "text": [
      "22\n",
      "PROCESS TIME: 3.4794325828552246\n",
      "merchant_26364\n",
      "data is not enough 2\n",
      "PROCESS TIME: 2.6457719802856445\n",
      "merchant_36385\n"
     ]
    },
    {
     "data": {
      "text/html": [],
      "text/plain": [
       "<IPython.core.display.HTML object>"
      ]
     },
     "metadata": {},
     "output_type": "display_data"
    },
    {
     "name": "stdout",
     "output_type": "stream",
     "text": [
      "24\n",
      "PROCESS TIME: 3.5586600303649902\n",
      "merchant_59470\n"
     ]
    },
    {
     "data": {
      "text/html": [],
      "text/plain": [
       "<IPython.core.display.HTML object>"
      ]
     },
     "metadata": {},
     "output_type": "display_data"
    },
    {
     "name": "stdout",
     "output_type": "stream",
     "text": [
      "25\n",
      "PROCESS TIME: 3.478436231613159\n",
      "merchant_24846\n"
     ]
    },
    {
     "data": {
      "text/html": [],
      "text/plain": [
       "<IPython.core.display.HTML object>"
      ]
     },
     "metadata": {},
     "output_type": "display_data"
    },
    {
     "name": "stdout",
     "output_type": "stream",
     "text": [
      "26\n",
      "PROCESS TIME: 3.5831868648529053\n",
      "merchant_1207\n"
     ]
    },
    {
     "data": {
      "text/html": [],
      "text/plain": [
       "<IPython.core.display.HTML object>"
      ]
     },
     "metadata": {},
     "output_type": "display_data"
    },
    {
     "name": "stdout",
     "output_type": "stream",
     "text": [
      "27\n",
      "PROCESS TIME: 3.5948143005371094\n",
      "merchant_14165\n"
     ]
    },
    {
     "data": {
      "text/html": [],
      "text/plain": [
       "<IPython.core.display.HTML object>"
      ]
     },
     "metadata": {},
     "output_type": "display_data"
    },
    {
     "name": "stdout",
     "output_type": "stream",
     "text": [
      "28\n",
      "PROCESS TIME: 3.568380117416382\n",
      "merchant_53857\n",
      "data is not enough 4\n",
      "PROCESS TIME: 2.604400157928467\n",
      "merchant_32028\n",
      "data is not enough 4\n",
      "PROCESS TIME: 2.6284031867980957\n",
      "merchant_29609\n"
     ]
    },
    {
     "data": {
      "text/html": [],
      "text/plain": [
       "<IPython.core.display.HTML object>"
      ]
     },
     "metadata": {},
     "output_type": "display_data"
    },
    {
     "name": "stdout",
     "output_type": "stream",
     "text": [
      "31\n",
      "PROCESS TIME: 3.4820501804351807\n",
      "merchant_50385\n",
      "data is not enough 1\n",
      "PROCESS TIME: 0.04686450958251953\n",
      "merchant_42834\n",
      "data is not enough 1\n",
      "PROCESS TIME: 0.04686760902404785\n",
      "merchant_30640\n",
      "data is not enough 2\n",
      "PROCESS TIME: 2.632248640060425\n",
      "merchant_19110\n"
     ]
    },
    {
     "data": {
      "text/html": [],
      "text/plain": [
       "<IPython.core.display.HTML object>"
      ]
     },
     "metadata": {},
     "output_type": "display_data"
    },
    {
     "name": "stdout",
     "output_type": "stream",
     "text": [
      "35\n",
      "PROCESS TIME: 3.5031304359436035\n",
      "merchant_41502\n"
     ]
    },
    {
     "data": {
      "text/html": [],
      "text/plain": [
       "<IPython.core.display.HTML object>"
      ]
     },
     "metadata": {},
     "output_type": "display_data"
    },
    {
     "name": "stdout",
     "output_type": "stream",
     "text": [
      "36\n",
      "PROCESS TIME: 3.499793767929077\n",
      "merchant_19592\n"
     ]
    },
    {
     "data": {
      "text/html": [],
      "text/plain": [
       "<IPython.core.display.HTML object>"
      ]
     },
     "metadata": {},
     "output_type": "display_data"
    },
    {
     "name": "stdout",
     "output_type": "stream",
     "text": [
      "37\n",
      "PROCESS TIME: 3.427847146987915\n",
      "merchant_27850\n"
     ]
    },
    {
     "data": {
      "text/html": [],
      "text/plain": [
       "<IPython.core.display.HTML object>"
      ]
     },
     "metadata": {},
     "output_type": "display_data"
    },
    {
     "name": "stdout",
     "output_type": "stream",
     "text": [
      "38\n",
      "PROCESS TIME: 3.5349583625793457\n",
      "merchant_34447\n"
     ]
    },
    {
     "data": {
      "text/html": [],
      "text/plain": [
       "<IPython.core.display.HTML object>"
      ]
     },
     "metadata": {},
     "output_type": "display_data"
    },
    {
     "name": "stdout",
     "output_type": "stream",
     "text": [
      "39\n",
      "PROCESS TIME: 3.4974420070648193\n",
      "merchant_61840\n"
     ]
    },
    {
     "data": {
      "text/html": [],
      "text/plain": [
       "<IPython.core.display.HTML object>"
      ]
     },
     "metadata": {},
     "output_type": "display_data"
    },
    {
     "name": "stdout",
     "output_type": "stream",
     "text": [
      "40\n",
      "PROCESS TIME: 3.550018787384033\n",
      "merchant_28958\n"
     ]
    },
    {
     "data": {
      "text/html": [],
      "text/plain": [
       "<IPython.core.display.HTML object>"
      ]
     },
     "metadata": {},
     "output_type": "display_data"
    },
    {
     "name": "stdout",
     "output_type": "stream",
     "text": [
      "41\n",
      "PROCESS TIME: 3.447770357131958\n",
      "merchant_9969\n",
      "data is not enough 2\n",
      "PROCESS TIME: 2.616239309310913\n",
      "merchant_20472\n"
     ]
    },
    {
     "data": {
      "text/html": [],
      "text/plain": [
       "<IPython.core.display.HTML object>"
      ]
     },
     "metadata": {},
     "output_type": "display_data"
    },
    {
     "name": "stdout",
     "output_type": "stream",
     "text": [
      "43\n",
      "PROCESS TIME: 3.568471670150757\n",
      "merchant_32498\n"
     ]
    },
    {
     "data": {
      "text/html": [],
      "text/plain": [
       "<IPython.core.display.HTML object>"
      ]
     },
     "metadata": {},
     "output_type": "display_data"
    },
    {
     "name": "stdout",
     "output_type": "stream",
     "text": [
      "44\n",
      "PROCESS TIME: 3.539893627166748\n",
      "merchant_27084\n",
      "data is not enough 5\n",
      "PROCESS TIME: 2.6335926055908203\n",
      "merchant_45588\n"
     ]
    },
    {
     "data": {
      "text/html": [],
      "text/plain": [
       "<IPython.core.display.HTML object>"
      ]
     },
     "metadata": {},
     "output_type": "display_data"
    },
    {
     "name": "stdout",
     "output_type": "stream",
     "text": [
      "46\n",
      "PROCESS TIME: 3.60601806640625\n",
      "merchant_46235\n"
     ]
    },
    {
     "data": {
      "text/html": [],
      "text/plain": [
       "<IPython.core.display.HTML object>"
      ]
     },
     "metadata": {},
     "output_type": "display_data"
    },
    {
     "name": "stdout",
     "output_type": "stream",
     "text": [
      "47\n",
      "PROCESS TIME: 3.4819509983062744\n",
      "merchant_41837\n"
     ]
    },
    {
     "data": {
      "text/html": [],
      "text/plain": [
       "<IPython.core.display.HTML object>"
      ]
     },
     "metadata": {},
     "output_type": "display_data"
    },
    {
     "name": "stdout",
     "output_type": "stream",
     "text": [
      "48\n",
      "PROCESS TIME: 3.56371808052063\n",
      "merchant_13898\n",
      "data is not enough 2\n",
      "PROCESS TIME: 2.6368489265441895\n",
      "merchant_22898\n"
     ]
    },
    {
     "data": {
      "text/html": [],
      "text/plain": [
       "<IPython.core.display.HTML object>"
      ]
     },
     "metadata": {},
     "output_type": "display_data"
    },
    {
     "name": "stdout",
     "output_type": "stream",
     "text": [
      "50\n",
      "PROCESS TIME: 3.4627835750579834\n",
      "merchant_10804\n"
     ]
    },
    {
     "data": {
      "text/html": [],
      "text/plain": [
       "<IPython.core.display.HTML object>"
      ]
     },
     "metadata": {},
     "output_type": "display_data"
    },
    {
     "name": "stdout",
     "output_type": "stream",
     "text": [
      "51\n",
      "PROCESS TIME: 3.482060194015503\n",
      "merchant_52600\n",
      "data is not enough 3\n",
      "PROCESS TIME: 2.6251680850982666\n",
      "merchant_24094\n",
      "data is not enough 1\n",
      "PROCESS TIME: 0.04683947563171387\n",
      "merchant_57991\n"
     ]
    },
    {
     "data": {
      "text/html": [],
      "text/plain": [
       "<IPython.core.display.HTML object>"
      ]
     },
     "metadata": {},
     "output_type": "display_data"
    },
    {
     "name": "stdout",
     "output_type": "stream",
     "text": [
      "54\n",
      "PROCESS TIME: 3.5928173065185547\n",
      "merchant_867\n"
     ]
    },
    {
     "data": {
      "text/html": [],
      "text/plain": [
       "<IPython.core.display.HTML object>"
      ]
     },
     "metadata": {},
     "output_type": "display_data"
    },
    {
     "name": "stdout",
     "output_type": "stream",
     "text": [
      "55\n",
      "PROCESS TIME: 3.5985116958618164\n",
      "merchant_16970\n",
      "data is not enough 2\n",
      "PROCESS TIME: 2.632444381713867\n",
      "merchant_25813\n"
     ]
    },
    {
     "data": {
      "text/html": [],
      "text/plain": [
       "<IPython.core.display.HTML object>"
      ]
     },
     "metadata": {},
     "output_type": "display_data"
    },
    {
     "name": "stdout",
     "output_type": "stream",
     "text": [
      "57\n",
      "PROCESS TIME: 3.5638303756713867\n",
      "merchant_58174\n"
     ]
    },
    {
     "data": {
      "text/html": [],
      "text/plain": [
       "<IPython.core.display.HTML object>"
      ]
     },
     "metadata": {},
     "output_type": "display_data"
    },
    {
     "name": "stdout",
     "output_type": "stream",
     "text": [
      "58\n",
      "PROCESS TIME: 3.5877511501312256\n",
      "merchant_28873\n"
     ]
    },
    {
     "data": {
      "text/html": [],
      "text/plain": [
       "<IPython.core.display.HTML object>"
      ]
     },
     "metadata": {},
     "output_type": "display_data"
    },
    {
     "name": "stdout",
     "output_type": "stream",
     "text": [
      "59\n",
      "PROCESS TIME: 3.55881404876709\n",
      "merchant_28973\n"
     ]
    },
    {
     "data": {
      "text/html": [],
      "text/plain": [
       "<IPython.core.display.HTML object>"
      ]
     },
     "metadata": {},
     "output_type": "display_data"
    },
    {
     "name": "stdout",
     "output_type": "stream",
     "text": [
      "60\n",
      "PROCESS TIME: 3.6399478912353516\n",
      "merchant_34143\n"
     ]
    },
    {
     "data": {
      "text/html": [],
      "text/plain": [
       "<IPython.core.display.HTML object>"
      ]
     },
     "metadata": {},
     "output_type": "display_data"
    },
    {
     "name": "stdout",
     "output_type": "stream",
     "text": [
      "61\n",
      "PROCESS TIME: 3.5251967906951904\n",
      "merchant_29820\n"
     ]
    },
    {
     "data": {
      "text/html": [],
      "text/plain": [
       "<IPython.core.display.HTML object>"
      ]
     },
     "metadata": {},
     "output_type": "display_data"
    },
    {
     "name": "stdout",
     "output_type": "stream",
     "text": [
      "62\n",
      "PROCESS TIME: 3.6007027626037598\n",
      "merchant_890\n"
     ]
    },
    {
     "data": {
      "text/html": [],
      "text/plain": [
       "<IPython.core.display.HTML object>"
      ]
     },
     "metadata": {},
     "output_type": "display_data"
    },
    {
     "name": "stdout",
     "output_type": "stream",
     "text": [
      "63\n",
      "PROCESS TIME: 3.497011423110962\n",
      "merchant_554\n"
     ]
    },
    {
     "data": {
      "text/html": [],
      "text/plain": [
       "<IPython.core.display.HTML object>"
      ]
     },
     "metadata": {},
     "output_type": "display_data"
    },
    {
     "name": "stdout",
     "output_type": "stream",
     "text": [
      "64\n",
      "PROCESS TIME: 3.5976433753967285\n",
      "merchant_34234\n"
     ]
    },
    {
     "data": {
      "text/html": [],
      "text/plain": [
       "<IPython.core.display.HTML object>"
      ]
     },
     "metadata": {},
     "output_type": "display_data"
    },
    {
     "name": "stdout",
     "output_type": "stream",
     "text": [
      "65\n",
      "PROCESS TIME: 3.618272542953491\n",
      "merchant_9792\n"
     ]
    },
    {
     "data": {
      "text/html": [],
      "text/plain": [
       "<IPython.core.display.HTML object>"
      ]
     },
     "metadata": {},
     "output_type": "display_data"
    },
    {
     "name": "stdout",
     "output_type": "stream",
     "text": [
      "66\n",
      "PROCESS TIME: 3.5675652027130127\n",
      "merchant_34081\n"
     ]
    },
    {
     "data": {
      "text/html": [],
      "text/plain": [
       "<IPython.core.display.HTML object>"
      ]
     },
     "metadata": {},
     "output_type": "display_data"
    },
    {
     "name": "stdout",
     "output_type": "stream",
     "text": [
      "67\n",
      "PROCESS TIME: 3.594006061553955\n",
      "merchant_48770\n"
     ]
    },
    {
     "data": {
      "text/html": [],
      "text/plain": [
       "<IPython.core.display.HTML object>"
      ]
     },
     "metadata": {},
     "output_type": "display_data"
    },
    {
     "name": "stdout",
     "output_type": "stream",
     "text": [
      "68\n",
      "PROCESS TIME: 3.5401623249053955\n",
      "merchant_4485\n"
     ]
    },
    {
     "data": {
      "text/html": [],
      "text/plain": [
       "<IPython.core.display.HTML object>"
      ]
     },
     "metadata": {},
     "output_type": "display_data"
    },
    {
     "name": "stdout",
     "output_type": "stream",
     "text": [
      "69\n",
      "PROCESS TIME: 3.5484726428985596\n",
      "merchant_43105\n"
     ]
    },
    {
     "data": {
      "text/html": [],
      "text/plain": [
       "<IPython.core.display.HTML object>"
      ]
     },
     "metadata": {},
     "output_type": "display_data"
    },
    {
     "name": "stdout",
     "output_type": "stream",
     "text": [
      "70\n",
      "PROCESS TIME: 3.492913007736206\n",
      "merchant_30090\n"
     ]
    },
    {
     "data": {
      "text/html": [],
      "text/plain": [
       "<IPython.core.display.HTML object>"
      ]
     },
     "metadata": {},
     "output_type": "display_data"
    },
    {
     "name": "stdout",
     "output_type": "stream",
     "text": [
      "71\n",
      "PROCESS TIME: 3.463716745376587\n",
      "merchant_57363\n",
      "data is not enough 4\n",
      "PROCESS TIME: 2.6199147701263428\n",
      "merchant_65882\n",
      "data is not enough 1\n",
      "PROCESS TIME: 0.0469052791595459\n",
      "merchant_59870\n",
      "data is not enough 5\n",
      "PROCESS TIME: 2.633624792098999\n",
      "merchant_52285\n",
      "data is not enough 1\n",
      "PROCESS TIME: 0.046839237213134766\n",
      "merchant_6554\n"
     ]
    },
    {
     "data": {
      "text/html": [],
      "text/plain": [
       "<IPython.core.display.HTML object>"
      ]
     },
     "metadata": {},
     "output_type": "display_data"
    },
    {
     "name": "stdout",
     "output_type": "stream",
     "text": [
      "76\n",
      "PROCESS TIME: 3.5191490650177\n",
      "merchant_4033\n"
     ]
    },
    {
     "data": {
      "text/html": [],
      "text/plain": [
       "<IPython.core.display.HTML object>"
      ]
     },
     "metadata": {},
     "output_type": "display_data"
    },
    {
     "name": "stdout",
     "output_type": "stream",
     "text": [
      "77\n",
      "PROCESS TIME: 3.580432653427124\n",
      "merchant_30985\n"
     ]
    },
    {
     "data": {
      "text/html": [],
      "text/plain": [
       "<IPython.core.display.HTML object>"
      ]
     },
     "metadata": {},
     "output_type": "display_data"
    },
    {
     "name": "stdout",
     "output_type": "stream",
     "text": [
      "78\n",
      "PROCESS TIME: 3.4682533740997314\n",
      "merchant_40748\n"
     ]
    },
    {
     "data": {
      "text/html": [],
      "text/plain": [
       "<IPython.core.display.HTML object>"
      ]
     },
     "metadata": {},
     "output_type": "display_data"
    },
    {
     "name": "stdout",
     "output_type": "stream",
     "text": [
      "79\n",
      "PROCESS TIME: 3.5134854316711426\n",
      "merchant_28076\n"
     ]
    },
    {
     "data": {
      "text/html": [],
      "text/plain": [
       "<IPython.core.display.HTML object>"
      ]
     },
     "metadata": {},
     "output_type": "display_data"
    },
    {
     "name": "stdout",
     "output_type": "stream",
     "text": [
      "80\n",
      "PROCESS TIME: 3.5160598754882812\n",
      "merchant_57779\n"
     ]
    },
    {
     "data": {
      "text/html": [],
      "text/plain": [
       "<IPython.core.display.HTML object>"
      ]
     },
     "metadata": {},
     "output_type": "display_data"
    },
    {
     "name": "stdout",
     "output_type": "stream",
     "text": [
      "81\n",
      "PROCESS TIME: 3.6293554306030273\n",
      "merchant_51693\n"
     ]
    },
    {
     "data": {
      "text/html": [],
      "text/plain": [
       "<IPython.core.display.HTML object>"
      ]
     },
     "metadata": {},
     "output_type": "display_data"
    },
    {
     "name": "stdout",
     "output_type": "stream",
     "text": [
      "82\n",
      "PROCESS TIME: 3.7823965549468994\n",
      "merchant_41855\n"
     ]
    },
    {
     "data": {
      "text/html": [],
      "text/plain": [
       "<IPython.core.display.HTML object>"
      ]
     },
     "metadata": {},
     "output_type": "display_data"
    },
    {
     "name": "stdout",
     "output_type": "stream",
     "text": [
      "83\n",
      "PROCESS TIME: 3.501462459564209\n",
      "merchant_353\n"
     ]
    },
    {
     "data": {
      "text/html": [],
      "text/plain": [
       "<IPython.core.display.HTML object>"
      ]
     },
     "metadata": {},
     "output_type": "display_data"
    },
    {
     "name": "stdout",
     "output_type": "stream",
     "text": [
      "84\n",
      "PROCESS TIME: 3.549766778945923\n",
      "merchant_59883\n"
     ]
    },
    {
     "data": {
      "text/html": [],
      "text/plain": [
       "<IPython.core.display.HTML object>"
      ]
     },
     "metadata": {},
     "output_type": "display_data"
    },
    {
     "name": "stdout",
     "output_type": "stream",
     "text": [
      "85\n",
      "PROCESS TIME: 3.51288104057312\n",
      "merchant_15683\n"
     ]
    },
    {
     "data": {
      "text/html": [],
      "text/plain": [
       "<IPython.core.display.HTML object>"
      ]
     },
     "metadata": {},
     "output_type": "display_data"
    },
    {
     "name": "stdout",
     "output_type": "stream",
     "text": [
      "86\n",
      "PROCESS TIME: 3.583784341812134\n",
      "merchant_56212\n"
     ]
    },
    {
     "data": {
      "text/html": [],
      "text/plain": [
       "<IPython.core.display.HTML object>"
      ]
     },
     "metadata": {},
     "output_type": "display_data"
    },
    {
     "name": "stdout",
     "output_type": "stream",
     "text": [
      "87\n",
      "PROCESS TIME: 3.4987995624542236\n",
      "merchant_6621\n"
     ]
    },
    {
     "data": {
      "text/html": [],
      "text/plain": [
       "<IPython.core.display.HTML object>"
      ]
     },
     "metadata": {},
     "output_type": "display_data"
    },
    {
     "name": "stdout",
     "output_type": "stream",
     "text": [
      "88\n",
      "PROCESS TIME: 3.588667869567871\n",
      "merchant_12211\n"
     ]
    },
    {
     "data": {
      "text/html": [],
      "text/plain": [
       "<IPython.core.display.HTML object>"
      ]
     },
     "metadata": {},
     "output_type": "display_data"
    },
    {
     "name": "stdout",
     "output_type": "stream",
     "text": [
      "89\n",
      "PROCESS TIME: 3.642223596572876\n",
      "merchant_38544\n",
      "data is not enough 1\n",
      "PROCESS TIME: 0.03124523162841797\n",
      "merchant_62077\n",
      "data is not enough 1\n",
      "PROCESS TIME: 0.046869754791259766\n",
      "merchant_39383\n",
      "data is not enough 2\n",
      "PROCESS TIME: 2.6308817863464355\n",
      "merchant_42098\n"
     ]
    },
    {
     "data": {
      "text/html": [],
      "text/plain": [
       "<IPython.core.display.HTML object>"
      ]
     },
     "metadata": {},
     "output_type": "display_data"
    },
    {
     "name": "stdout",
     "output_type": "stream",
     "text": [
      "93\n",
      "PROCESS TIME: 3.4704909324645996\n",
      "merchant_51040\n"
     ]
    },
    {
     "data": {
      "text/html": [],
      "text/plain": [
       "<IPython.core.display.HTML object>"
      ]
     },
     "metadata": {},
     "output_type": "display_data"
    },
    {
     "name": "stdout",
     "output_type": "stream",
     "text": [
      "94\n",
      "PROCESS TIME: 3.5336971282958984\n",
      "merchant_10360\n",
      "data is not enough 5\n",
      "PROCESS TIME: 2.633920907974243\n",
      "merchant_310\n"
     ]
    },
    {
     "data": {
      "text/html": [],
      "text/plain": [
       "<IPython.core.display.HTML object>"
      ]
     },
     "metadata": {},
     "output_type": "display_data"
    },
    {
     "name": "stdout",
     "output_type": "stream",
     "text": [
      "96\n",
      "PROCESS TIME: 3.6281096935272217\n",
      "merchant_60885\n"
     ]
    },
    {
     "data": {
      "text/html": [],
      "text/plain": [
       "<IPython.core.display.HTML object>"
      ]
     },
     "metadata": {},
     "output_type": "display_data"
    },
    {
     "name": "stdout",
     "output_type": "stream",
     "text": [
      "97\n",
      "PROCESS TIME: 3.470378875732422\n",
      "merchant_64484\n"
     ]
    },
    {
     "data": {
      "text/html": [],
      "text/plain": [
       "<IPython.core.display.HTML object>"
      ]
     },
     "metadata": {},
     "output_type": "display_data"
    },
    {
     "name": "stdout",
     "output_type": "stream",
     "text": [
      "98\n",
      "PROCESS TIME: 3.4949488639831543\n",
      "merchant_60222\n"
     ]
    },
    {
     "data": {
      "text/html": [],
      "text/plain": [
       "<IPython.core.display.HTML object>"
      ]
     },
     "metadata": {},
     "output_type": "display_data"
    },
    {
     "name": "stdout",
     "output_type": "stream",
     "text": [
      "99\n",
      "PROCESS TIME: 3.508716583251953\n",
      "merchant_38707\n"
     ]
    },
    {
     "data": {
      "text/html": [],
      "text/plain": [
       "<IPython.core.display.HTML object>"
      ]
     },
     "metadata": {},
     "output_type": "display_data"
    },
    {
     "name": "stdout",
     "output_type": "stream",
     "text": [
      "100\n",
      "PROCESS TIME: 3.475217819213867\n",
      "merchant_57419\n",
      "data is not enough 4\n",
      "PROCESS TIME: 2.649169683456421\n",
      "merchant_22269\n"
     ]
    },
    {
     "data": {
      "text/html": [],
      "text/plain": [
       "<IPython.core.display.HTML object>"
      ]
     },
     "metadata": {},
     "output_type": "display_data"
    },
    {
     "name": "stdout",
     "output_type": "stream",
     "text": [
      "102\n",
      "PROCESS TIME: 3.4976015090942383\n",
      "merchant_153\n",
      "data is not enough 5\n",
      "PROCESS TIME: 2.630953311920166\n",
      "merchant_36296\n"
     ]
    },
    {
     "data": {
      "text/html": [],
      "text/plain": [
       "<IPython.core.display.HTML object>"
      ]
     },
     "metadata": {},
     "output_type": "display_data"
    },
    {
     "name": "stdout",
     "output_type": "stream",
     "text": [
      "104\n",
      "PROCESS TIME: 3.5002472400665283\n",
      "merchant_30122\n"
     ]
    },
    {
     "data": {
      "text/html": [],
      "text/plain": [
       "<IPython.core.display.HTML object>"
      ]
     },
     "metadata": {},
     "output_type": "display_data"
    },
    {
     "name": "stdout",
     "output_type": "stream",
     "text": [
      "105\n",
      "PROCESS TIME: 3.496058225631714\n",
      "merchant_57613\n"
     ]
    },
    {
     "data": {
      "text/html": [],
      "text/plain": [
       "<IPython.core.display.HTML object>"
      ]
     },
     "metadata": {},
     "output_type": "display_data"
    },
    {
     "name": "stdout",
     "output_type": "stream",
     "text": [
      "106\n",
      "PROCESS TIME: 3.5174179077148438\n",
      "merchant_48474\n"
     ]
    },
    {
     "data": {
      "text/html": [],
      "text/plain": [
       "<IPython.core.display.HTML object>"
      ]
     },
     "metadata": {},
     "output_type": "display_data"
    },
    {
     "name": "stdout",
     "output_type": "stream",
     "text": [
      "107\n",
      "PROCESS TIME: 3.5993242263793945\n",
      "merchant_45112\n"
     ]
    },
    {
     "data": {
      "text/html": [],
      "text/plain": [
       "<IPython.core.display.HTML object>"
      ]
     },
     "metadata": {},
     "output_type": "display_data"
    },
    {
     "name": "stdout",
     "output_type": "stream",
     "text": [
      "108\n",
      "PROCESS TIME: 3.4990694522857666\n",
      "merchant_67427\n"
     ]
    },
    {
     "data": {
      "text/html": [],
      "text/plain": [
       "<IPython.core.display.HTML object>"
      ]
     },
     "metadata": {},
     "output_type": "display_data"
    },
    {
     "name": "stdout",
     "output_type": "stream",
     "text": [
      "109\n",
      "PROCESS TIME: 3.49713134765625\n",
      "merchant_32374\n",
      "data is not enough 3\n",
      "PROCESS TIME: 2.6193594932556152\n",
      "merchant_10479\n"
     ]
    },
    {
     "data": {
      "text/html": [],
      "text/plain": [
       "<IPython.core.display.HTML object>"
      ]
     },
     "metadata": {},
     "output_type": "display_data"
    },
    {
     "name": "stdout",
     "output_type": "stream",
     "text": [
      "111\n",
      "PROCESS TIME: 3.479222059249878\n",
      "merchant_4004\n",
      "data is not enough 2\n",
      "PROCESS TIME: 2.6180965900421143\n",
      "merchant_35133\n"
     ]
    },
    {
     "data": {
      "text/html": [],
      "text/plain": [
       "<IPython.core.display.HTML object>"
      ]
     },
     "metadata": {},
     "output_type": "display_data"
    },
    {
     "name": "stdout",
     "output_type": "stream",
     "text": [
      "113\n",
      "PROCESS TIME: 3.6353487968444824\n",
      "merchant_32574\n"
     ]
    },
    {
     "data": {
      "text/html": [],
      "text/plain": [
       "<IPython.core.display.HTML object>"
      ]
     },
     "metadata": {},
     "output_type": "display_data"
    },
    {
     "name": "stdout",
     "output_type": "stream",
     "text": [
      "114\n",
      "PROCESS TIME: 3.5210728645324707\n",
      "merchant_14828\n"
     ]
    },
    {
     "data": {
      "text/html": [],
      "text/plain": [
       "<IPython.core.display.HTML object>"
      ]
     },
     "metadata": {},
     "output_type": "display_data"
    },
    {
     "name": "stdout",
     "output_type": "stream",
     "text": [
      "115\n",
      "PROCESS TIME: 3.6717143058776855\n",
      "merchant_25847\n"
     ]
    },
    {
     "data": {
      "text/html": [],
      "text/plain": [
       "<IPython.core.display.HTML object>"
      ]
     },
     "metadata": {},
     "output_type": "display_data"
    },
    {
     "name": "stdout",
     "output_type": "stream",
     "text": [
      "116\n",
      "PROCESS TIME: 3.5824060440063477\n",
      "merchant_1283\n"
     ]
    },
    {
     "data": {
      "text/html": [],
      "text/plain": [
       "<IPython.core.display.HTML object>"
      ]
     },
     "metadata": {},
     "output_type": "display_data"
    },
    {
     "name": "stdout",
     "output_type": "stream",
     "text": [
      "117\n",
      "PROCESS TIME: 3.4488260746002197\n",
      "merchant_52516\n",
      "data is not enough 3\n",
      "PROCESS TIME: 2.634208917617798\n",
      "merchant_56876\n"
     ]
    },
    {
     "data": {
      "text/html": [],
      "text/plain": [
       "<IPython.core.display.HTML object>"
      ]
     },
     "metadata": {},
     "output_type": "display_data"
    },
    {
     "name": "stdout",
     "output_type": "stream",
     "text": [
      "119\n",
      "PROCESS TIME: 3.495173931121826\n",
      "merchant_67581\n"
     ]
    },
    {
     "data": {
      "text/html": [],
      "text/plain": [
       "<IPython.core.display.HTML object>"
      ]
     },
     "metadata": {},
     "output_type": "display_data"
    },
    {
     "name": "stdout",
     "output_type": "stream",
     "text": [
      "120\n",
      "PROCESS TIME: 3.5479278564453125\n",
      "merchant_27828\n"
     ]
    },
    {
     "data": {
      "text/html": [],
      "text/plain": [
       "<IPython.core.display.HTML object>"
      ]
     },
     "metadata": {},
     "output_type": "display_data"
    },
    {
     "name": "stdout",
     "output_type": "stream",
     "text": [
      "121\n",
      "PROCESS TIME: 3.576885461807251\n",
      "merchant_38280\n"
     ]
    },
    {
     "data": {
      "text/html": [],
      "text/plain": [
       "<IPython.core.display.HTML object>"
      ]
     },
     "metadata": {},
     "output_type": "display_data"
    },
    {
     "name": "stdout",
     "output_type": "stream",
     "text": [
      "122\n",
      "PROCESS TIME: 3.5911571979522705\n",
      "merchant_29717\n",
      "data is not enough 1\n",
      "PROCESS TIME: 0.037172794342041016\n",
      "merchant_52927\n",
      "data is not enough 4\n",
      "PROCESS TIME: 2.63071346282959\n",
      "merchant_54339\n"
     ]
    },
    {
     "data": {
      "text/html": [],
      "text/plain": [
       "<IPython.core.display.HTML object>"
      ]
     },
     "metadata": {},
     "output_type": "display_data"
    },
    {
     "name": "stdout",
     "output_type": "stream",
     "text": [
      "125\n",
      "PROCESS TIME: 3.5601723194122314\n",
      "merchant_44607\n",
      "data is not enough 3\n",
      "PROCESS TIME: 2.6437737941741943\n",
      "merchant_29747\n",
      "data is not enough 1\n",
      "PROCESS TIME: 0.03124690055847168\n",
      "merchant_10762\n"
     ]
    },
    {
     "data": {
      "text/html": [],
      "text/plain": [
       "<IPython.core.display.HTML object>"
      ]
     },
     "metadata": {},
     "output_type": "display_data"
    },
    {
     "name": "stdout",
     "output_type": "stream",
     "text": [
      "128\n",
      "PROCESS TIME: 3.62219500541687\n",
      "merchant_64565\n"
     ]
    },
    {
     "data": {
      "text/html": [],
      "text/plain": [
       "<IPython.core.display.HTML object>"
      ]
     },
     "metadata": {},
     "output_type": "display_data"
    },
    {
     "name": "stdout",
     "output_type": "stream",
     "text": [
      "129\n",
      "PROCESS TIME: 3.43582820892334\n",
      "merchant_48510\n",
      "data is not enough 2\n",
      "PROCESS TIME: 2.6243503093719482\n",
      "merchant_27857\n"
     ]
    },
    {
     "data": {
      "text/html": [],
      "text/plain": [
       "<IPython.core.display.HTML object>"
      ]
     },
     "metadata": {},
     "output_type": "display_data"
    },
    {
     "name": "stdout",
     "output_type": "stream",
     "text": [
      "131\n",
      "PROCESS TIME: 3.4921207427978516\n",
      "merchant_10078\n"
     ]
    },
    {
     "data": {
      "text/html": [],
      "text/plain": [
       "<IPython.core.display.HTML object>"
      ]
     },
     "metadata": {},
     "output_type": "display_data"
    },
    {
     "name": "stdout",
     "output_type": "stream",
     "text": [
      "132\n",
      "PROCESS TIME: 3.613652467727661\n",
      "merchant_61274\n",
      "data is not enough 5\n",
      "PROCESS TIME: 2.6287648677825928\n",
      "merchant_21861\n",
      "data is not enough 1\n",
      "PROCESS TIME: 0.04680371284484863\n",
      "merchant_42421\n",
      "data is not enough 5\n",
      "PROCESS TIME: 2.6173713207244873\n",
      "merchant_21675\n"
     ]
    },
    {
     "data": {
      "text/html": [],
      "text/plain": [
       "<IPython.core.display.HTML object>"
      ]
     },
     "metadata": {},
     "output_type": "display_data"
    },
    {
     "name": "stdout",
     "output_type": "stream",
     "text": [
      "136\n",
      "PROCESS TIME: 3.519606590270996\n",
      "merchant_26411\n"
     ]
    },
    {
     "data": {
      "text/html": [],
      "text/plain": [
       "<IPython.core.display.HTML object>"
      ]
     },
     "metadata": {},
     "output_type": "display_data"
    },
    {
     "name": "stdout",
     "output_type": "stream",
     "text": [
      "137\n",
      "PROCESS TIME: 3.598048448562622\n",
      "merchant_8333\n"
     ]
    },
    {
     "data": {
      "text/html": [],
      "text/plain": [
       "<IPython.core.display.HTML object>"
      ]
     },
     "metadata": {},
     "output_type": "display_data"
    },
    {
     "name": "stdout",
     "output_type": "stream",
     "text": [
      "138\n",
      "PROCESS TIME: 3.5830111503601074\n",
      "merchant_39036\n",
      "data is not enough 1\n",
      "PROCESS TIME: 0.04686927795410156\n",
      "merchant_38860\n"
     ]
    },
    {
     "data": {
      "text/html": [],
      "text/plain": [
       "<IPython.core.display.HTML object>"
      ]
     },
     "metadata": {},
     "output_type": "display_data"
    },
    {
     "name": "stdout",
     "output_type": "stream",
     "text": [
      "140\n",
      "PROCESS TIME: 3.489429473876953\n",
      "merchant_46967\n"
     ]
    },
    {
     "data": {
      "text/html": [],
      "text/plain": [
       "<IPython.core.display.HTML object>"
      ]
     },
     "metadata": {},
     "output_type": "display_data"
    },
    {
     "name": "stdout",
     "output_type": "stream",
     "text": [
      "141\n",
      "PROCESS TIME: 3.611300230026245\n",
      "merchant_45864\n"
     ]
    },
    {
     "data": {
      "text/html": [],
      "text/plain": [
       "<IPython.core.display.HTML object>"
      ]
     },
     "metadata": {},
     "output_type": "display_data"
    },
    {
     "name": "stdout",
     "output_type": "stream",
     "text": [
      "142\n",
      "PROCESS TIME: 3.565246343612671\n",
      "merchant_31853\n"
     ]
    },
    {
     "data": {
      "text/html": [],
      "text/plain": [
       "<IPython.core.display.HTML object>"
      ]
     },
     "metadata": {},
     "output_type": "display_data"
    },
    {
     "name": "stdout",
     "output_type": "stream",
     "text": [
      "143\n",
      "PROCESS TIME: 3.566272497177124\n",
      "merchant_49477\n"
     ]
    },
    {
     "data": {
      "text/html": [],
      "text/plain": [
       "<IPython.core.display.HTML object>"
      ]
     },
     "metadata": {},
     "output_type": "display_data"
    },
    {
     "name": "stdout",
     "output_type": "stream",
     "text": [
      "144\n",
      "PROCESS TIME: 3.515056848526001\n",
      "merchant_41464\n"
     ]
    },
    {
     "data": {
      "text/html": [],
      "text/plain": [
       "<IPython.core.display.HTML object>"
      ]
     },
     "metadata": {},
     "output_type": "display_data"
    },
    {
     "name": "stdout",
     "output_type": "stream",
     "text": [
      "145\n",
      "PROCESS TIME: 3.495817184448242\n",
      "merchant_52885\n",
      "data is not enough 2\n",
      "PROCESS TIME: 2.6162490844726562\n",
      "merchant_11152\n"
     ]
    },
    {
     "data": {
      "text/html": [],
      "text/plain": [
       "<IPython.core.display.HTML object>"
      ]
     },
     "metadata": {},
     "output_type": "display_data"
    },
    {
     "name": "stdout",
     "output_type": "stream",
     "text": [
      "147\n",
      "PROCESS TIME: 3.6666834354400635\n",
      "merchant_25939\n"
     ]
    },
    {
     "data": {
      "text/html": [],
      "text/plain": [
       "<IPython.core.display.HTML object>"
      ]
     },
     "metadata": {},
     "output_type": "display_data"
    },
    {
     "name": "stdout",
     "output_type": "stream",
     "text": [
      "148\n",
      "PROCESS TIME: 3.5249385833740234\n",
      "merchant_49692\n"
     ]
    },
    {
     "data": {
      "text/html": [],
      "text/plain": [
       "<IPython.core.display.HTML object>"
      ]
     },
     "metadata": {},
     "output_type": "display_data"
    },
    {
     "name": "stdout",
     "output_type": "stream",
     "text": [
      "149\n",
      "PROCESS TIME: 3.6053519248962402\n",
      "merchant_87\n"
     ]
    },
    {
     "data": {
      "text/html": [],
      "text/plain": [
       "<IPython.core.display.HTML object>"
      ]
     },
     "metadata": {},
     "output_type": "display_data"
    },
    {
     "name": "stdout",
     "output_type": "stream",
     "text": [
      "150\n",
      "PROCESS TIME: 3.5171473026275635\n",
      "merchant_63305\n"
     ]
    },
    {
     "data": {
      "text/html": [],
      "text/plain": [
       "<IPython.core.display.HTML object>"
      ]
     },
     "metadata": {},
     "output_type": "display_data"
    },
    {
     "name": "stdout",
     "output_type": "stream",
     "text": [
      "151\n",
      "PROCESS TIME: 3.508394241333008\n",
      "merchant_12646\n"
     ]
    },
    {
     "data": {
      "text/html": [],
      "text/plain": [
       "<IPython.core.display.HTML object>"
      ]
     },
     "metadata": {},
     "output_type": "display_data"
    },
    {
     "name": "stdout",
     "output_type": "stream",
     "text": [
      "152\n",
      "PROCESS TIME: 3.577942132949829\n",
      "merchant_39486\n"
     ]
    },
    {
     "data": {
      "text/html": [],
      "text/plain": [
       "<IPython.core.display.HTML object>"
      ]
     },
     "metadata": {},
     "output_type": "display_data"
    },
    {
     "name": "stdout",
     "output_type": "stream",
     "text": [
      "153\n",
      "PROCESS TIME: 3.6239287853240967\n",
      "merchant_60964\n"
     ]
    },
    {
     "data": {
      "text/html": [],
      "text/plain": [
       "<IPython.core.display.HTML object>"
      ]
     },
     "metadata": {},
     "output_type": "display_data"
    },
    {
     "name": "stdout",
     "output_type": "stream",
     "text": [
      "154\n",
      "PROCESS TIME: 3.550140380859375\n",
      "merchant_32650\n"
     ]
    },
    {
     "data": {
      "text/html": [],
      "text/plain": [
       "<IPython.core.display.HTML object>"
      ]
     },
     "metadata": {},
     "output_type": "display_data"
    },
    {
     "name": "stdout",
     "output_type": "stream",
     "text": [
      "155\n",
      "PROCESS TIME: 3.4994261264801025\n",
      "merchant_67708\n"
     ]
    },
    {
     "data": {
      "text/html": [],
      "text/plain": [
       "<IPython.core.display.HTML object>"
      ]
     },
     "metadata": {},
     "output_type": "display_data"
    },
    {
     "name": "stdout",
     "output_type": "stream",
     "text": [
      "156\n",
      "PROCESS TIME: 3.48958683013916\n",
      "merchant_12997\n"
     ]
    },
    {
     "data": {
      "text/html": [],
      "text/plain": [
       "<IPython.core.display.HTML object>"
      ]
     },
     "metadata": {},
     "output_type": "display_data"
    },
    {
     "name": "stdout",
     "output_type": "stream",
     "text": [
      "157\n",
      "PROCESS TIME: 3.607818841934204\n",
      "merchant_59206\n"
     ]
    },
    {
     "data": {
      "text/html": [],
      "text/plain": [
       "<IPython.core.display.HTML object>"
      ]
     },
     "metadata": {},
     "output_type": "display_data"
    },
    {
     "name": "stdout",
     "output_type": "stream",
     "text": [
      "158\n",
      "PROCESS TIME: 3.4637322425842285\n",
      "merchant_22681\n"
     ]
    },
    {
     "data": {
      "text/html": [],
      "text/plain": [
       "<IPython.core.display.HTML object>"
      ]
     },
     "metadata": {},
     "output_type": "display_data"
    },
    {
     "name": "stdout",
     "output_type": "stream",
     "text": [
      "159\n",
      "PROCESS TIME: 3.450636148452759\n",
      "merchant_13324\n"
     ]
    },
    {
     "data": {
      "text/html": [],
      "text/plain": [
       "<IPython.core.display.HTML object>"
      ]
     },
     "metadata": {},
     "output_type": "display_data"
    },
    {
     "name": "stdout",
     "output_type": "stream",
     "text": [
      "160\n",
      "PROCESS TIME: 3.497159957885742\n",
      "merchant_66850\n",
      "data is not enough 1\n",
      "PROCESS TIME: 0.04567694664001465\n",
      "merchant_60199\n"
     ]
    },
    {
     "data": {
      "text/html": [],
      "text/plain": [
       "<IPython.core.display.HTML object>"
      ]
     },
     "metadata": {},
     "output_type": "display_data"
    },
    {
     "name": "stdout",
     "output_type": "stream",
     "text": [
      "162\n",
      "PROCESS TIME: 3.5213000774383545\n",
      "merchant_60540\n"
     ]
    },
    {
     "data": {
      "text/html": [],
      "text/plain": [
       "<IPython.core.display.HTML object>"
      ]
     },
     "metadata": {},
     "output_type": "display_data"
    },
    {
     "name": "stdout",
     "output_type": "stream",
     "text": [
      "163\n",
      "PROCESS TIME: 3.631373405456543\n",
      "merchant_46997\n",
      "data is not enough 1\n",
      "PROCESS TIME: 0.031247615814208984\n",
      "merchant_13203\n"
     ]
    },
    {
     "data": {
      "text/html": [],
      "text/plain": [
       "<IPython.core.display.HTML object>"
      ]
     },
     "metadata": {},
     "output_type": "display_data"
    },
    {
     "name": "stdout",
     "output_type": "stream",
     "text": [
      "165\n",
      "PROCESS TIME: 3.520364284515381\n",
      "merchant_14442\n",
      "data is not enough 5\n",
      "PROCESS TIME: 2.6243033409118652\n",
      "merchant_22864\n"
     ]
    },
    {
     "data": {
      "text/html": [],
      "text/plain": [
       "<IPython.core.display.HTML object>"
      ]
     },
     "metadata": {},
     "output_type": "display_data"
    },
    {
     "name": "stdout",
     "output_type": "stream",
     "text": [
      "167\n",
      "PROCESS TIME: 3.6057932376861572\n",
      "merchant_29161\n"
     ]
    },
    {
     "data": {
      "text/html": [],
      "text/plain": [
       "<IPython.core.display.HTML object>"
      ]
     },
     "metadata": {},
     "output_type": "display_data"
    },
    {
     "name": "stdout",
     "output_type": "stream",
     "text": [
      "168\n",
      "PROCESS TIME: 3.529402017593384\n",
      "merchant_21610\n",
      "data is not enough 1\n",
      "PROCESS TIME: 0.031252145767211914\n",
      "merchant_65146\n"
     ]
    },
    {
     "data": {
      "text/html": [],
      "text/plain": [
       "<IPython.core.display.HTML object>"
      ]
     },
     "metadata": {},
     "output_type": "display_data"
    },
    {
     "name": "stdout",
     "output_type": "stream",
     "text": [
      "170\n",
      "PROCESS TIME: 3.518500566482544\n",
      "merchant_11416\n"
     ]
    },
    {
     "data": {
      "text/html": [],
      "text/plain": [
       "<IPython.core.display.HTML object>"
      ]
     },
     "metadata": {},
     "output_type": "display_data"
    },
    {
     "name": "stdout",
     "output_type": "stream",
     "text": [
      "171\n",
      "PROCESS TIME: 3.565739631652832\n",
      "merchant_40365\n",
      "data is not enough 1\n",
      "PROCESS TIME: 0.04686141014099121\n",
      "merchant_41298\n"
     ]
    },
    {
     "data": {
      "text/html": [],
      "text/plain": [
       "<IPython.core.display.HTML object>"
      ]
     },
     "metadata": {},
     "output_type": "display_data"
    },
    {
     "name": "stdout",
     "output_type": "stream",
     "text": [
      "173\n",
      "PROCESS TIME: 3.5018420219421387\n",
      "merchant_20648\n"
     ]
    },
    {
     "data": {
      "text/html": [],
      "text/plain": [
       "<IPython.core.display.HTML object>"
      ]
     },
     "metadata": {},
     "output_type": "display_data"
    },
    {
     "name": "stdout",
     "output_type": "stream",
     "text": [
      "174\n",
      "PROCESS TIME: 3.483079433441162\n",
      "merchant_38169\n"
     ]
    },
    {
     "data": {
      "text/html": [],
      "text/plain": [
       "<IPython.core.display.HTML object>"
      ]
     },
     "metadata": {},
     "output_type": "display_data"
    },
    {
     "name": "stdout",
     "output_type": "stream",
     "text": [
      "175\n",
      "PROCESS TIME: 3.5321316719055176\n",
      "merchant_27584\n",
      "data is not enough 1\n",
      "PROCESS TIME: 0.031246423721313477\n",
      "merchant_67588\n"
     ]
    },
    {
     "data": {
      "text/html": [],
      "text/plain": [
       "<IPython.core.display.HTML object>"
      ]
     },
     "metadata": {},
     "output_type": "display_data"
    },
    {
     "name": "stdout",
     "output_type": "stream",
     "text": [
      "177\n",
      "PROCESS TIME: 3.5849416255950928\n",
      "merchant_57812\n",
      "data is not enough 3\n",
      "PROCESS TIME: 2.615727424621582\n",
      "merchant_33332\n"
     ]
    },
    {
     "data": {
      "text/html": [],
      "text/plain": [
       "<IPython.core.display.HTML object>"
      ]
     },
     "metadata": {},
     "output_type": "display_data"
    },
    {
     "name": "stdout",
     "output_type": "stream",
     "text": [
      "179\n",
      "PROCESS TIME: 3.68056321144104\n",
      "merchant_13837\n"
     ]
    },
    {
     "data": {
      "text/html": [],
      "text/plain": [
       "<IPython.core.display.HTML object>"
      ]
     },
     "metadata": {},
     "output_type": "display_data"
    },
    {
     "name": "stdout",
     "output_type": "stream",
     "text": [
      "180\n",
      "PROCESS TIME: 3.565544605255127\n",
      "merchant_25348\n"
     ]
    },
    {
     "data": {
      "text/html": [],
      "text/plain": [
       "<IPython.core.display.HTML object>"
      ]
     },
     "metadata": {},
     "output_type": "display_data"
    },
    {
     "name": "stdout",
     "output_type": "stream",
     "text": [
      "181\n",
      "PROCESS TIME: 3.516162157058716\n",
      "merchant_9916\n"
     ]
    },
    {
     "data": {
      "text/html": [],
      "text/plain": [
       "<IPython.core.display.HTML object>"
      ]
     },
     "metadata": {},
     "output_type": "display_data"
    },
    {
     "name": "stdout",
     "output_type": "stream",
     "text": [
      "182\n",
      "PROCESS TIME: 3.4479215145111084\n",
      "merchant_39669\n",
      "data is not enough 5\n",
      "PROCESS TIME: 2.6303048133850098\n",
      "merchant_24046\n"
     ]
    },
    {
     "data": {
      "text/html": [],
      "text/plain": [
       "<IPython.core.display.HTML object>"
      ]
     },
     "metadata": {},
     "output_type": "display_data"
    },
    {
     "name": "stdout",
     "output_type": "stream",
     "text": [
      "184\n",
      "PROCESS TIME: 3.4871413707733154\n",
      "merchant_14590\n",
      "data is not enough 1\n",
      "PROCESS TIME: 0.052411556243896484\n",
      "merchant_61392\n"
     ]
    },
    {
     "data": {
      "text/html": [],
      "text/plain": [
       "<IPython.core.display.HTML object>"
      ]
     },
     "metadata": {},
     "output_type": "display_data"
    },
    {
     "name": "stdout",
     "output_type": "stream",
     "text": [
      "186\n",
      "PROCESS TIME: 3.6756327152252197\n",
      "merchant_32965\n"
     ]
    },
    {
     "data": {
      "text/html": [],
      "text/plain": [
       "<IPython.core.display.HTML object>"
      ]
     },
     "metadata": {},
     "output_type": "display_data"
    },
    {
     "name": "stdout",
     "output_type": "stream",
     "text": [
      "187\n",
      "PROCESS TIME: 3.4686410427093506\n",
      "merchant_24311\n"
     ]
    },
    {
     "data": {
      "text/html": [],
      "text/plain": [
       "<IPython.core.display.HTML object>"
      ]
     },
     "metadata": {},
     "output_type": "display_data"
    },
    {
     "name": "stdout",
     "output_type": "stream",
     "text": [
      "188\n",
      "PROCESS TIME: 3.596919298171997\n",
      "merchant_6421\n",
      "data is not enough 1\n",
      "PROCESS TIME: 0.0468747615814209\n",
      "merchant_50613\n"
     ]
    },
    {
     "data": {
      "text/html": [],
      "text/plain": [
       "<IPython.core.display.HTML object>"
      ]
     },
     "metadata": {},
     "output_type": "display_data"
    },
    {
     "name": "stdout",
     "output_type": "stream",
     "text": [
      "190\n",
      "PROCESS TIME: 3.6046738624572754\n",
      "merchant_57280\n"
     ]
    },
    {
     "data": {
      "text/html": [],
      "text/plain": [
       "<IPython.core.display.HTML object>"
      ]
     },
     "metadata": {},
     "output_type": "display_data"
    },
    {
     "name": "stdout",
     "output_type": "stream",
     "text": [
      "191\n",
      "PROCESS TIME: 3.478724479675293\n",
      "merchant_59147\n",
      "data is not enough 4\n",
      "PROCESS TIME: 2.6507959365844727\n",
      "merchant_64116\n",
      "data is not enough 3\n",
      "PROCESS TIME: 2.625565767288208\n",
      "merchant_20601\n",
      "data is not enough 1\n",
      "PROCESS TIME: 0.05212259292602539\n",
      "merchant_7129\n"
     ]
    },
    {
     "data": {
      "text/html": [],
      "text/plain": [
       "<IPython.core.display.HTML object>"
      ]
     },
     "metadata": {},
     "output_type": "display_data"
    },
    {
     "name": "stdout",
     "output_type": "stream",
     "text": [
      "195\n",
      "PROCESS TIME: 3.501699924468994\n",
      "merchant_32723\n",
      "data is not enough 1\n",
      "PROCESS TIME: 0.0560603141784668\n",
      "merchant_18802\n"
     ]
    },
    {
     "data": {
      "text/html": [],
      "text/plain": [
       "<IPython.core.display.HTML object>"
      ]
     },
     "metadata": {},
     "output_type": "display_data"
    },
    {
     "name": "stdout",
     "output_type": "stream",
     "text": [
      "197\n",
      "PROCESS TIME: 3.5091137886047363\n",
      "merchant_49455\n",
      "data is not enough 1\n",
      "PROCESS TIME: 0.031248807907104492\n",
      "merchant_41926\n"
     ]
    },
    {
     "data": {
      "text/html": [],
      "text/plain": [
       "<IPython.core.display.HTML object>"
      ]
     },
     "metadata": {},
     "output_type": "display_data"
    },
    {
     "name": "stdout",
     "output_type": "stream",
     "text": [
      "199\n",
      "PROCESS TIME: 3.554718255996704\n",
      "merchant_2231\n",
      "data is not enough 5\n",
      "PROCESS TIME: 2.638206720352173\n",
      "merchant_17920\n",
      "data is not enough 4\n",
      "PROCESS TIME: 2.6388022899627686\n",
      "merchant_33291\n",
      "data is not enough 1\n",
      "PROCESS TIME: 0.046977996826171875\n",
      "merchant_3156\n"
     ]
    },
    {
     "data": {
      "text/html": [],
      "text/plain": [
       "<IPython.core.display.HTML object>"
      ]
     },
     "metadata": {},
     "output_type": "display_data"
    },
    {
     "name": "stdout",
     "output_type": "stream",
     "text": [
      "203\n",
      "PROCESS TIME: 3.5036535263061523\n",
      "merchant_61612\n",
      "data is not enough 1\n",
      "PROCESS TIME: 0.04687213897705078\n",
      "merchant_55680\n",
      "data is not enough 1\n",
      "PROCESS TIME: 0.046869516372680664\n",
      "merchant_6304\n",
      "data is not enough 1\n",
      "PROCESS TIME: 0.046871185302734375\n",
      "merchant_14851\n"
     ]
    },
    {
     "data": {
      "text/html": [],
      "text/plain": [
       "<IPython.core.display.HTML object>"
      ]
     },
     "metadata": {},
     "output_type": "display_data"
    },
    {
     "name": "stdout",
     "output_type": "stream",
     "text": [
      "207\n",
      "PROCESS TIME: 3.5098562240600586\n",
      "merchant_50740\n"
     ]
    },
    {
     "data": {
      "text/html": [],
      "text/plain": [
       "<IPython.core.display.HTML object>"
      ]
     },
     "metadata": {},
     "output_type": "display_data"
    },
    {
     "name": "stdout",
     "output_type": "stream",
     "text": [
      "208\n",
      "PROCESS TIME: 3.5687811374664307\n",
      "merchant_37424\n",
      "data is not enough 1\n",
      "PROCESS TIME: 0.04817986488342285\n",
      "merchant_12882\n"
     ]
    },
    {
     "data": {
      "text/html": [],
      "text/plain": [
       "<IPython.core.display.HTML object>"
      ]
     },
     "metadata": {},
     "output_type": "display_data"
    },
    {
     "name": "stdout",
     "output_type": "stream",
     "text": [
      "210\n",
      "PROCESS TIME: 3.6140592098236084\n",
      "merchant_9291\n"
     ]
    },
    {
     "data": {
      "text/html": [],
      "text/plain": [
       "<IPython.core.display.HTML object>"
      ]
     },
     "metadata": {},
     "output_type": "display_data"
    },
    {
     "name": "stdout",
     "output_type": "stream",
     "text": [
      "211\n",
      "PROCESS TIME: 3.5988502502441406\n",
      "merchant_45541\n"
     ]
    },
    {
     "data": {
      "text/html": [],
      "text/plain": [
       "<IPython.core.display.HTML object>"
      ]
     },
     "metadata": {},
     "output_type": "display_data"
    },
    {
     "name": "stdout",
     "output_type": "stream",
     "text": [
      "212\n",
      "PROCESS TIME: 3.61247181892395\n",
      "merchant_22936\n"
     ]
    },
    {
     "data": {
      "text/html": [],
      "text/plain": [
       "<IPython.core.display.HTML object>"
      ]
     },
     "metadata": {},
     "output_type": "display_data"
    },
    {
     "name": "stdout",
     "output_type": "stream",
     "text": [
      "213\n",
      "PROCESS TIME: 3.7506895065307617\n",
      "merchant_42921\n",
      "data is not enough 5\n",
      "PROCESS TIME: 2.6264431476593018\n",
      "merchant_51332\n"
     ]
    },
    {
     "data": {
      "text/html": [],
      "text/plain": [
       "<IPython.core.display.HTML object>"
      ]
     },
     "metadata": {},
     "output_type": "display_data"
    },
    {
     "name": "stdout",
     "output_type": "stream",
     "text": [
      "215\n",
      "PROCESS TIME: 3.538928985595703\n",
      "merchant_30733\n"
     ]
    },
    {
     "data": {
      "text/html": [],
      "text/plain": [
       "<IPython.core.display.HTML object>"
      ]
     },
     "metadata": {},
     "output_type": "display_data"
    },
    {
     "name": "stdout",
     "output_type": "stream",
     "text": [
      "216\n",
      "PROCESS TIME: 3.4678525924682617\n",
      "merchant_64598\n"
     ]
    },
    {
     "data": {
      "text/html": [],
      "text/plain": [
       "<IPython.core.display.HTML object>"
      ]
     },
     "metadata": {},
     "output_type": "display_data"
    },
    {
     "name": "stdout",
     "output_type": "stream",
     "text": [
      "217\n",
      "PROCESS TIME: 3.446361780166626\n",
      "merchant_42294\n"
     ]
    },
    {
     "data": {
      "text/html": [],
      "text/plain": [
       "<IPython.core.display.HTML object>"
      ]
     },
     "metadata": {},
     "output_type": "display_data"
    },
    {
     "name": "stdout",
     "output_type": "stream",
     "text": [
      "218\n",
      "PROCESS TIME: 3.783263683319092\n",
      "merchant_43304\n"
     ]
    },
    {
     "data": {
      "text/html": [],
      "text/plain": [
       "<IPython.core.display.HTML object>"
      ]
     },
     "metadata": {},
     "output_type": "display_data"
    },
    {
     "name": "stdout",
     "output_type": "stream",
     "text": [
      "219\n",
      "PROCESS TIME: 3.546003580093384\n",
      "merchant_6410\n"
     ]
    },
    {
     "data": {
      "text/html": [],
      "text/plain": [
       "<IPython.core.display.HTML object>"
      ]
     },
     "metadata": {},
     "output_type": "display_data"
    },
    {
     "name": "stdout",
     "output_type": "stream",
     "text": [
      "220\n",
      "PROCESS TIME: 3.6005733013153076\n",
      "merchant_33102\n",
      "data is not enough 1\n",
      "PROCESS TIME: 0.04696393013000488\n",
      "merchant_67470\n"
     ]
    },
    {
     "data": {
      "text/html": [],
      "text/plain": [
       "<IPython.core.display.HTML object>"
      ]
     },
     "metadata": {},
     "output_type": "display_data"
    },
    {
     "name": "stdout",
     "output_type": "stream",
     "text": [
      "222\n",
      "PROCESS TIME: 3.5999555587768555\n",
      "merchant_4054\n"
     ]
    },
    {
     "data": {
      "text/html": [],
      "text/plain": [
       "<IPython.core.display.HTML object>"
      ]
     },
     "metadata": {},
     "output_type": "display_data"
    },
    {
     "name": "stdout",
     "output_type": "stream",
     "text": [
      "223\n",
      "PROCESS TIME: 3.6006836891174316\n",
      "merchant_24015\n"
     ]
    },
    {
     "data": {
      "text/html": [],
      "text/plain": [
       "<IPython.core.display.HTML object>"
      ]
     },
     "metadata": {},
     "output_type": "display_data"
    },
    {
     "name": "stdout",
     "output_type": "stream",
     "text": [
      "224\n",
      "PROCESS TIME: 3.5802340507507324\n",
      "merchant_36668\n",
      "data is not enough 1\n",
      "PROCESS TIME: 0.04679679870605469\n",
      "merchant_11669\n",
      "data is not enough 3\n",
      "PROCESS TIME: 2.6230456829071045\n",
      "merchant_19821\n"
     ]
    },
    {
     "data": {
      "text/html": [],
      "text/plain": [
       "<IPython.core.display.HTML object>"
      ]
     },
     "metadata": {},
     "output_type": "display_data"
    },
    {
     "name": "stdout",
     "output_type": "stream",
     "text": [
      "227\n",
      "PROCESS TIME: 3.4787886142730713\n",
      "merchant_60669\n"
     ]
    },
    {
     "data": {
      "text/html": [],
      "text/plain": [
       "<IPython.core.display.HTML object>"
      ]
     },
     "metadata": {},
     "output_type": "display_data"
    },
    {
     "name": "stdout",
     "output_type": "stream",
     "text": [
      "228\n",
      "PROCESS TIME: 3.465578556060791\n",
      "merchant_29726\n"
     ]
    },
    {
     "data": {
      "text/html": [],
      "text/plain": [
       "<IPython.core.display.HTML object>"
      ]
     },
     "metadata": {},
     "output_type": "display_data"
    },
    {
     "name": "stdout",
     "output_type": "stream",
     "text": [
      "229\n",
      "PROCESS TIME: 3.5178122520446777\n",
      "merchant_30389\n",
      "data is not enough 2\n",
      "PROCESS TIME: 2.6160407066345215\n",
      "merchant_43806\n"
     ]
    },
    {
     "data": {
      "text/html": [],
      "text/plain": [
       "<IPython.core.display.HTML object>"
      ]
     },
     "metadata": {},
     "output_type": "display_data"
    },
    {
     "name": "stdout",
     "output_type": "stream",
     "text": [
      "231\n",
      "PROCESS TIME: 3.6149203777313232\n",
      "merchant_65987\n"
     ]
    },
    {
     "data": {
      "text/html": [],
      "text/plain": [
       "<IPython.core.display.HTML object>"
      ]
     },
     "metadata": {},
     "output_type": "display_data"
    },
    {
     "name": "stdout",
     "output_type": "stream",
     "text": [
      "232\n",
      "PROCESS TIME: 3.6114163398742676\n",
      "merchant_17725\n"
     ]
    },
    {
     "data": {
      "text/html": [],
      "text/plain": [
       "<IPython.core.display.HTML object>"
      ]
     },
     "metadata": {},
     "output_type": "display_data"
    },
    {
     "name": "stdout",
     "output_type": "stream",
     "text": [
      "233\n",
      "PROCESS TIME: 3.60079026222229\n",
      "merchant_16413\n",
      "data is not enough 2\n",
      "PROCESS TIME: 2.6142282485961914\n",
      "merchant_50038\n"
     ]
    },
    {
     "data": {
      "text/html": [],
      "text/plain": [
       "<IPython.core.display.HTML object>"
      ]
     },
     "metadata": {},
     "output_type": "display_data"
    },
    {
     "name": "stdout",
     "output_type": "stream",
     "text": [
      "235\n",
      "PROCESS TIME: 3.5179338455200195\n",
      "merchant_53874\n"
     ]
    },
    {
     "data": {
      "text/html": [],
      "text/plain": [
       "<IPython.core.display.HTML object>"
      ]
     },
     "metadata": {},
     "output_type": "display_data"
    },
    {
     "name": "stdout",
     "output_type": "stream",
     "text": [
      "236\n",
      "PROCESS TIME: 3.5047152042388916\n",
      "merchant_21714\n"
     ]
    },
    {
     "data": {
      "text/html": [],
      "text/plain": [
       "<IPython.core.display.HTML object>"
      ]
     },
     "metadata": {},
     "output_type": "display_data"
    },
    {
     "name": "stdout",
     "output_type": "stream",
     "text": [
      "237\n",
      "PROCESS TIME: 3.5588667392730713\n",
      "merchant_18759\n",
      "data is not enough 5\n",
      "PROCESS TIME: 2.6341419219970703\n",
      "merchant_15575\n",
      "data is not enough 1\n",
      "PROCESS TIME: 0.046968698501586914\n",
      "merchant_61473\n",
      "data is not enough 1\n",
      "PROCESS TIME: 0.031248807907104492\n",
      "merchant_47161\n",
      "data is not enough 1\n",
      "PROCESS TIME: 0.04686713218688965\n",
      "merchant_1140\n",
      "data is not enough 1\n",
      "PROCESS TIME: 0.046877145767211914\n",
      "merchant_39340\n"
     ]
    },
    {
     "data": {
      "text/html": [],
      "text/plain": [
       "<IPython.core.display.HTML object>"
      ]
     },
     "metadata": {},
     "output_type": "display_data"
    },
    {
     "name": "stdout",
     "output_type": "stream",
     "text": [
      "243\n",
      "PROCESS TIME: 3.6247870922088623\n",
      "merchant_59746\n"
     ]
    },
    {
     "data": {
      "text/html": [],
      "text/plain": [
       "<IPython.core.display.HTML object>"
      ]
     },
     "metadata": {},
     "output_type": "display_data"
    },
    {
     "name": "stdout",
     "output_type": "stream",
     "text": [
      "244\n",
      "PROCESS TIME: 3.546923875808716\n",
      "merchant_39191\n",
      "data is not enough 1\n",
      "PROCESS TIME: 0.03121352195739746\n",
      "merchant_31457\n"
     ]
    },
    {
     "data": {
      "text/html": [],
      "text/plain": [
       "<IPython.core.display.HTML object>"
      ]
     },
     "metadata": {},
     "output_type": "display_data"
    },
    {
     "name": "stdout",
     "output_type": "stream",
     "text": [
      "246\n",
      "PROCESS TIME: 3.540926933288574\n",
      "merchant_3388\n"
     ]
    },
    {
     "data": {
      "text/html": [],
      "text/plain": [
       "<IPython.core.display.HTML object>"
      ]
     },
     "metadata": {},
     "output_type": "display_data"
    },
    {
     "name": "stdout",
     "output_type": "stream",
     "text": [
      "247\n",
      "PROCESS TIME: 3.494947671890259\n",
      "merchant_65153\n"
     ]
    },
    {
     "data": {
      "text/html": [],
      "text/plain": [
       "<IPython.core.display.HTML object>"
      ]
     },
     "metadata": {},
     "output_type": "display_data"
    },
    {
     "name": "stdout",
     "output_type": "stream",
     "text": [
      "248\n",
      "PROCESS TIME: 3.5988173484802246\n",
      "merchant_22556\n",
      "data is not enough 1\n",
      "PROCESS TIME: 0.04687142372131348\n",
      "merchant_39453\n",
      "data is not enough 2\n",
      "PROCESS TIME: 2.628316879272461\n",
      "merchant_12683\n",
      "data is not enough 1\n",
      "PROCESS TIME: 0.046930551528930664\n",
      "merchant_14955\n"
     ]
    },
    {
     "data": {
      "text/html": [],
      "text/plain": [
       "<IPython.core.display.HTML object>"
      ]
     },
     "metadata": {},
     "output_type": "display_data"
    },
    {
     "name": "stdout",
     "output_type": "stream",
     "text": [
      "252\n",
      "PROCESS TIME: 3.5917372703552246\n",
      "merchant_28636\n"
     ]
    },
    {
     "data": {
      "text/html": [],
      "text/plain": [
       "<IPython.core.display.HTML object>"
      ]
     },
     "metadata": {},
     "output_type": "display_data"
    },
    {
     "name": "stdout",
     "output_type": "stream",
     "text": [
      "253\n",
      "PROCESS TIME: 3.5810635089874268\n",
      "merchant_11556\n",
      "data is not enough 1\n",
      "PROCESS TIME: 0.03129720687866211\n",
      "merchant_43860\n"
     ]
    },
    {
     "data": {
      "text/html": [],
      "text/plain": [
       "<IPython.core.display.HTML object>"
      ]
     },
     "metadata": {},
     "output_type": "display_data"
    },
    {
     "name": "stdout",
     "output_type": "stream",
     "text": [
      "255\n",
      "PROCESS TIME: 3.5852131843566895\n",
      "merchant_37357\n",
      "data is not enough 1\n",
      "PROCESS TIME: 0.0467684268951416\n",
      "merchant_7687\n"
     ]
    },
    {
     "data": {
      "text/html": [],
      "text/plain": [
       "<IPython.core.display.HTML object>"
      ]
     },
     "metadata": {},
     "output_type": "display_data"
    },
    {
     "name": "stdout",
     "output_type": "stream",
     "text": [
      "257\n",
      "PROCESS TIME: 3.5998125076293945\n",
      "merchant_25819\n",
      "data is not enough 1\n",
      "PROCESS TIME: 0.03124403953552246\n",
      "merchant_59367\n"
     ]
    },
    {
     "data": {
      "text/html": [],
      "text/plain": [
       "<IPython.core.display.HTML object>"
      ]
     },
     "metadata": {},
     "output_type": "display_data"
    },
    {
     "name": "stdout",
     "output_type": "stream",
     "text": [
      "259\n",
      "PROCESS TIME: 3.6665985584259033\n",
      "merchant_18756\n"
     ]
    },
    {
     "data": {
      "text/html": [],
      "text/plain": [
       "<IPython.core.display.HTML object>"
      ]
     },
     "metadata": {},
     "output_type": "display_data"
    },
    {
     "name": "stdout",
     "output_type": "stream",
     "text": [
      "260\n",
      "PROCESS TIME: 3.6026628017425537\n",
      "merchant_31972\n"
     ]
    },
    {
     "data": {
      "text/html": [],
      "text/plain": [
       "<IPython.core.display.HTML object>"
      ]
     },
     "metadata": {},
     "output_type": "display_data"
    },
    {
     "name": "stdout",
     "output_type": "stream",
     "text": [
      "261\n",
      "PROCESS TIME: 3.6165034770965576\n",
      "merchant_64845\n"
     ]
    },
    {
     "data": {
      "text/html": [],
      "text/plain": [
       "<IPython.core.display.HTML object>"
      ]
     },
     "metadata": {},
     "output_type": "display_data"
    },
    {
     "name": "stdout",
     "output_type": "stream",
     "text": [
      "262\n",
      "PROCESS TIME: 3.6140148639678955\n",
      "merchant_20045\n"
     ]
    },
    {
     "data": {
      "text/html": [],
      "text/plain": [
       "<IPython.core.display.HTML object>"
      ]
     },
     "metadata": {},
     "output_type": "display_data"
    },
    {
     "name": "stdout",
     "output_type": "stream",
     "text": [
      "263\n",
      "PROCESS TIME: 3.6130025386810303\n",
      "merchant_1407\n",
      "data is not enough 2\n",
      "PROCESS TIME: 2.651289224624634\n",
      "merchant_67465\n"
     ]
    },
    {
     "data": {
      "text/html": [],
      "text/plain": [
       "<IPython.core.display.HTML object>"
      ]
     },
     "metadata": {},
     "output_type": "display_data"
    },
    {
     "name": "stdout",
     "output_type": "stream",
     "text": [
      "265\n",
      "PROCESS TIME: 3.596390962600708\n",
      "merchant_29642\n",
      "data is not enough 2\n",
      "PROCESS TIME: 2.6136040687561035\n",
      "merchant_62460\n"
     ]
    },
    {
     "data": {
      "text/html": [],
      "text/plain": [
       "<IPython.core.display.HTML object>"
      ]
     },
     "metadata": {},
     "output_type": "display_data"
    },
    {
     "name": "stdout",
     "output_type": "stream",
     "text": [
      "267\n",
      "PROCESS TIME: 3.587339162826538\n",
      "merchant_854\n",
      "data is not enough 1\n",
      "PROCESS TIME: 0.04687237739562988\n",
      "merchant_61697\n"
     ]
    },
    {
     "data": {
      "text/html": [],
      "text/plain": [
       "<IPython.core.display.HTML object>"
      ]
     },
     "metadata": {},
     "output_type": "display_data"
    },
    {
     "name": "stdout",
     "output_type": "stream",
     "text": [
      "269\n",
      "PROCESS TIME: 3.603137731552124\n",
      "merchant_21978\n"
     ]
    },
    {
     "data": {
      "text/html": [],
      "text/plain": [
       "<IPython.core.display.HTML object>"
      ]
     },
     "metadata": {},
     "output_type": "display_data"
    },
    {
     "name": "stdout",
     "output_type": "stream",
     "text": [
      "270\n",
      "PROCESS TIME: 3.595853805541992\n",
      "merchant_18229\n"
     ]
    },
    {
     "data": {
      "text/html": [],
      "text/plain": [
       "<IPython.core.display.HTML object>"
      ]
     },
     "metadata": {},
     "output_type": "display_data"
    },
    {
     "name": "stdout",
     "output_type": "stream",
     "text": [
      "271\n",
      "PROCESS TIME: 3.51627779006958\n",
      "merchant_32231\n",
      "data is not enough 1\n",
      "PROCESS TIME: 0.031244277954101562\n",
      "merchant_16092\n"
     ]
    },
    {
     "data": {
      "text/html": [],
      "text/plain": [
       "<IPython.core.display.HTML object>"
      ]
     },
     "metadata": {},
     "output_type": "display_data"
    },
    {
     "name": "stdout",
     "output_type": "stream",
     "text": [
      "273\n",
      "PROCESS TIME: 3.5230815410614014\n",
      "merchant_41309\n",
      "data is not enough 5\n",
      "PROCESS TIME: 2.6359124183654785\n",
      "merchant_40012\n"
     ]
    },
    {
     "data": {
      "text/html": [],
      "text/plain": [
       "<IPython.core.display.HTML object>"
      ]
     },
     "metadata": {},
     "output_type": "display_data"
    },
    {
     "name": "stdout",
     "output_type": "stream",
     "text": [
      "275\n",
      "PROCESS TIME: 3.6542630195617676\n",
      "merchant_37383\n",
      "data is not enough 2\n",
      "PROCESS TIME: 2.6085448265075684\n",
      "merchant_13876\n",
      "data is not enough 1\n",
      "PROCESS TIME: 0.046866416931152344\n",
      "merchant_62830\n"
     ]
    },
    {
     "data": {
      "text/html": [],
      "text/plain": [
       "<IPython.core.display.HTML object>"
      ]
     },
     "metadata": {},
     "output_type": "display_data"
    },
    {
     "name": "stdout",
     "output_type": "stream",
     "text": [
      "278\n",
      "PROCESS TIME: 3.527677536010742\n",
      "merchant_564\n"
     ]
    },
    {
     "data": {
      "text/html": [],
      "text/plain": [
       "<IPython.core.display.HTML object>"
      ]
     },
     "metadata": {},
     "output_type": "display_data"
    },
    {
     "name": "stdout",
     "output_type": "stream",
     "text": [
      "279\n",
      "PROCESS TIME: 3.5481574535369873\n",
      "merchant_26435\n"
     ]
    },
    {
     "data": {
      "text/html": [],
      "text/plain": [
       "<IPython.core.display.HTML object>"
      ]
     },
     "metadata": {},
     "output_type": "display_data"
    },
    {
     "name": "stdout",
     "output_type": "stream",
     "text": [
      "280\n",
      "PROCESS TIME: 3.4645519256591797\n",
      "merchant_31593\n"
     ]
    },
    {
     "data": {
      "text/html": [],
      "text/plain": [
       "<IPython.core.display.HTML object>"
      ]
     },
     "metadata": {},
     "output_type": "display_data"
    },
    {
     "name": "stdout",
     "output_type": "stream",
     "text": [
      "281\n",
      "PROCESS TIME: 3.6329383850097656\n",
      "merchant_51390\n"
     ]
    },
    {
     "data": {
      "text/html": [],
      "text/plain": [
       "<IPython.core.display.HTML object>"
      ]
     },
     "metadata": {},
     "output_type": "display_data"
    },
    {
     "name": "stdout",
     "output_type": "stream",
     "text": [
      "282\n",
      "PROCESS TIME: 3.6146273612976074\n",
      "merchant_12371\n"
     ]
    },
    {
     "data": {
      "text/html": [],
      "text/plain": [
       "<IPython.core.display.HTML object>"
      ]
     },
     "metadata": {},
     "output_type": "display_data"
    },
    {
     "name": "stdout",
     "output_type": "stream",
     "text": [
      "283\n",
      "PROCESS TIME: 3.466460943222046\n",
      "merchant_29020\n",
      "data is not enough 2\n",
      "PROCESS TIME: 2.637932777404785\n",
      "merchant_58442\n"
     ]
    },
    {
     "data": {
      "text/html": [],
      "text/plain": [
       "<IPython.core.display.HTML object>"
      ]
     },
     "metadata": {},
     "output_type": "display_data"
    },
    {
     "name": "stdout",
     "output_type": "stream",
     "text": [
      "285\n",
      "PROCESS TIME: 3.776508331298828\n",
      "merchant_18576\n"
     ]
    },
    {
     "data": {
      "text/html": [],
      "text/plain": [
       "<IPython.core.display.HTML object>"
      ]
     },
     "metadata": {},
     "output_type": "display_data"
    },
    {
     "name": "stdout",
     "output_type": "stream",
     "text": [
      "286\n",
      "PROCESS TIME: 3.5254898071289062\n",
      "merchant_20883\n",
      "data is not enough 2\n",
      "PROCESS TIME: 2.618103265762329\n",
      "merchant_36873\n",
      "data is not enough 3\n",
      "PROCESS TIME: 2.651272773742676\n",
      "merchant_56597\n"
     ]
    },
    {
     "data": {
      "text/html": [],
      "text/plain": [
       "<IPython.core.display.HTML object>"
      ]
     },
     "metadata": {},
     "output_type": "display_data"
    },
    {
     "name": "stdout",
     "output_type": "stream",
     "text": [
      "289\n",
      "PROCESS TIME: 3.6026771068573\n",
      "merchant_17317\n"
     ]
    },
    {
     "data": {
      "text/html": [],
      "text/plain": [
       "<IPython.core.display.HTML object>"
      ]
     },
     "metadata": {},
     "output_type": "display_data"
    },
    {
     "name": "stdout",
     "output_type": "stream",
     "text": [
      "290\n",
      "PROCESS TIME: 3.4623262882232666\n",
      "merchant_65851\n",
      "data is not enough 5\n",
      "PROCESS TIME: 2.6458892822265625\n",
      "merchant_55903\n",
      "data is not enough 1\n",
      "PROCESS TIME: 0.04681062698364258\n",
      "merchant_45045\n"
     ]
    },
    {
     "data": {
      "text/html": [],
      "text/plain": [
       "<IPython.core.display.HTML object>"
      ]
     },
     "metadata": {},
     "output_type": "display_data"
    },
    {
     "name": "stdout",
     "output_type": "stream",
     "text": [
      "293\n",
      "PROCESS TIME: 3.4800095558166504\n",
      "merchant_32830\n"
     ]
    },
    {
     "data": {
      "text/html": [],
      "text/plain": [
       "<IPython.core.display.HTML object>"
      ]
     },
     "metadata": {},
     "output_type": "display_data"
    },
    {
     "name": "stdout",
     "output_type": "stream",
     "text": [
      "294\n",
      "PROCESS TIME: 3.44364857673645\n",
      "merchant_25222\n"
     ]
    },
    {
     "data": {
      "text/html": [],
      "text/plain": [
       "<IPython.core.display.HTML object>"
      ]
     },
     "metadata": {},
     "output_type": "display_data"
    },
    {
     "name": "stdout",
     "output_type": "stream",
     "text": [
      "295\n",
      "PROCESS TIME: 3.496309280395508\n",
      "merchant_65952\n",
      "data is not enough 1\n",
      "PROCESS TIME: 0.031235694885253906\n",
      "merchant_62756\n",
      "data is not enough 5\n",
      "PROCESS TIME: 2.622616767883301\n",
      "merchant_26947\n"
     ]
    },
    {
     "data": {
      "text/html": [],
      "text/plain": [
       "<IPython.core.display.HTML object>"
      ]
     },
     "metadata": {},
     "output_type": "display_data"
    },
    {
     "name": "stdout",
     "output_type": "stream",
     "text": [
      "298\n",
      "PROCESS TIME: 3.53120756149292\n",
      "merchant_15754\n"
     ]
    },
    {
     "data": {
      "text/html": [],
      "text/plain": [
       "<IPython.core.display.HTML object>"
      ]
     },
     "metadata": {},
     "output_type": "display_data"
    },
    {
     "name": "stdout",
     "output_type": "stream",
     "text": [
      "299\n",
      "PROCESS TIME: 3.6174755096435547\n",
      "merchant_29053\n"
     ]
    },
    {
     "data": {
      "text/html": [],
      "text/plain": [
       "<IPython.core.display.HTML object>"
      ]
     },
     "metadata": {},
     "output_type": "display_data"
    },
    {
     "name": "stdout",
     "output_type": "stream",
     "text": [
      "300\n",
      "PROCESS TIME: 3.522103786468506\n",
      "merchant_29295\n"
     ]
    },
    {
     "data": {
      "text/html": [],
      "text/plain": [
       "<IPython.core.display.HTML object>"
      ]
     },
     "metadata": {},
     "output_type": "display_data"
    },
    {
     "name": "stdout",
     "output_type": "stream",
     "text": [
      "301\n",
      "PROCESS TIME: 3.603846788406372\n",
      "merchant_33837\n"
     ]
    },
    {
     "data": {
      "text/html": [],
      "text/plain": [
       "<IPython.core.display.HTML object>"
      ]
     },
     "metadata": {},
     "output_type": "display_data"
    },
    {
     "name": "stdout",
     "output_type": "stream",
     "text": [
      "302\n",
      "PROCESS TIME: 3.631078004837036\n",
      "merchant_63457\n",
      "data is not enough 1\n",
      "PROCESS TIME: 0.04680490493774414\n",
      "merchant_26309\n",
      "data is not enough 4\n",
      "PROCESS TIME: 2.623058557510376\n",
      "merchant_62100\n"
     ]
    },
    {
     "data": {
      "text/html": [],
      "text/plain": [
       "<IPython.core.display.HTML object>"
      ]
     },
     "metadata": {},
     "output_type": "display_data"
    },
    {
     "name": "stdout",
     "output_type": "stream",
     "text": [
      "305\n",
      "PROCESS TIME: 3.597736120223999\n",
      "merchant_36564\n"
     ]
    },
    {
     "data": {
      "text/html": [],
      "text/plain": [
       "<IPython.core.display.HTML object>"
      ]
     },
     "metadata": {},
     "output_type": "display_data"
    },
    {
     "name": "stdout",
     "output_type": "stream",
     "text": [
      "306\n",
      "PROCESS TIME: 3.4687085151672363\n",
      "merchant_66388\n"
     ]
    },
    {
     "data": {
      "text/html": [],
      "text/plain": [
       "<IPython.core.display.HTML object>"
      ]
     },
     "metadata": {},
     "output_type": "display_data"
    },
    {
     "name": "stdout",
     "output_type": "stream",
     "text": [
      "307\n",
      "PROCESS TIME: 3.7248528003692627\n",
      "merchant_57943\n",
      "data is not enough 2\n",
      "PROCESS TIME: 2.6292974948883057\n",
      "merchant_66624\n"
     ]
    },
    {
     "data": {
      "text/html": [],
      "text/plain": [
       "<IPython.core.display.HTML object>"
      ]
     },
     "metadata": {},
     "output_type": "display_data"
    },
    {
     "name": "stdout",
     "output_type": "stream",
     "text": [
      "309\n",
      "PROCESS TIME: 3.5233054161071777\n",
      "merchant_34368\n"
     ]
    },
    {
     "data": {
      "text/html": [],
      "text/plain": [
       "<IPython.core.display.HTML object>"
      ]
     },
     "metadata": {},
     "output_type": "display_data"
    },
    {
     "name": "stdout",
     "output_type": "stream",
     "text": [
      "310\n",
      "PROCESS TIME: 3.5470786094665527\n",
      "merchant_55495\n",
      "data is not enough 1\n",
      "PROCESS TIME: 0.046864986419677734\n",
      "merchant_60608\n"
     ]
    },
    {
     "data": {
      "text/html": [],
      "text/plain": [
       "<IPython.core.display.HTML object>"
      ]
     },
     "metadata": {},
     "output_type": "display_data"
    },
    {
     "name": "stdout",
     "output_type": "stream",
     "text": [
      "312\n",
      "PROCESS TIME: 3.60017728805542\n",
      "merchant_36052\n"
     ]
    },
    {
     "data": {
      "text/html": [],
      "text/plain": [
       "<IPython.core.display.HTML object>"
      ]
     },
     "metadata": {},
     "output_type": "display_data"
    },
    {
     "name": "stdout",
     "output_type": "stream",
     "text": [
      "313\n",
      "PROCESS TIME: 3.5997061729431152\n",
      "merchant_50897\n"
     ]
    },
    {
     "data": {
      "text/html": [],
      "text/plain": [
       "<IPython.core.display.HTML object>"
      ]
     },
     "metadata": {},
     "output_type": "display_data"
    },
    {
     "name": "stdout",
     "output_type": "stream",
     "text": [
      "314\n",
      "PROCESS TIME: 3.515547275543213\n",
      "merchant_19705\n"
     ]
    },
    {
     "data": {
      "text/html": [],
      "text/plain": [
       "<IPython.core.display.HTML object>"
      ]
     },
     "metadata": {},
     "output_type": "display_data"
    },
    {
     "name": "stdout",
     "output_type": "stream",
     "text": [
      "315\n",
      "PROCESS TIME: 3.614229679107666\n",
      "merchant_11479\n",
      "data is not enough 1\n",
      "PROCESS TIME: 0.031213045120239258\n",
      "merchant_17664\n"
     ]
    },
    {
     "data": {
      "text/html": [],
      "text/plain": [
       "<IPython.core.display.HTML object>"
      ]
     },
     "metadata": {},
     "output_type": "display_data"
    },
    {
     "name": "stdout",
     "output_type": "stream",
     "text": [
      "317\n",
      "PROCESS TIME: 3.52030086517334\n",
      "merchant_50432\n"
     ]
    },
    {
     "data": {
      "text/html": [],
      "text/plain": [
       "<IPython.core.display.HTML object>"
      ]
     },
     "metadata": {},
     "output_type": "display_data"
    },
    {
     "name": "stdout",
     "output_type": "stream",
     "text": [
      "318\n",
      "PROCESS TIME: 3.500126361846924\n",
      "merchant_42764\n"
     ]
    },
    {
     "data": {
      "text/html": [],
      "text/plain": [
       "<IPython.core.display.HTML object>"
      ]
     },
     "metadata": {},
     "output_type": "display_data"
    },
    {
     "name": "stdout",
     "output_type": "stream",
     "text": [
      "319\n",
      "PROCESS TIME: 3.611515522003174\n",
      "merchant_5653\n"
     ]
    },
    {
     "data": {
      "text/html": [],
      "text/plain": [
       "<IPython.core.display.HTML object>"
      ]
     },
     "metadata": {},
     "output_type": "display_data"
    },
    {
     "name": "stdout",
     "output_type": "stream",
     "text": [
      "320\n",
      "PROCESS TIME: 3.4654195308685303\n",
      "merchant_13380\n",
      "data is not enough 5\n",
      "PROCESS TIME: 2.627012014389038\n",
      "merchant_59477\n",
      "data is not enough 1\n",
      "PROCESS TIME: 0.046848297119140625\n",
      "merchant_9567\n"
     ]
    },
    {
     "data": {
      "text/html": [],
      "text/plain": [
       "<IPython.core.display.HTML object>"
      ]
     },
     "metadata": {},
     "output_type": "display_data"
    },
    {
     "name": "stdout",
     "output_type": "stream",
     "text": [
      "323\n",
      "PROCESS TIME: 3.6092448234558105\n",
      "merchant_42376\n"
     ]
    },
    {
     "data": {
      "text/html": [],
      "text/plain": [
       "<IPython.core.display.HTML object>"
      ]
     },
     "metadata": {},
     "output_type": "display_data"
    },
    {
     "name": "stdout",
     "output_type": "stream",
     "text": [
      "324\n",
      "PROCESS TIME: 3.5204780101776123\n",
      "merchant_24843\n"
     ]
    },
    {
     "data": {
      "text/html": [],
      "text/plain": [
       "<IPython.core.display.HTML object>"
      ]
     },
     "metadata": {},
     "output_type": "display_data"
    },
    {
     "name": "stdout",
     "output_type": "stream",
     "text": [
      "325\n",
      "PROCESS TIME: 3.5445854663848877\n",
      "merchant_20095\n",
      "data is not enough 1\n",
      "PROCESS TIME: 0.04686474800109863\n",
      "merchant_58520\n"
     ]
    },
    {
     "data": {
      "text/html": [],
      "text/plain": [
       "<IPython.core.display.HTML object>"
      ]
     },
     "metadata": {},
     "output_type": "display_data"
    },
    {
     "name": "stdout",
     "output_type": "stream",
     "text": [
      "327\n",
      "PROCESS TIME: 3.486299991607666\n",
      "merchant_53422\n",
      "data is not enough 1\n",
      "PROCESS TIME: 0.04687380790710449\n",
      "merchant_18442\n"
     ]
    },
    {
     "data": {
      "text/html": [],
      "text/plain": [
       "<IPython.core.display.HTML object>"
      ]
     },
     "metadata": {},
     "output_type": "display_data"
    },
    {
     "name": "stdout",
     "output_type": "stream",
     "text": [
      "329\n",
      "PROCESS TIME: 3.616579532623291\n",
      "merchant_58737\n",
      "data is not enough 1\n",
      "PROCESS TIME: 0.046869516372680664\n",
      "merchant_16791\n",
      "data is not enough 2\n",
      "PROCESS TIME: 2.6207821369171143\n",
      "merchant_27186\n"
     ]
    },
    {
     "data": {
      "text/html": [],
      "text/plain": [
       "<IPython.core.display.HTML object>"
      ]
     },
     "metadata": {},
     "output_type": "display_data"
    },
    {
     "name": "stdout",
     "output_type": "stream",
     "text": [
      "332\n",
      "PROCESS TIME: 3.4961936473846436\n",
      "merchant_65067\n"
     ]
    },
    {
     "data": {
      "text/html": [],
      "text/plain": [
       "<IPython.core.display.HTML object>"
      ]
     },
     "metadata": {},
     "output_type": "display_data"
    },
    {
     "name": "stdout",
     "output_type": "stream",
     "text": [
      "333\n",
      "PROCESS TIME: 3.5322117805480957\n",
      "merchant_66164\n"
     ]
    },
    {
     "data": {
      "text/html": [],
      "text/plain": [
       "<IPython.core.display.HTML object>"
      ]
     },
     "metadata": {},
     "output_type": "display_data"
    },
    {
     "name": "stdout",
     "output_type": "stream",
     "text": [
      "334\n",
      "PROCESS TIME: 3.517127275466919\n",
      "merchant_258\n"
     ]
    },
    {
     "data": {
      "text/html": [],
      "text/plain": [
       "<IPython.core.display.HTML object>"
      ]
     },
     "metadata": {},
     "output_type": "display_data"
    },
    {
     "name": "stdout",
     "output_type": "stream",
     "text": [
      "335\n",
      "PROCESS TIME: 3.5145950317382812\n",
      "merchant_35949\n"
     ]
    },
    {
     "data": {
      "text/html": [],
      "text/plain": [
       "<IPython.core.display.HTML object>"
      ]
     },
     "metadata": {},
     "output_type": "display_data"
    },
    {
     "name": "stdout",
     "output_type": "stream",
     "text": [
      "336\n",
      "PROCESS TIME: 3.597517251968384\n",
      "merchant_61927\n",
      "data is not enough 2\n",
      "PROCESS TIME: 2.6060874462127686\n",
      "merchant_46873\n"
     ]
    },
    {
     "data": {
      "text/html": [],
      "text/plain": [
       "<IPython.core.display.HTML object>"
      ]
     },
     "metadata": {},
     "output_type": "display_data"
    },
    {
     "name": "stdout",
     "output_type": "stream",
     "text": [
      "338\n",
      "PROCESS TIME: 3.521531581878662\n",
      "merchant_12530\n"
     ]
    },
    {
     "data": {
      "text/html": [],
      "text/plain": [
       "<IPython.core.display.HTML object>"
      ]
     },
     "metadata": {},
     "output_type": "display_data"
    },
    {
     "name": "stdout",
     "output_type": "stream",
     "text": [
      "339\n",
      "PROCESS TIME: 3.519627332687378\n",
      "merchant_4124\n"
     ]
    },
    {
     "data": {
      "text/html": [],
      "text/plain": [
       "<IPython.core.display.HTML object>"
      ]
     },
     "metadata": {},
     "output_type": "display_data"
    },
    {
     "name": "stdout",
     "output_type": "stream",
     "text": [
      "340\n",
      "PROCESS TIME: 3.768173933029175\n",
      "merchant_38067\n"
     ]
    },
    {
     "data": {
      "text/html": [],
      "text/plain": [
       "<IPython.core.display.HTML object>"
      ]
     },
     "metadata": {},
     "output_type": "display_data"
    },
    {
     "name": "stdout",
     "output_type": "stream",
     "text": [
      "341\n",
      "PROCESS TIME: 3.509948968887329\n",
      "merchant_49757\n",
      "data is not enough 2\n",
      "PROCESS TIME: 2.6300556659698486\n",
      "merchant_40817\n",
      "data is not enough 1\n",
      "PROCESS TIME: 0.04677224159240723\n",
      "merchant_50397\n"
     ]
    },
    {
     "data": {
      "text/html": [],
      "text/plain": [
       "<IPython.core.display.HTML object>"
      ]
     },
     "metadata": {},
     "output_type": "display_data"
    },
    {
     "name": "stdout",
     "output_type": "stream",
     "text": [
      "344\n",
      "PROCESS TIME: 3.536226987838745\n",
      "merchant_29317\n"
     ]
    },
    {
     "data": {
      "text/html": [],
      "text/plain": [
       "<IPython.core.display.HTML object>"
      ]
     },
     "metadata": {},
     "output_type": "display_data"
    },
    {
     "name": "stdout",
     "output_type": "stream",
     "text": [
      "345\n",
      "PROCESS TIME: 3.489013910293579\n",
      "merchant_43282\n",
      "data is not enough 2\n",
      "PROCESS TIME: 2.6407077312469482\n",
      "merchant_10571\n"
     ]
    },
    {
     "data": {
      "text/html": [],
      "text/plain": [
       "<IPython.core.display.HTML object>"
      ]
     },
     "metadata": {},
     "output_type": "display_data"
    },
    {
     "name": "stdout",
     "output_type": "stream",
     "text": [
      "347\n",
      "PROCESS TIME: 3.622864007949829\n",
      "merchant_8617\n"
     ]
    },
    {
     "data": {
      "text/html": [],
      "text/plain": [
       "<IPython.core.display.HTML object>"
      ]
     },
     "metadata": {},
     "output_type": "display_data"
    },
    {
     "name": "stdout",
     "output_type": "stream",
     "text": [
      "348\n",
      "PROCESS TIME: 3.5134241580963135\n",
      "merchant_6115\n"
     ]
    },
    {
     "data": {
      "text/html": [],
      "text/plain": [
       "<IPython.core.display.HTML object>"
      ]
     },
     "metadata": {},
     "output_type": "display_data"
    },
    {
     "name": "stdout",
     "output_type": "stream",
     "text": [
      "349\n",
      "PROCESS TIME: 3.5342557430267334\n",
      "merchant_16904\n"
     ]
    },
    {
     "data": {
      "text/html": [],
      "text/plain": [
       "<IPython.core.display.HTML object>"
      ]
     },
     "metadata": {},
     "output_type": "display_data"
    },
    {
     "name": "stdout",
     "output_type": "stream",
     "text": [
      "350\n",
      "PROCESS TIME: 3.462897539138794\n",
      "merchant_9421\n",
      "data is not enough 2\n",
      "PROCESS TIME: 2.6301708221435547\n",
      "merchant_10709\n"
     ]
    },
    {
     "data": {
      "text/html": [],
      "text/plain": [
       "<IPython.core.display.HTML object>"
      ]
     },
     "metadata": {},
     "output_type": "display_data"
    },
    {
     "name": "stdout",
     "output_type": "stream",
     "text": [
      "352\n",
      "PROCESS TIME: 3.6194450855255127\n",
      "merchant_62479\n"
     ]
    },
    {
     "data": {
      "text/html": [],
      "text/plain": [
       "<IPython.core.display.HTML object>"
      ]
     },
     "metadata": {},
     "output_type": "display_data"
    },
    {
     "name": "stdout",
     "output_type": "stream",
     "text": [
      "353\n",
      "PROCESS TIME: 3.53397536277771\n",
      "merchant_17243\n"
     ]
    },
    {
     "data": {
      "text/html": [],
      "text/plain": [
       "<IPython.core.display.HTML object>"
      ]
     },
     "metadata": {},
     "output_type": "display_data"
    },
    {
     "name": "stdout",
     "output_type": "stream",
     "text": [
      "354\n",
      "PROCESS TIME: 3.630065441131592\n",
      "merchant_16949\n"
     ]
    },
    {
     "data": {
      "text/html": [],
      "text/plain": [
       "<IPython.core.display.HTML object>"
      ]
     },
     "metadata": {},
     "output_type": "display_data"
    },
    {
     "name": "stdout",
     "output_type": "stream",
     "text": [
      "355\n",
      "PROCESS TIME: 3.4990217685699463\n",
      "merchant_61406\n",
      "data is not enough 1\n",
      "PROCESS TIME: 0.04694652557373047\n",
      "merchant_65844\n"
     ]
    },
    {
     "data": {
      "text/html": [],
      "text/plain": [
       "<IPython.core.display.HTML object>"
      ]
     },
     "metadata": {},
     "output_type": "display_data"
    },
    {
     "name": "stdout",
     "output_type": "stream",
     "text": [
      "357\n",
      "PROCESS TIME: 3.535172939300537\n",
      "merchant_39829\n",
      "data is not enough 3\n",
      "PROCESS TIME: 2.632432222366333\n",
      "merchant_12911\n",
      "data is not enough 1\n",
      "PROCESS TIME: 0.04686903953552246\n",
      "merchant_12127\n",
      "data is not enough 1\n",
      "PROCESS TIME: 0.046866655349731445\n",
      "merchant_4716\n"
     ]
    },
    {
     "data": {
      "text/html": [],
      "text/plain": [
       "<IPython.core.display.HTML object>"
      ]
     },
     "metadata": {},
     "output_type": "display_data"
    },
    {
     "name": "stdout",
     "output_type": "stream",
     "text": [
      "361\n",
      "PROCESS TIME: 3.5984725952148438\n",
      "merchant_11537\n"
     ]
    },
    {
     "data": {
      "text/html": [],
      "text/plain": [
       "<IPython.core.display.HTML object>"
      ]
     },
     "metadata": {},
     "output_type": "display_data"
    },
    {
     "name": "stdout",
     "output_type": "stream",
     "text": [
      "362\n",
      "PROCESS TIME: 3.5700511932373047\n",
      "merchant_62848\n",
      "data is not enough 1\n",
      "PROCESS TIME: 0.03124856948852539\n",
      "merchant_32894\n"
     ]
    },
    {
     "data": {
      "text/html": [],
      "text/plain": [
       "<IPython.core.display.HTML object>"
      ]
     },
     "metadata": {},
     "output_type": "display_data"
    },
    {
     "name": "stdout",
     "output_type": "stream",
     "text": [
      "364\n",
      "PROCESS TIME: 3.6046252250671387\n",
      "merchant_64994\n",
      "data is not enough 1\n",
      "PROCESS TIME: 0.04686450958251953\n",
      "merchant_42142\n"
     ]
    },
    {
     "data": {
      "text/html": [],
      "text/plain": [
       "<IPython.core.display.HTML object>"
      ]
     },
     "metadata": {},
     "output_type": "display_data"
    },
    {
     "name": "stdout",
     "output_type": "stream",
     "text": [
      "366\n",
      "PROCESS TIME: 3.4991414546966553\n",
      "merchant_26285\n",
      "data is not enough 1\n",
      "PROCESS TIME: 0.046941280364990234\n",
      "merchant_45976\n"
     ]
    },
    {
     "data": {
      "text/html": [],
      "text/plain": [
       "<IPython.core.display.HTML object>"
      ]
     },
     "metadata": {},
     "output_type": "display_data"
    },
    {
     "name": "stdout",
     "output_type": "stream",
     "text": [
      "368\n",
      "PROCESS TIME: 3.6361052989959717\n",
      "merchant_37791\n",
      "data is not enough 4\n",
      "PROCESS TIME: 2.6109869480133057\n",
      "merchant_51052\n"
     ]
    },
    {
     "data": {
      "text/html": [],
      "text/plain": [
       "<IPython.core.display.HTML object>"
      ]
     },
     "metadata": {},
     "output_type": "display_data"
    },
    {
     "name": "stdout",
     "output_type": "stream",
     "text": [
      "370\n",
      "PROCESS TIME: 3.5188491344451904\n",
      "merchant_7470\n",
      "data is not enough 1\n",
      "PROCESS TIME: 0.031245946884155273\n",
      "merchant_23449\n"
     ]
    },
    {
     "data": {
      "text/html": [],
      "text/plain": [
       "<IPython.core.display.HTML object>"
      ]
     },
     "metadata": {},
     "output_type": "display_data"
    },
    {
     "name": "stdout",
     "output_type": "stream",
     "text": [
      "372\n",
      "PROCESS TIME: 3.6035046577453613\n",
      "merchant_11447\n",
      "data is not enough 1\n",
      "PROCESS TIME: 0.04677271842956543\n",
      "merchant_58700\n"
     ]
    },
    {
     "data": {
      "text/html": [],
      "text/plain": [
       "<IPython.core.display.HTML object>"
      ]
     },
     "metadata": {},
     "output_type": "display_data"
    },
    {
     "name": "stdout",
     "output_type": "stream",
     "text": [
      "374\n",
      "PROCESS TIME: 3.517616033554077\n",
      "merchant_22953\n"
     ]
    },
    {
     "data": {
      "text/html": [],
      "text/plain": [
       "<IPython.core.display.HTML object>"
      ]
     },
     "metadata": {},
     "output_type": "display_data"
    },
    {
     "name": "stdout",
     "output_type": "stream",
     "text": [
      "375\n",
      "PROCESS TIME: 3.490429162979126\n",
      "merchant_31474\n"
     ]
    },
    {
     "data": {
      "text/html": [],
      "text/plain": [
       "<IPython.core.display.HTML object>"
      ]
     },
     "metadata": {},
     "output_type": "display_data"
    },
    {
     "name": "stdout",
     "output_type": "stream",
     "text": [
      "376\n",
      "PROCESS TIME: 3.5236258506774902\n",
      "merchant_22105\n"
     ]
    },
    {
     "data": {
      "text/html": [],
      "text/plain": [
       "<IPython.core.display.HTML object>"
      ]
     },
     "metadata": {},
     "output_type": "display_data"
    },
    {
     "name": "stdout",
     "output_type": "stream",
     "text": [
      "377\n",
      "PROCESS TIME: 3.498852014541626\n",
      "merchant_32110\n",
      "data is not enough 5\n",
      "PROCESS TIME: 2.626035213470459\n",
      "merchant_3841\n"
     ]
    },
    {
     "data": {
      "text/html": [],
      "text/plain": [
       "<IPython.core.display.HTML object>"
      ]
     },
     "metadata": {},
     "output_type": "display_data"
    },
    {
     "name": "stdout",
     "output_type": "stream",
     "text": [
      "379\n",
      "PROCESS TIME: 3.6051483154296875\n",
      "merchant_64117\n",
      "data is not enough 5\n",
      "PROCESS TIME: 2.6263978481292725\n",
      "merchant_55226\n",
      "data is not enough 2\n",
      "PROCESS TIME: 2.6410112380981445\n",
      "merchant_11449\n"
     ]
    },
    {
     "data": {
      "text/html": [],
      "text/plain": [
       "<IPython.core.display.HTML object>"
      ]
     },
     "metadata": {},
     "output_type": "display_data"
    },
    {
     "name": "stdout",
     "output_type": "stream",
     "text": [
      "382\n",
      "PROCESS TIME: 3.517265796661377\n",
      "merchant_41867\n",
      "data is not enough 1\n",
      "PROCESS TIME: 0.05424070358276367\n",
      "merchant_25701\n"
     ]
    },
    {
     "data": {
      "text/html": [],
      "text/plain": [
       "<IPython.core.display.HTML object>"
      ]
     },
     "metadata": {},
     "output_type": "display_data"
    },
    {
     "name": "stdout",
     "output_type": "stream",
     "text": [
      "384\n",
      "PROCESS TIME: 3.5071990489959717\n",
      "merchant_63812\n"
     ]
    },
    {
     "data": {
      "text/html": [],
      "text/plain": [
       "<IPython.core.display.HTML object>"
      ]
     },
     "metadata": {},
     "output_type": "display_data"
    },
    {
     "name": "stdout",
     "output_type": "stream",
     "text": [
      "385\n",
      "PROCESS TIME: 3.5241007804870605\n",
      "merchant_9938\n"
     ]
    },
    {
     "data": {
      "text/html": [],
      "text/plain": [
       "<IPython.core.display.HTML object>"
      ]
     },
     "metadata": {},
     "output_type": "display_data"
    },
    {
     "name": "stdout",
     "output_type": "stream",
     "text": [
      "386\n",
      "PROCESS TIME: 3.47432541847229\n",
      "merchant_65550\n",
      "data is not enough 2\n",
      "PROCESS TIME: 2.63393235206604\n",
      "merchant_20822\n"
     ]
    },
    {
     "data": {
      "text/html": [],
      "text/plain": [
       "<IPython.core.display.HTML object>"
      ]
     },
     "metadata": {},
     "output_type": "display_data"
    },
    {
     "name": "stdout",
     "output_type": "stream",
     "text": [
      "388\n",
      "PROCESS TIME: 3.593076229095459\n",
      "merchant_18181\n"
     ]
    },
    {
     "data": {
      "text/html": [],
      "text/plain": [
       "<IPython.core.display.HTML object>"
      ]
     },
     "metadata": {},
     "output_type": "display_data"
    },
    {
     "name": "stdout",
     "output_type": "stream",
     "text": [
      "389\n",
      "PROCESS TIME: 3.616786003112793\n",
      "merchant_8579\n"
     ]
    },
    {
     "data": {
      "text/html": [],
      "text/plain": [
       "<IPython.core.display.HTML object>"
      ]
     },
     "metadata": {},
     "output_type": "display_data"
    },
    {
     "name": "stdout",
     "output_type": "stream",
     "text": [
      "390\n",
      "PROCESS TIME: 3.6496989727020264\n",
      "merchant_52423\n",
      "data is not enough 4\n",
      "PROCESS TIME: 2.6574485301971436\n",
      "merchant_11607\n",
      "data is not enough 5\n",
      "PROCESS TIME: 2.646855354309082\n",
      "merchant_58325\n"
     ]
    },
    {
     "data": {
      "text/html": [],
      "text/plain": [
       "<IPython.core.display.HTML object>"
      ]
     },
     "metadata": {},
     "output_type": "display_data"
    },
    {
     "name": "stdout",
     "output_type": "stream",
     "text": [
      "393\n",
      "PROCESS TIME: 3.4991326332092285\n",
      "merchant_61615\n",
      "data is not enough 3\n",
      "PROCESS TIME: 2.620124578475952\n",
      "merchant_7356\n"
     ]
    },
    {
     "data": {
      "text/html": [],
      "text/plain": [
       "<IPython.core.display.HTML object>"
      ]
     },
     "metadata": {},
     "output_type": "display_data"
    },
    {
     "name": "stdout",
     "output_type": "stream",
     "text": [
      "395\n",
      "PROCESS TIME: 3.5880231857299805\n",
      "merchant_19391\n"
     ]
    },
    {
     "data": {
      "text/html": [],
      "text/plain": [
       "<IPython.core.display.HTML object>"
      ]
     },
     "metadata": {},
     "output_type": "display_data"
    },
    {
     "name": "stdout",
     "output_type": "stream",
     "text": [
      "396\n",
      "PROCESS TIME: 3.5312769412994385\n",
      "merchant_50312\n",
      "data is not enough 4\n",
      "PROCESS TIME: 2.6231582164764404\n",
      "merchant_60088\n"
     ]
    },
    {
     "data": {
      "text/html": [],
      "text/plain": [
       "<IPython.core.display.HTML object>"
      ]
     },
     "metadata": {},
     "output_type": "display_data"
    },
    {
     "name": "stdout",
     "output_type": "stream",
     "text": [
      "398\n",
      "PROCESS TIME: 3.5278711318969727\n",
      "merchant_49046\n"
     ]
    },
    {
     "data": {
      "text/html": [],
      "text/plain": [
       "<IPython.core.display.HTML object>"
      ]
     },
     "metadata": {},
     "output_type": "display_data"
    },
    {
     "name": "stdout",
     "output_type": "stream",
     "text": [
      "399\n",
      "PROCESS TIME: 3.6133339405059814\n",
      "merchant_52178\n"
     ]
    },
    {
     "data": {
      "text/html": [],
      "text/plain": [
       "<IPython.core.display.HTML object>"
      ]
     },
     "metadata": {},
     "output_type": "display_data"
    },
    {
     "name": "stdout",
     "output_type": "stream",
     "text": [
      "400\n",
      "PROCESS TIME: 3.5808327198028564\n",
      "merchant_57090\n"
     ]
    },
    {
     "data": {
      "text/html": [],
      "text/plain": [
       "<IPython.core.display.HTML object>"
      ]
     },
     "metadata": {},
     "output_type": "display_data"
    },
    {
     "name": "stdout",
     "output_type": "stream",
     "text": [
      "401\n",
      "PROCESS TIME: 3.617594003677368\n",
      "merchant_59175\n"
     ]
    },
    {
     "data": {
      "text/html": [],
      "text/plain": [
       "<IPython.core.display.HTML object>"
      ]
     },
     "metadata": {},
     "output_type": "display_data"
    },
    {
     "name": "stdout",
     "output_type": "stream",
     "text": [
      "402\n",
      "PROCESS TIME: 3.4997851848602295\n",
      "merchant_24490\n",
      "data is not enough 1\n",
      "PROCESS TIME: 0.04686903953552246\n",
      "merchant_13002\n"
     ]
    },
    {
     "data": {
      "text/html": [],
      "text/plain": [
       "<IPython.core.display.HTML object>"
      ]
     },
     "metadata": {},
     "output_type": "display_data"
    },
    {
     "name": "stdout",
     "output_type": "stream",
     "text": [
      "404\n",
      "PROCESS TIME: 3.5842018127441406\n",
      "merchant_20517\n"
     ]
    },
    {
     "data": {
      "text/html": [],
      "text/plain": [
       "<IPython.core.display.HTML object>"
      ]
     },
     "metadata": {},
     "output_type": "display_data"
    },
    {
     "name": "stdout",
     "output_type": "stream",
     "text": [
      "405\n",
      "PROCESS TIME: 3.465468168258667\n",
      "merchant_64558\n"
     ]
    },
    {
     "data": {
      "text/html": [],
      "text/plain": [
       "<IPython.core.display.HTML object>"
      ]
     },
     "metadata": {},
     "output_type": "display_data"
    },
    {
     "name": "stdout",
     "output_type": "stream",
     "text": [
      "406\n",
      "PROCESS TIME: 3.599627733230591\n",
      "merchant_28856\n"
     ]
    },
    {
     "data": {
      "text/html": [],
      "text/plain": [
       "<IPython.core.display.HTML object>"
      ]
     },
     "metadata": {},
     "output_type": "display_data"
    },
    {
     "name": "stdout",
     "output_type": "stream",
     "text": [
      "407\n",
      "PROCESS TIME: 3.473182439804077\n",
      "merchant_32812\n"
     ]
    },
    {
     "data": {
      "text/html": [],
      "text/plain": [
       "<IPython.core.display.HTML object>"
      ]
     },
     "metadata": {},
     "output_type": "display_data"
    },
    {
     "name": "stdout",
     "output_type": "stream",
     "text": [
      "408\n",
      "PROCESS TIME: 3.522407054901123\n",
      "merchant_41507\n"
     ]
    },
    {
     "data": {
      "text/html": [],
      "text/plain": [
       "<IPython.core.display.HTML object>"
      ]
     },
     "metadata": {},
     "output_type": "display_data"
    },
    {
     "name": "stdout",
     "output_type": "stream",
     "text": [
      "409\n",
      "PROCESS TIME: 3.5658154487609863\n",
      "merchant_3881\n"
     ]
    },
    {
     "data": {
      "text/html": [],
      "text/plain": [
       "<IPython.core.display.HTML object>"
      ]
     },
     "metadata": {},
     "output_type": "display_data"
    },
    {
     "name": "stdout",
     "output_type": "stream",
     "text": [
      "410\n",
      "PROCESS TIME: 3.478393316268921\n",
      "merchant_56258\n",
      "data is not enough 1\n",
      "PROCESS TIME: 0.05333566665649414\n",
      "merchant_49711\n"
     ]
    },
    {
     "data": {
      "text/html": [],
      "text/plain": [
       "<IPython.core.display.HTML object>"
      ]
     },
     "metadata": {},
     "output_type": "display_data"
    },
    {
     "name": "stdout",
     "output_type": "stream",
     "text": [
      "412\n",
      "PROCESS TIME: 3.6157944202423096\n",
      "merchant_60309\n",
      "data is not enough 4\n",
      "PROCESS TIME: 2.6209843158721924\n",
      "merchant_18208\n"
     ]
    },
    {
     "data": {
      "text/html": [],
      "text/plain": [
       "<IPython.core.display.HTML object>"
      ]
     },
     "metadata": {},
     "output_type": "display_data"
    },
    {
     "name": "stdout",
     "output_type": "stream",
     "text": [
      "414\n",
      "PROCESS TIME: 3.543886661529541\n",
      "merchant_67144\n",
      "data is not enough 1\n",
      "PROCESS TIME: 0.04683876037597656\n",
      "merchant_29628\n"
     ]
    },
    {
     "data": {
      "text/html": [],
      "text/plain": [
       "<IPython.core.display.HTML object>"
      ]
     },
     "metadata": {},
     "output_type": "display_data"
    },
    {
     "name": "stdout",
     "output_type": "stream",
     "text": [
      "416\n",
      "PROCESS TIME: 3.518324613571167\n",
      "merchant_8975\n"
     ]
    },
    {
     "data": {
      "text/html": [],
      "text/plain": [
       "<IPython.core.display.HTML object>"
      ]
     },
     "metadata": {},
     "output_type": "display_data"
    },
    {
     "name": "stdout",
     "output_type": "stream",
     "text": [
      "417\n",
      "PROCESS TIME: 3.566307544708252\n",
      "merchant_11820\n"
     ]
    },
    {
     "data": {
      "text/html": [],
      "text/plain": [
       "<IPython.core.display.HTML object>"
      ]
     },
     "metadata": {},
     "output_type": "display_data"
    },
    {
     "name": "stdout",
     "output_type": "stream",
     "text": [
      "418\n",
      "PROCESS TIME: 3.4821743965148926\n",
      "merchant_46168\n",
      "data is not enough 1\n",
      "PROCESS TIME: 0.04686474800109863\n",
      "merchant_31812\n"
     ]
    },
    {
     "data": {
      "text/html": [],
      "text/plain": [
       "<IPython.core.display.HTML object>"
      ]
     },
     "metadata": {},
     "output_type": "display_data"
    },
    {
     "name": "stdout",
     "output_type": "stream",
     "text": [
      "420\n",
      "PROCESS TIME: 3.601071357727051\n",
      "merchant_48414\n",
      "data is not enough 3\n",
      "PROCESS TIME: 2.639521360397339\n",
      "merchant_34390\n"
     ]
    },
    {
     "data": {
      "text/html": [],
      "text/plain": [
       "<IPython.core.display.HTML object>"
      ]
     },
     "metadata": {},
     "output_type": "display_data"
    },
    {
     "name": "stdout",
     "output_type": "stream",
     "text": [
      "422\n",
      "PROCESS TIME: 3.531029224395752\n",
      "merchant_36956\n",
      "data is not enough 3\n",
      "PROCESS TIME: 2.6341230869293213\n",
      "merchant_36823\n"
     ]
    },
    {
     "data": {
      "text/html": [],
      "text/plain": [
       "<IPython.core.display.HTML object>"
      ]
     },
     "metadata": {},
     "output_type": "display_data"
    },
    {
     "name": "stdout",
     "output_type": "stream",
     "text": [
      "424\n",
      "PROCESS TIME: 3.531543493270874\n",
      "merchant_16580\n",
      "data is not enough 2\n",
      "PROCESS TIME: 2.6225059032440186\n",
      "merchant_66960\n"
     ]
    },
    {
     "data": {
      "text/html": [],
      "text/plain": [
       "<IPython.core.display.HTML object>"
      ]
     },
     "metadata": {},
     "output_type": "display_data"
    },
    {
     "name": "stdout",
     "output_type": "stream",
     "text": [
      "426\n",
      "PROCESS TIME: 3.516052007675171\n",
      "merchant_7287\n"
     ]
    },
    {
     "data": {
      "text/html": [],
      "text/plain": [
       "<IPython.core.display.HTML object>"
      ]
     },
     "metadata": {},
     "output_type": "display_data"
    },
    {
     "name": "stdout",
     "output_type": "stream",
     "text": [
      "427\n",
      "PROCESS TIME: 3.4633092880249023\n",
      "merchant_37309\n"
     ]
    },
    {
     "data": {
      "text/html": [],
      "text/plain": [
       "<IPython.core.display.HTML object>"
      ]
     },
     "metadata": {},
     "output_type": "display_data"
    },
    {
     "name": "stdout",
     "output_type": "stream",
     "text": [
      "428\n",
      "PROCESS TIME: 3.585564374923706\n",
      "merchant_60141\n",
      "data is not enough 4\n",
      "PROCESS TIME: 2.630929470062256\n",
      "merchant_51385\n"
     ]
    },
    {
     "data": {
      "text/html": [],
      "text/plain": [
       "<IPython.core.display.HTML object>"
      ]
     },
     "metadata": {},
     "output_type": "display_data"
    },
    {
     "name": "stdout",
     "output_type": "stream",
     "text": [
      "430\n",
      "PROCESS TIME: 3.463270664215088\n",
      "merchant_11793\n"
     ]
    },
    {
     "data": {
      "text/html": [],
      "text/plain": [
       "<IPython.core.display.HTML object>"
      ]
     },
     "metadata": {},
     "output_type": "display_data"
    },
    {
     "name": "stdout",
     "output_type": "stream",
     "text": [
      "431\n",
      "PROCESS TIME: 3.492455005645752\n",
      "merchant_2076\n"
     ]
    },
    {
     "data": {
      "text/html": [],
      "text/plain": [
       "<IPython.core.display.HTML object>"
      ]
     },
     "metadata": {},
     "output_type": "display_data"
    },
    {
     "name": "stdout",
     "output_type": "stream",
     "text": [
      "432\n",
      "PROCESS TIME: 3.5046515464782715\n",
      "merchant_28437\n",
      "data is not enough 1\n",
      "PROCESS TIME: 0.04697895050048828\n",
      "merchant_21311\n"
     ]
    },
    {
     "data": {
      "text/html": [],
      "text/plain": [
       "<IPython.core.display.HTML object>"
      ]
     },
     "metadata": {},
     "output_type": "display_data"
    },
    {
     "name": "stdout",
     "output_type": "stream",
     "text": [
      "434\n",
      "PROCESS TIME: 3.6098506450653076\n",
      "merchant_21080\n"
     ]
    },
    {
     "data": {
      "text/html": [],
      "text/plain": [
       "<IPython.core.display.HTML object>"
      ]
     },
     "metadata": {},
     "output_type": "display_data"
    },
    {
     "name": "stdout",
     "output_type": "stream",
     "text": [
      "435\n",
      "PROCESS TIME: 3.604870080947876\n",
      "merchant_57478\n",
      "data is not enough 5\n",
      "PROCESS TIME: 2.616295099258423\n",
      "merchant_30222\n",
      "data is not enough 1\n",
      "PROCESS TIME: 0.04687094688415527\n",
      "merchant_45856\n"
     ]
    },
    {
     "data": {
      "text/html": [],
      "text/plain": [
       "<IPython.core.display.HTML object>"
      ]
     },
     "metadata": {},
     "output_type": "display_data"
    },
    {
     "name": "stdout",
     "output_type": "stream",
     "text": [
      "438\n",
      "PROCESS TIME: 3.4978814125061035\n",
      "merchant_150\n",
      "data is not enough 2\n",
      "PROCESS TIME: 2.6290457248687744\n",
      "merchant_42966\n"
     ]
    },
    {
     "data": {
      "text/html": [],
      "text/plain": [
       "<IPython.core.display.HTML object>"
      ]
     },
     "metadata": {},
     "output_type": "display_data"
    },
    {
     "name": "stdout",
     "output_type": "stream",
     "text": [
      "440\n",
      "PROCESS TIME: 3.612313985824585\n",
      "merchant_16050\n",
      "data is not enough 3\n",
      "PROCESS TIME: 2.621201276779175\n",
      "merchant_56313\n"
     ]
    },
    {
     "data": {
      "text/html": [],
      "text/plain": [
       "<IPython.core.display.HTML object>"
      ]
     },
     "metadata": {},
     "output_type": "display_data"
    },
    {
     "name": "stdout",
     "output_type": "stream",
     "text": [
      "442\n",
      "PROCESS TIME: 3.504915952682495\n",
      "merchant_24756\n"
     ]
    },
    {
     "data": {
      "text/html": [],
      "text/plain": [
       "<IPython.core.display.HTML object>"
      ]
     },
     "metadata": {},
     "output_type": "display_data"
    },
    {
     "name": "stdout",
     "output_type": "stream",
     "text": [
      "443\n",
      "PROCESS TIME: 3.485943555831909\n",
      "merchant_66175\n"
     ]
    },
    {
     "data": {
      "text/html": [],
      "text/plain": [
       "<IPython.core.display.HTML object>"
      ]
     },
     "metadata": {},
     "output_type": "display_data"
    },
    {
     "name": "stdout",
     "output_type": "stream",
     "text": [
      "444\n",
      "PROCESS TIME: 3.5240399837493896\n",
      "merchant_66031\n",
      "data is not enough 3\n",
      "PROCESS TIME: 2.6394693851470947\n",
      "merchant_24394\n",
      "data is not enough 1\n",
      "PROCESS TIME: 0.046916961669921875\n",
      "merchant_48863\n"
     ]
    },
    {
     "data": {
      "text/html": [],
      "text/plain": [
       "<IPython.core.display.HTML object>"
      ]
     },
     "metadata": {},
     "output_type": "display_data"
    },
    {
     "name": "stdout",
     "output_type": "stream",
     "text": [
      "447\n",
      "PROCESS TIME: 3.59342885017395\n",
      "merchant_15473\n"
     ]
    },
    {
     "data": {
      "text/html": [],
      "text/plain": [
       "<IPython.core.display.HTML object>"
      ]
     },
     "metadata": {},
     "output_type": "display_data"
    },
    {
     "name": "stdout",
     "output_type": "stream",
     "text": [
      "448\n",
      "PROCESS TIME: 3.524899482727051\n",
      "merchant_16181\n"
     ]
    },
    {
     "data": {
      "text/html": [],
      "text/plain": [
       "<IPython.core.display.HTML object>"
      ]
     },
     "metadata": {},
     "output_type": "display_data"
    },
    {
     "name": "stdout",
     "output_type": "stream",
     "text": [
      "449\n",
      "PROCESS TIME: 3.604700803756714\n",
      "merchant_4631\n"
     ]
    },
    {
     "data": {
      "text/html": [],
      "text/plain": [
       "<IPython.core.display.HTML object>"
      ]
     },
     "metadata": {},
     "output_type": "display_data"
    },
    {
     "name": "stdout",
     "output_type": "stream",
     "text": [
      "450\n",
      "PROCESS TIME: 3.6164464950561523\n",
      "merchant_51041\n",
      "data is not enough 5\n",
      "PROCESS TIME: 2.6268835067749023\n",
      "merchant_23745\n"
     ]
    },
    {
     "data": {
      "text/html": [],
      "text/plain": [
       "<IPython.core.display.HTML object>"
      ]
     },
     "metadata": {},
     "output_type": "display_data"
    },
    {
     "name": "stdout",
     "output_type": "stream",
     "text": [
      "452\n",
      "PROCESS TIME: 3.521660089492798\n",
      "merchant_53944\n"
     ]
    },
    {
     "data": {
      "text/html": [],
      "text/plain": [
       "<IPython.core.display.HTML object>"
      ]
     },
     "metadata": {},
     "output_type": "display_data"
    },
    {
     "name": "stdout",
     "output_type": "stream",
     "text": [
      "453\n",
      "PROCESS TIME: 3.598235607147217\n",
      "merchant_37187\n"
     ]
    },
    {
     "data": {
      "text/html": [],
      "text/plain": [
       "<IPython.core.display.HTML object>"
      ]
     },
     "metadata": {},
     "output_type": "display_data"
    },
    {
     "name": "stdout",
     "output_type": "stream",
     "text": [
      "454\n",
      "PROCESS TIME: 3.6235766410827637\n",
      "merchant_63571\n",
      "data is not enough 3\n",
      "PROCESS TIME: 2.6499016284942627\n",
      "merchant_4046\n"
     ]
    },
    {
     "data": {
      "text/html": [],
      "text/plain": [
       "<IPython.core.display.HTML object>"
      ]
     },
     "metadata": {},
     "output_type": "display_data"
    },
    {
     "name": "stdout",
     "output_type": "stream",
     "text": [
      "456\n",
      "PROCESS TIME: 3.522223949432373\n",
      "merchant_22740\n"
     ]
    },
    {
     "data": {
      "text/html": [],
      "text/plain": [
       "<IPython.core.display.HTML object>"
      ]
     },
     "metadata": {},
     "output_type": "display_data"
    },
    {
     "name": "stdout",
     "output_type": "stream",
     "text": [
      "457\n",
      "PROCESS TIME: 3.532505750656128\n",
      "merchant_60966\n"
     ]
    },
    {
     "data": {
      "text/html": [],
      "text/plain": [
       "<IPython.core.display.HTML object>"
      ]
     },
     "metadata": {},
     "output_type": "display_data"
    },
    {
     "name": "stdout",
     "output_type": "stream",
     "text": [
      "458\n",
      "PROCESS TIME: 3.5733625888824463\n",
      "merchant_61312\n",
      "data is not enough 5\n",
      "PROCESS TIME: 2.627000570297241\n",
      "merchant_9872\n"
     ]
    },
    {
     "data": {
      "text/html": [],
      "text/plain": [
       "<IPython.core.display.HTML object>"
      ]
     },
     "metadata": {},
     "output_type": "display_data"
    },
    {
     "name": "stdout",
     "output_type": "stream",
     "text": [
      "460\n",
      "PROCESS TIME: 3.4934751987457275\n",
      "merchant_19380\n"
     ]
    },
    {
     "data": {
      "text/html": [],
      "text/plain": [
       "<IPython.core.display.HTML object>"
      ]
     },
     "metadata": {},
     "output_type": "display_data"
    },
    {
     "name": "stdout",
     "output_type": "stream",
     "text": [
      "461\n",
      "PROCESS TIME: 3.498582124710083\n",
      "merchant_41775\n",
      "data is not enough 3\n",
      "PROCESS TIME: 2.6148712635040283\n",
      "merchant_14126\n",
      "data is not enough 4\n",
      "PROCESS TIME: 2.64705491065979\n",
      "merchant_20157\n",
      "data is not enough 2\n",
      "PROCESS TIME: 2.6269524097442627\n",
      "merchant_58226\n"
     ]
    },
    {
     "data": {
      "text/html": [],
      "text/plain": [
       "<IPython.core.display.HTML object>"
      ]
     },
     "metadata": {},
     "output_type": "display_data"
    },
    {
     "name": "stdout",
     "output_type": "stream",
     "text": [
      "465\n",
      "PROCESS TIME: 3.463998794555664\n",
      "merchant_9806\n"
     ]
    },
    {
     "data": {
      "text/html": [],
      "text/plain": [
       "<IPython.core.display.HTML object>"
      ]
     },
     "metadata": {},
     "output_type": "display_data"
    },
    {
     "name": "stdout",
     "output_type": "stream",
     "text": [
      "466\n",
      "PROCESS TIME: 3.5039234161376953\n",
      "merchant_43325\n"
     ]
    },
    {
     "data": {
      "text/html": [],
      "text/plain": [
       "<IPython.core.display.HTML object>"
      ]
     },
     "metadata": {},
     "output_type": "display_data"
    },
    {
     "name": "stdout",
     "output_type": "stream",
     "text": [
      "467\n",
      "PROCESS TIME: 3.51558256149292\n",
      "merchant_13673\n"
     ]
    },
    {
     "data": {
      "text/html": [],
      "text/plain": [
       "<IPython.core.display.HTML object>"
      ]
     },
     "metadata": {},
     "output_type": "display_data"
    },
    {
     "name": "stdout",
     "output_type": "stream",
     "text": [
      "468\n",
      "PROCESS TIME: 3.4983479976654053\n",
      "merchant_50466\n",
      "data is not enough 2\n",
      "PROCESS TIME: 2.6378562450408936\n",
      "merchant_59108\n"
     ]
    },
    {
     "data": {
      "text/html": [],
      "text/plain": [
       "<IPython.core.display.HTML object>"
      ]
     },
     "metadata": {},
     "output_type": "display_data"
    },
    {
     "name": "stdout",
     "output_type": "stream",
     "text": [
      "470\n",
      "PROCESS TIME: 3.5384833812713623\n",
      "merchant_22656\n"
     ]
    },
    {
     "data": {
      "text/html": [],
      "text/plain": [
       "<IPython.core.display.HTML object>"
      ]
     },
     "metadata": {},
     "output_type": "display_data"
    },
    {
     "name": "stdout",
     "output_type": "stream",
     "text": [
      "471\n",
      "PROCESS TIME: 3.4581892490386963\n",
      "merchant_62865\n",
      "data is not enough 1\n",
      "PROCESS TIME: 0.046907901763916016\n",
      "merchant_16818\n"
     ]
    },
    {
     "data": {
      "text/html": [],
      "text/plain": [
       "<IPython.core.display.HTML object>"
      ]
     },
     "metadata": {},
     "output_type": "display_data"
    },
    {
     "name": "stdout",
     "output_type": "stream",
     "text": [
      "473\n",
      "PROCESS TIME: 3.5112054347991943\n",
      "merchant_7219\n"
     ]
    },
    {
     "data": {
      "text/html": [],
      "text/plain": [
       "<IPython.core.display.HTML object>"
      ]
     },
     "metadata": {},
     "output_type": "display_data"
    },
    {
     "name": "stdout",
     "output_type": "stream",
     "text": [
      "474\n",
      "PROCESS TIME: 3.621981143951416\n",
      "merchant_3641\n"
     ]
    },
    {
     "data": {
      "text/html": [],
      "text/plain": [
       "<IPython.core.display.HTML object>"
      ]
     },
     "metadata": {},
     "output_type": "display_data"
    },
    {
     "name": "stdout",
     "output_type": "stream",
     "text": [
      "475\n",
      "PROCESS TIME: 3.750519275665283\n",
      "merchant_43255\n"
     ]
    },
    {
     "data": {
      "text/html": [],
      "text/plain": [
       "<IPython.core.display.HTML object>"
      ]
     },
     "metadata": {},
     "output_type": "display_data"
    },
    {
     "name": "stdout",
     "output_type": "stream",
     "text": [
      "476\n",
      "PROCESS TIME: 3.5341339111328125\n",
      "merchant_30709\n",
      "data is not enough 5\n",
      "PROCESS TIME: 2.622575283050537\n",
      "merchant_20854\n",
      "data is not enough 1\n",
      "PROCESS TIME: 0.04686856269836426\n",
      "merchant_53200\n"
     ]
    },
    {
     "data": {
      "text/html": [],
      "text/plain": [
       "<IPython.core.display.HTML object>"
      ]
     },
     "metadata": {},
     "output_type": "display_data"
    },
    {
     "name": "stdout",
     "output_type": "stream",
     "text": [
      "479\n",
      "PROCESS TIME: 3.6175317764282227\n",
      "merchant_61296\n"
     ]
    },
    {
     "data": {
      "text/html": [],
      "text/plain": [
       "<IPython.core.display.HTML object>"
      ]
     },
     "metadata": {},
     "output_type": "display_data"
    },
    {
     "name": "stdout",
     "output_type": "stream",
     "text": [
      "480\n",
      "PROCESS TIME: 3.5117039680480957\n",
      "merchant_28159\n"
     ]
    },
    {
     "data": {
      "text/html": [],
      "text/plain": [
       "<IPython.core.display.HTML object>"
      ]
     },
     "metadata": {},
     "output_type": "display_data"
    },
    {
     "name": "stdout",
     "output_type": "stream",
     "text": [
      "481\n",
      "PROCESS TIME: 3.4735922813415527\n",
      "merchant_30956\n"
     ]
    },
    {
     "data": {
      "text/html": [],
      "text/plain": [
       "<IPython.core.display.HTML object>"
      ]
     },
     "metadata": {},
     "output_type": "display_data"
    },
    {
     "name": "stdout",
     "output_type": "stream",
     "text": [
      "482\n",
      "PROCESS TIME: 3.6008474826812744\n",
      "merchant_34609\n",
      "data is not enough 5\n",
      "PROCESS TIME: 2.6450119018554688\n",
      "merchant_67583\n"
     ]
    },
    {
     "data": {
      "text/html": [],
      "text/plain": [
       "<IPython.core.display.HTML object>"
      ]
     },
     "metadata": {},
     "output_type": "display_data"
    },
    {
     "name": "stdout",
     "output_type": "stream",
     "text": [
      "484\n",
      "PROCESS TIME: 3.48697566986084\n",
      "merchant_50050\n",
      "data is not enough 1\n",
      "PROCESS TIME: 0.04686379432678223\n",
      "merchant_67685\n",
      "data is not enough 3\n",
      "PROCESS TIME: 2.6113059520721436\n",
      "merchant_39837\n"
     ]
    },
    {
     "data": {
      "text/html": [],
      "text/plain": [
       "<IPython.core.display.HTML object>"
      ]
     },
     "metadata": {},
     "output_type": "display_data"
    },
    {
     "name": "stdout",
     "output_type": "stream",
     "text": [
      "487\n",
      "PROCESS TIME: 3.485422134399414\n",
      "merchant_3591\n"
     ]
    },
    {
     "data": {
      "text/html": [],
      "text/plain": [
       "<IPython.core.display.HTML object>"
      ]
     },
     "metadata": {},
     "output_type": "display_data"
    },
    {
     "name": "stdout",
     "output_type": "stream",
     "text": [
      "488\n",
      "PROCESS TIME: 3.485807418823242\n",
      "merchant_47566\n",
      "data is not enough 1\n",
      "PROCESS TIME: 0.04495096206665039\n",
      "merchant_56113\n"
     ]
    },
    {
     "data": {
      "text/html": [],
      "text/plain": [
       "<IPython.core.display.HTML object>"
      ]
     },
     "metadata": {},
     "output_type": "display_data"
    },
    {
     "name": "stdout",
     "output_type": "stream",
     "text": [
      "490\n",
      "PROCESS TIME: 3.4852352142333984\n",
      "merchant_23512\n"
     ]
    },
    {
     "data": {
      "text/html": [],
      "text/plain": [
       "<IPython.core.display.HTML object>"
      ]
     },
     "metadata": {},
     "output_type": "display_data"
    },
    {
     "name": "stdout",
     "output_type": "stream",
     "text": [
      "491\n",
      "PROCESS TIME: 3.602529525756836\n",
      "merchant_65437\n",
      "data is not enough 5\n",
      "PROCESS TIME: 2.6043238639831543\n",
      "merchant_62176\n"
     ]
    },
    {
     "data": {
      "text/html": [],
      "text/plain": [
       "<IPython.core.display.HTML object>"
      ]
     },
     "metadata": {},
     "output_type": "display_data"
    },
    {
     "name": "stdout",
     "output_type": "stream",
     "text": [
      "493\n",
      "PROCESS TIME: 3.633417844772339\n",
      "merchant_36681\n",
      "data is not enough 3\n",
      "PROCESS TIME: 2.636641263961792\n",
      "merchant_37104\n"
     ]
    },
    {
     "data": {
      "text/html": [],
      "text/plain": [
       "<IPython.core.display.HTML object>"
      ]
     },
     "metadata": {},
     "output_type": "display_data"
    },
    {
     "name": "stdout",
     "output_type": "stream",
     "text": [
      "495\n",
      "PROCESS TIME: 3.4704408645629883\n",
      "merchant_47344\n"
     ]
    },
    {
     "data": {
      "text/html": [],
      "text/plain": [
       "<IPython.core.display.HTML object>"
      ]
     },
     "metadata": {},
     "output_type": "display_data"
    },
    {
     "name": "stdout",
     "output_type": "stream",
     "text": [
      "496\n",
      "PROCESS TIME: 3.5039801597595215\n",
      "merchant_51638\n"
     ]
    },
    {
     "data": {
      "text/html": [],
      "text/plain": [
       "<IPython.core.display.HTML object>"
      ]
     },
     "metadata": {},
     "output_type": "display_data"
    },
    {
     "name": "stdout",
     "output_type": "stream",
     "text": [
      "497\n",
      "PROCESS TIME: 3.5119335651397705\n",
      "merchant_59085\n"
     ]
    },
    {
     "data": {
      "text/html": [],
      "text/plain": [
       "<IPython.core.display.HTML object>"
      ]
     },
     "metadata": {},
     "output_type": "display_data"
    },
    {
     "name": "stdout",
     "output_type": "stream",
     "text": [
      "498\n",
      "PROCESS TIME: 3.5431675910949707\n",
      "merchant_17173\n",
      "data is not enough 3\n",
      "PROCESS TIME: 2.611147880554199\n",
      "merchant_46333\n"
     ]
    },
    {
     "data": {
      "text/html": [],
      "text/plain": [
       "<IPython.core.display.HTML object>"
      ]
     },
     "metadata": {},
     "output_type": "display_data"
    },
    {
     "name": "stdout",
     "output_type": "stream",
     "text": [
      "500\n",
      "PROCESS TIME: 3.5510146617889404\n",
      "merchant_27081\n"
     ]
    },
    {
     "data": {
      "text/html": [],
      "text/plain": [
       "<IPython.core.display.HTML object>"
      ]
     },
     "metadata": {},
     "output_type": "display_data"
    },
    {
     "name": "stdout",
     "output_type": "stream",
     "text": [
      "501\n",
      "PROCESS TIME: 3.5015220642089844\n",
      "merchant_66883\n",
      "data is not enough 2\n",
      "PROCESS TIME: 2.639700174331665\n",
      "merchant_6137\n"
     ]
    },
    {
     "data": {
      "text/html": [],
      "text/plain": [
       "<IPython.core.display.HTML object>"
      ]
     },
     "metadata": {},
     "output_type": "display_data"
    },
    {
     "name": "stdout",
     "output_type": "stream",
     "text": [
      "503\n",
      "PROCESS TIME: 3.642289876937866\n",
      "merchant_55201\n"
     ]
    },
    {
     "data": {
      "text/html": [],
      "text/plain": [
       "<IPython.core.display.HTML object>"
      ]
     },
     "metadata": {},
     "output_type": "display_data"
    },
    {
     "name": "stdout",
     "output_type": "stream",
     "text": [
      "504\n",
      "PROCESS TIME: 3.6121416091918945\n",
      "merchant_60731\n",
      "data is not enough 2\n",
      "PROCESS TIME: 2.630568504333496\n",
      "merchant_20024\n"
     ]
    },
    {
     "data": {
      "text/html": [],
      "text/plain": [
       "<IPython.core.display.HTML object>"
      ]
     },
     "metadata": {},
     "output_type": "display_data"
    },
    {
     "name": "stdout",
     "output_type": "stream",
     "text": [
      "506\n",
      "PROCESS TIME: 3.632490634918213\n",
      "merchant_19445\n"
     ]
    },
    {
     "data": {
      "text/html": [],
      "text/plain": [
       "<IPython.core.display.HTML object>"
      ]
     },
     "metadata": {},
     "output_type": "display_data"
    },
    {
     "name": "stdout",
     "output_type": "stream",
     "text": [
      "507\n",
      "PROCESS TIME: 3.615788459777832\n",
      "merchant_11615\n"
     ]
    },
    {
     "data": {
      "text/html": [],
      "text/plain": [
       "<IPython.core.display.HTML object>"
      ]
     },
     "metadata": {},
     "output_type": "display_data"
    },
    {
     "name": "stdout",
     "output_type": "stream",
     "text": [
      "508\n",
      "PROCESS TIME: 3.607541561126709\n",
      "merchant_44470\n",
      "data is not enough 1\n",
      "PROCESS TIME: 0.04697012901306152\n",
      "merchant_36941\n"
     ]
    },
    {
     "data": {
      "text/html": [],
      "text/plain": [
       "<IPython.core.display.HTML object>"
      ]
     },
     "metadata": {},
     "output_type": "display_data"
    },
    {
     "name": "stdout",
     "output_type": "stream",
     "text": [
      "510\n",
      "PROCESS TIME: 3.5163657665252686\n",
      "merchant_21427\n"
     ]
    },
    {
     "data": {
      "text/html": [],
      "text/plain": [
       "<IPython.core.display.HTML object>"
      ]
     },
     "metadata": {},
     "output_type": "display_data"
    },
    {
     "name": "stdout",
     "output_type": "stream",
     "text": [
      "511\n",
      "PROCESS TIME: 3.516232490539551\n",
      "merchant_57503\n"
     ]
    },
    {
     "data": {
      "text/html": [],
      "text/plain": [
       "<IPython.core.display.HTML object>"
      ]
     },
     "metadata": {},
     "output_type": "display_data"
    },
    {
     "name": "stdout",
     "output_type": "stream",
     "text": [
      "512\n",
      "PROCESS TIME: 3.5021517276763916\n",
      "merchant_27091\n",
      "data is not enough 3\n",
      "PROCESS TIME: 2.6257855892181396\n",
      "merchant_52103\n"
     ]
    },
    {
     "data": {
      "text/html": [],
      "text/plain": [
       "<IPython.core.display.HTML object>"
      ]
     },
     "metadata": {},
     "output_type": "display_data"
    },
    {
     "name": "stdout",
     "output_type": "stream",
     "text": [
      "514\n",
      "PROCESS TIME: 3.627558946609497\n",
      "merchant_48585\n"
     ]
    },
    {
     "data": {
      "text/html": [],
      "text/plain": [
       "<IPython.core.display.HTML object>"
      ]
     },
     "metadata": {},
     "output_type": "display_data"
    },
    {
     "name": "stdout",
     "output_type": "stream",
     "text": [
      "515\n",
      "PROCESS TIME: 3.532012701034546\n",
      "merchant_59074\n"
     ]
    },
    {
     "data": {
      "text/html": [],
      "text/plain": [
       "<IPython.core.display.HTML object>"
      ]
     },
     "metadata": {},
     "output_type": "display_data"
    },
    {
     "name": "stdout",
     "output_type": "stream",
     "text": [
      "516\n",
      "PROCESS TIME: 3.501241445541382\n",
      "merchant_29855\n",
      "data is not enough 4\n",
      "PROCESS TIME: 2.644070625305176\n",
      "merchant_19773\n",
      "data is not enough 1\n",
      "PROCESS TIME: 0.03130769729614258\n",
      "merchant_60256\n"
     ]
    },
    {
     "data": {
      "text/html": [],
      "text/plain": [
       "<IPython.core.display.HTML object>"
      ]
     },
     "metadata": {},
     "output_type": "display_data"
    },
    {
     "name": "stdout",
     "output_type": "stream",
     "text": [
      "519\n",
      "PROCESS TIME: 3.870354413986206\n",
      "merchant_32462\n"
     ]
    },
    {
     "data": {
      "text/html": [],
      "text/plain": [
       "<IPython.core.display.HTML object>"
      ]
     },
     "metadata": {},
     "output_type": "display_data"
    },
    {
     "name": "stdout",
     "output_type": "stream",
     "text": [
      "520\n",
      "PROCESS TIME: 3.6185028553009033\n",
      "merchant_34852\n"
     ]
    },
    {
     "data": {
      "text/html": [],
      "text/plain": [
       "<IPython.core.display.HTML object>"
      ]
     },
     "metadata": {},
     "output_type": "display_data"
    },
    {
     "name": "stdout",
     "output_type": "stream",
     "text": [
      "521\n",
      "PROCESS TIME: 3.6853437423706055\n",
      "merchant_40952\n"
     ]
    },
    {
     "data": {
      "text/html": [],
      "text/plain": [
       "<IPython.core.display.HTML object>"
      ]
     },
     "metadata": {},
     "output_type": "display_data"
    },
    {
     "name": "stdout",
     "output_type": "stream",
     "text": [
      "522\n",
      "PROCESS TIME: 3.7097625732421875\n",
      "merchant_61003\n",
      "data is not enough 1\n",
      "PROCESS TIME: 0.031198501586914062\n",
      "merchant_21128\n"
     ]
    },
    {
     "data": {
      "text/html": [],
      "text/plain": [
       "<IPython.core.display.HTML object>"
      ]
     },
     "metadata": {},
     "output_type": "display_data"
    },
    {
     "name": "stdout",
     "output_type": "stream",
     "text": [
      "524\n",
      "PROCESS TIME: 3.8006815910339355\n",
      "merchant_36786\n"
     ]
    },
    {
     "data": {
      "text/html": [],
      "text/plain": [
       "<IPython.core.display.HTML object>"
      ]
     },
     "metadata": {},
     "output_type": "display_data"
    },
    {
     "name": "stdout",
     "output_type": "stream",
     "text": [
      "525\n",
      "PROCESS TIME: 3.548788547515869\n",
      "merchant_59632\n"
     ]
    },
    {
     "data": {
      "text/html": [],
      "text/plain": [
       "<IPython.core.display.HTML object>"
      ]
     },
     "metadata": {},
     "output_type": "display_data"
    },
    {
     "name": "stdout",
     "output_type": "stream",
     "text": [
      "526\n",
      "PROCESS TIME: 3.52057147026062\n",
      "merchant_60270\n"
     ]
    },
    {
     "data": {
      "text/html": [],
      "text/plain": [
       "<IPython.core.display.HTML object>"
      ]
     },
     "metadata": {},
     "output_type": "display_data"
    },
    {
     "name": "stdout",
     "output_type": "stream",
     "text": [
      "527\n",
      "PROCESS TIME: 3.625314950942993\n",
      "merchant_5858\n"
     ]
    },
    {
     "data": {
      "text/html": [],
      "text/plain": [
       "<IPython.core.display.HTML object>"
      ]
     },
     "metadata": {},
     "output_type": "display_data"
    },
    {
     "name": "stdout",
     "output_type": "stream",
     "text": [
      "528\n",
      "PROCESS TIME: 3.633967399597168\n",
      "merchant_37123\n"
     ]
    },
    {
     "data": {
      "text/html": [],
      "text/plain": [
       "<IPython.core.display.HTML object>"
      ]
     },
     "metadata": {},
     "output_type": "display_data"
    },
    {
     "name": "stdout",
     "output_type": "stream",
     "text": [
      "529\n",
      "PROCESS TIME: 3.6812946796417236\n",
      "merchant_39997\n"
     ]
    },
    {
     "data": {
      "text/html": [],
      "text/plain": [
       "<IPython.core.display.HTML object>"
      ]
     },
     "metadata": {},
     "output_type": "display_data"
    },
    {
     "name": "stdout",
     "output_type": "stream",
     "text": [
      "530\n",
      "PROCESS TIME: 3.6394660472869873\n",
      "merchant_43973\n",
      "data is not enough 2\n",
      "PROCESS TIME: 2.6193556785583496\n",
      "merchant_41270\n"
     ]
    },
    {
     "data": {
      "text/html": [],
      "text/plain": [
       "<IPython.core.display.HTML object>"
      ]
     },
     "metadata": {},
     "output_type": "display_data"
    },
    {
     "name": "stdout",
     "output_type": "stream",
     "text": [
      "532\n",
      "PROCESS TIME: 3.556072950363159\n",
      "merchant_48929\n",
      "data is not enough 2\n",
      "PROCESS TIME: 2.6328818798065186\n",
      "merchant_38552\n"
     ]
    },
    {
     "data": {
      "text/html": [],
      "text/plain": [
       "<IPython.core.display.HTML object>"
      ]
     },
     "metadata": {},
     "output_type": "display_data"
    },
    {
     "name": "stdout",
     "output_type": "stream",
     "text": [
      "534\n",
      "PROCESS TIME: 3.5676143169403076\n",
      "merchant_36223\n"
     ]
    },
    {
     "data": {
      "text/html": [],
      "text/plain": [
       "<IPython.core.display.HTML object>"
      ]
     },
     "metadata": {},
     "output_type": "display_data"
    },
    {
     "name": "stdout",
     "output_type": "stream",
     "text": [
      "535\n",
      "PROCESS TIME: 3.5688045024871826\n",
      "merchant_32241\n"
     ]
    },
    {
     "data": {
      "text/html": [],
      "text/plain": [
       "<IPython.core.display.HTML object>"
      ]
     },
     "metadata": {},
     "output_type": "display_data"
    },
    {
     "name": "stdout",
     "output_type": "stream",
     "text": [
      "536\n",
      "PROCESS TIME: 3.528508424758911\n",
      "merchant_40731\n"
     ]
    },
    {
     "data": {
      "text/html": [],
      "text/plain": [
       "<IPython.core.display.HTML object>"
      ]
     },
     "metadata": {},
     "output_type": "display_data"
    },
    {
     "name": "stdout",
     "output_type": "stream",
     "text": [
      "537\n",
      "PROCESS TIME: 3.664822578430176\n",
      "merchant_20635\n"
     ]
    },
    {
     "data": {
      "text/html": [],
      "text/plain": [
       "<IPython.core.display.HTML object>"
      ]
     },
     "metadata": {},
     "output_type": "display_data"
    },
    {
     "name": "stdout",
     "output_type": "stream",
     "text": [
      "538\n",
      "PROCESS TIME: 3.7779617309570312\n",
      "merchant_59482\n"
     ]
    },
    {
     "data": {
      "text/html": [],
      "text/plain": [
       "<IPython.core.display.HTML object>"
      ]
     },
     "metadata": {},
     "output_type": "display_data"
    },
    {
     "name": "stdout",
     "output_type": "stream",
     "text": [
      "539\n",
      "PROCESS TIME: 3.700516939163208\n",
      "merchant_48102\n"
     ]
    },
    {
     "data": {
      "text/html": [],
      "text/plain": [
       "<IPython.core.display.HTML object>"
      ]
     },
     "metadata": {},
     "output_type": "display_data"
    },
    {
     "name": "stdout",
     "output_type": "stream",
     "text": [
      "540\n",
      "PROCESS TIME: 3.819674491882324\n",
      "merchant_8413\n"
     ]
    },
    {
     "data": {
      "text/html": [],
      "text/plain": [
       "<IPython.core.display.HTML object>"
      ]
     },
     "metadata": {},
     "output_type": "display_data"
    },
    {
     "name": "stdout",
     "output_type": "stream",
     "text": [
      "541\n",
      "PROCESS TIME: 3.61415696144104\n",
      "merchant_44348\n"
     ]
    },
    {
     "data": {
      "text/html": [],
      "text/plain": [
       "<IPython.core.display.HTML object>"
      ]
     },
     "metadata": {},
     "output_type": "display_data"
    },
    {
     "name": "stdout",
     "output_type": "stream",
     "text": [
      "542\n",
      "PROCESS TIME: 3.6898815631866455\n",
      "merchant_40627\n"
     ]
    },
    {
     "data": {
      "text/html": [],
      "text/plain": [
       "<IPython.core.display.HTML object>"
      ]
     },
     "metadata": {},
     "output_type": "display_data"
    },
    {
     "name": "stdout",
     "output_type": "stream",
     "text": [
      "543\n",
      "PROCESS TIME: 3.5397586822509766\n",
      "merchant_58404\n",
      "data is not enough 2\n",
      "PROCESS TIME: 2.688220977783203\n",
      "merchant_67210\n"
     ]
    },
    {
     "data": {
      "text/html": [],
      "text/plain": [
       "<IPython.core.display.HTML object>"
      ]
     },
     "metadata": {},
     "output_type": "display_data"
    },
    {
     "name": "stdout",
     "output_type": "stream",
     "text": [
      "545\n",
      "PROCESS TIME: 3.684401273727417\n",
      "merchant_33972\n"
     ]
    },
    {
     "data": {
      "text/html": [],
      "text/plain": [
       "<IPython.core.display.HTML object>"
      ]
     },
     "metadata": {},
     "output_type": "display_data"
    },
    {
     "name": "stdout",
     "output_type": "stream",
     "text": [
      "546\n",
      "PROCESS TIME: 3.6810872554779053\n",
      "merchant_50825\n"
     ]
    },
    {
     "data": {
      "text/html": [],
      "text/plain": [
       "<IPython.core.display.HTML object>"
      ]
     },
     "metadata": {},
     "output_type": "display_data"
    },
    {
     "name": "stdout",
     "output_type": "stream",
     "text": [
      "547\n",
      "PROCESS TIME: 3.5841188430786133\n",
      "merchant_50426\n"
     ]
    },
    {
     "data": {
      "text/html": [],
      "text/plain": [
       "<IPython.core.display.HTML object>"
      ]
     },
     "metadata": {},
     "output_type": "display_data"
    },
    {
     "name": "stdout",
     "output_type": "stream",
     "text": [
      "548\n",
      "PROCESS TIME: 3.6720409393310547\n",
      "merchant_33046\n"
     ]
    },
    {
     "data": {
      "text/html": [],
      "text/plain": [
       "<IPython.core.display.HTML object>"
      ]
     },
     "metadata": {},
     "output_type": "display_data"
    },
    {
     "name": "stdout",
     "output_type": "stream",
     "text": [
      "549\n",
      "PROCESS TIME: 3.7572083473205566\n",
      "merchant_12750\n"
     ]
    },
    {
     "data": {
      "text/html": [],
      "text/plain": [
       "<IPython.core.display.HTML object>"
      ]
     },
     "metadata": {},
     "output_type": "display_data"
    },
    {
     "name": "stdout",
     "output_type": "stream",
     "text": [
      "550\n",
      "PROCESS TIME: 3.5953989028930664\n",
      "merchant_21892\n"
     ]
    },
    {
     "data": {
      "text/html": [],
      "text/plain": [
       "<IPython.core.display.HTML object>"
      ]
     },
     "metadata": {},
     "output_type": "display_data"
    },
    {
     "name": "stdout",
     "output_type": "stream",
     "text": [
      "551\n",
      "PROCESS TIME: 3.6828837394714355\n",
      "merchant_38206\n"
     ]
    },
    {
     "data": {
      "text/html": [],
      "text/plain": [
       "<IPython.core.display.HTML object>"
      ]
     },
     "metadata": {},
     "output_type": "display_data"
    },
    {
     "name": "stdout",
     "output_type": "stream",
     "text": [
      "552\n",
      "PROCESS TIME: 3.6170454025268555\n",
      "merchant_55405\n",
      "data is not enough 1\n",
      "PROCESS TIME: 0.05369281768798828\n",
      "merchant_22118\n",
      "data is not enough 1\n",
      "PROCESS TIME: 0.046318769454956055\n",
      "merchant_58273\n"
     ]
    },
    {
     "data": {
      "text/html": [],
      "text/plain": [
       "<IPython.core.display.HTML object>"
      ]
     },
     "metadata": {},
     "output_type": "display_data"
    },
    {
     "name": "stdout",
     "output_type": "stream",
     "text": [
      "555\n",
      "PROCESS TIME: 3.5621230602264404\n",
      "merchant_6267\n"
     ]
    },
    {
     "data": {
      "text/html": [],
      "text/plain": [
       "<IPython.core.display.HTML object>"
      ]
     },
     "metadata": {},
     "output_type": "display_data"
    },
    {
     "name": "stdout",
     "output_type": "stream",
     "text": [
      "556\n",
      "PROCESS TIME: 3.5517475605010986\n",
      "merchant_41683\n"
     ]
    },
    {
     "data": {
      "text/html": [],
      "text/plain": [
       "<IPython.core.display.HTML object>"
      ]
     },
     "metadata": {},
     "output_type": "display_data"
    },
    {
     "name": "stdout",
     "output_type": "stream",
     "text": [
      "557\n",
      "PROCESS TIME: 3.4733004570007324\n",
      "merchant_39530\n"
     ]
    },
    {
     "data": {
      "text/html": [],
      "text/plain": [
       "<IPython.core.display.HTML object>"
      ]
     },
     "metadata": {},
     "output_type": "display_data"
    },
    {
     "name": "stdout",
     "output_type": "stream",
     "text": [
      "558\n",
      "PROCESS TIME: 3.5447919368743896\n",
      "merchant_63682\n",
      "data is not enough 3\n",
      "PROCESS TIME: 2.635146379470825\n",
      "merchant_52345\n",
      "data is not enough 2\n",
      "PROCESS TIME: 2.6611382961273193\n",
      "merchant_39332\n"
     ]
    },
    {
     "data": {
      "text/html": [],
      "text/plain": [
       "<IPython.core.display.HTML object>"
      ]
     },
     "metadata": {},
     "output_type": "display_data"
    },
    {
     "name": "stdout",
     "output_type": "stream",
     "text": [
      "561\n",
      "PROCESS TIME: 3.673628807067871\n",
      "merchant_38255\n"
     ]
    },
    {
     "data": {
      "text/html": [],
      "text/plain": [
       "<IPython.core.display.HTML object>"
      ]
     },
     "metadata": {},
     "output_type": "display_data"
    },
    {
     "name": "stdout",
     "output_type": "stream",
     "text": [
      "562\n",
      "PROCESS TIME: 3.5210466384887695\n",
      "merchant_41394\n"
     ]
    },
    {
     "data": {
      "text/html": [],
      "text/plain": [
       "<IPython.core.display.HTML object>"
      ]
     },
     "metadata": {},
     "output_type": "display_data"
    },
    {
     "name": "stdout",
     "output_type": "stream",
     "text": [
      "563\n",
      "PROCESS TIME: 3.5564639568328857\n",
      "merchant_65195\n"
     ]
    },
    {
     "data": {
      "text/html": [],
      "text/plain": [
       "<IPython.core.display.HTML object>"
      ]
     },
     "metadata": {},
     "output_type": "display_data"
    },
    {
     "name": "stdout",
     "output_type": "stream",
     "text": [
      "564\n",
      "PROCESS TIME: 3.634981632232666\n",
      "merchant_48037\n"
     ]
    },
    {
     "data": {
      "text/html": [],
      "text/plain": [
       "<IPython.core.display.HTML object>"
      ]
     },
     "metadata": {},
     "output_type": "display_data"
    },
    {
     "name": "stdout",
     "output_type": "stream",
     "text": [
      "565\n",
      "PROCESS TIME: 3.64907169342041\n",
      "merchant_4290\n"
     ]
    },
    {
     "data": {
      "text/html": [],
      "text/plain": [
       "<IPython.core.display.HTML object>"
      ]
     },
     "metadata": {},
     "output_type": "display_data"
    },
    {
     "name": "stdout",
     "output_type": "stream",
     "text": [
      "566\n",
      "PROCESS TIME: 3.5556325912475586\n",
      "merchant_34582\n",
      "data is not enough 1\n",
      "PROCESS TIME: 0.04494047164916992\n",
      "merchant_35289\n"
     ]
    },
    {
     "data": {
      "text/html": [],
      "text/plain": [
       "<IPython.core.display.HTML object>"
      ]
     },
     "metadata": {},
     "output_type": "display_data"
    },
    {
     "name": "stdout",
     "output_type": "stream",
     "text": [
      "568\n",
      "PROCESS TIME: 3.5178894996643066\n",
      "merchant_29731\n",
      "data is not enough 2\n",
      "PROCESS TIME: 2.63958740234375\n",
      "merchant_21548\n",
      "data is not enough 5\n",
      "PROCESS TIME: 2.6565778255462646\n",
      "merchant_9190\n"
     ]
    },
    {
     "data": {
      "text/html": [],
      "text/plain": [
       "<IPython.core.display.HTML object>"
      ]
     },
     "metadata": {},
     "output_type": "display_data"
    },
    {
     "name": "stdout",
     "output_type": "stream",
     "text": [
      "571\n",
      "PROCESS TIME: 3.5140233039855957\n",
      "merchant_34549\n"
     ]
    },
    {
     "data": {
      "text/html": [],
      "text/plain": [
       "<IPython.core.display.HTML object>"
      ]
     },
     "metadata": {},
     "output_type": "display_data"
    },
    {
     "name": "stdout",
     "output_type": "stream",
     "text": [
      "572\n",
      "PROCESS TIME: 3.5276858806610107\n",
      "merchant_13073\n",
      "data is not enough 3\n",
      "PROCESS TIME: 2.630159378051758\n",
      "merchant_41163\n"
     ]
    },
    {
     "data": {
      "text/html": [],
      "text/plain": [
       "<IPython.core.display.HTML object>"
      ]
     },
     "metadata": {},
     "output_type": "display_data"
    },
    {
     "name": "stdout",
     "output_type": "stream",
     "text": [
      "574\n",
      "PROCESS TIME: 3.6359846591949463\n",
      "merchant_30495\n"
     ]
    },
    {
     "data": {
      "text/html": [],
      "text/plain": [
       "<IPython.core.display.HTML object>"
      ]
     },
     "metadata": {},
     "output_type": "display_data"
    },
    {
     "name": "stdout",
     "output_type": "stream",
     "text": [
      "575\n",
      "PROCESS TIME: 3.5293915271759033\n",
      "merchant_33241\n"
     ]
    },
    {
     "data": {
      "text/html": [],
      "text/plain": [
       "<IPython.core.display.HTML object>"
      ]
     },
     "metadata": {},
     "output_type": "display_data"
    },
    {
     "name": "stdout",
     "output_type": "stream",
     "text": [
      "576\n",
      "PROCESS TIME: 3.650540351867676\n",
      "merchant_44283\n"
     ]
    },
    {
     "data": {
      "text/html": [],
      "text/plain": [
       "<IPython.core.display.HTML object>"
      ]
     },
     "metadata": {},
     "output_type": "display_data"
    },
    {
     "name": "stdout",
     "output_type": "stream",
     "text": [
      "577\n",
      "PROCESS TIME: 3.539144992828369\n",
      "merchant_27656\n"
     ]
    },
    {
     "data": {
      "text/html": [],
      "text/plain": [
       "<IPython.core.display.HTML object>"
      ]
     },
     "metadata": {},
     "output_type": "display_data"
    },
    {
     "name": "stdout",
     "output_type": "stream",
     "text": [
      "578\n",
      "PROCESS TIME: 3.699733018875122\n",
      "merchant_43413\n"
     ]
    },
    {
     "data": {
      "text/html": [],
      "text/plain": [
       "<IPython.core.display.HTML object>"
      ]
     },
     "metadata": {},
     "output_type": "display_data"
    },
    {
     "name": "stdout",
     "output_type": "stream",
     "text": [
      "579\n",
      "PROCESS TIME: 3.690756320953369\n",
      "merchant_57210\n",
      "data is not enough 2\n",
      "PROCESS TIME: 2.6354308128356934\n",
      "merchant_65281\n"
     ]
    },
    {
     "data": {
      "text/html": [],
      "text/plain": [
       "<IPython.core.display.HTML object>"
      ]
     },
     "metadata": {},
     "output_type": "display_data"
    },
    {
     "name": "stdout",
     "output_type": "stream",
     "text": [
      "581\n",
      "PROCESS TIME: 3.6536238193511963\n",
      "merchant_16788\n"
     ]
    },
    {
     "data": {
      "text/html": [],
      "text/plain": [
       "<IPython.core.display.HTML object>"
      ]
     },
     "metadata": {},
     "output_type": "display_data"
    },
    {
     "name": "stdout",
     "output_type": "stream",
     "text": [
      "582\n",
      "PROCESS TIME: 3.6086339950561523\n",
      "merchant_1131\n"
     ]
    },
    {
     "data": {
      "text/html": [],
      "text/plain": [
       "<IPython.core.display.HTML object>"
      ]
     },
     "metadata": {},
     "output_type": "display_data"
    },
    {
     "name": "stdout",
     "output_type": "stream",
     "text": [
      "583\n",
      "PROCESS TIME: 3.5978453159332275\n",
      "merchant_28274\n"
     ]
    },
    {
     "data": {
      "text/html": [],
      "text/plain": [
       "<IPython.core.display.HTML object>"
      ]
     },
     "metadata": {},
     "output_type": "display_data"
    },
    {
     "name": "stdout",
     "output_type": "stream",
     "text": [
      "584\n",
      "PROCESS TIME: 3.5265750885009766\n",
      "merchant_28453\n"
     ]
    },
    {
     "data": {
      "text/html": [],
      "text/plain": [
       "<IPython.core.display.HTML object>"
      ]
     },
     "metadata": {},
     "output_type": "display_data"
    },
    {
     "name": "stdout",
     "output_type": "stream",
     "text": [
      "585\n",
      "PROCESS TIME: 3.638610601425171\n",
      "merchant_26778\n",
      "data is not enough 1\n",
      "PROCESS TIME: 0.04691004753112793\n",
      "merchant_2381\n",
      "data is not enough 2\n",
      "PROCESS TIME: 2.6364407539367676\n",
      "merchant_23042\n"
     ]
    },
    {
     "data": {
      "text/html": [],
      "text/plain": [
       "<IPython.core.display.HTML object>"
      ]
     },
     "metadata": {},
     "output_type": "display_data"
    },
    {
     "name": "stdout",
     "output_type": "stream",
     "text": [
      "588\n",
      "PROCESS TIME: 3.5494163036346436\n",
      "merchant_67137\n",
      "data is not enough 3\n",
      "PROCESS TIME: 2.6551547050476074\n",
      "merchant_46451\n"
     ]
    },
    {
     "data": {
      "text/html": [],
      "text/plain": [
       "<IPython.core.display.HTML object>"
      ]
     },
     "metadata": {},
     "output_type": "display_data"
    },
    {
     "name": "stdout",
     "output_type": "stream",
     "text": [
      "590\n",
      "PROCESS TIME: 3.6254003047943115\n",
      "merchant_47393\n"
     ]
    },
    {
     "data": {
      "text/html": [],
      "text/plain": [
       "<IPython.core.display.HTML object>"
      ]
     },
     "metadata": {},
     "output_type": "display_data"
    },
    {
     "name": "stdout",
     "output_type": "stream",
     "text": [
      "591\n",
      "PROCESS TIME: 3.498826265335083\n",
      "merchant_54377\n",
      "data is not enough 3\n",
      "PROCESS TIME: 2.6377615928649902\n",
      "merchant_17396\n"
     ]
    },
    {
     "data": {
      "text/html": [],
      "text/plain": [
       "<IPython.core.display.HTML object>"
      ]
     },
     "metadata": {},
     "output_type": "display_data"
    },
    {
     "name": "stdout",
     "output_type": "stream",
     "text": [
      "593\n",
      "PROCESS TIME: 3.7256784439086914\n",
      "merchant_43387\n"
     ]
    },
    {
     "data": {
      "text/html": [],
      "text/plain": [
       "<IPython.core.display.HTML object>"
      ]
     },
     "metadata": {},
     "output_type": "display_data"
    },
    {
     "name": "stdout",
     "output_type": "stream",
     "text": [
      "594\n",
      "PROCESS TIME: 3.575937509536743\n",
      "merchant_47091\n"
     ]
    },
    {
     "data": {
      "text/html": [],
      "text/plain": [
       "<IPython.core.display.HTML object>"
      ]
     },
     "metadata": {},
     "output_type": "display_data"
    },
    {
     "name": "stdout",
     "output_type": "stream",
     "text": [
      "595\n",
      "PROCESS TIME: 3.703927516937256\n",
      "merchant_47698\n"
     ]
    },
    {
     "data": {
      "text/html": [],
      "text/plain": [
       "<IPython.core.display.HTML object>"
      ]
     },
     "metadata": {},
     "output_type": "display_data"
    },
    {
     "name": "stdout",
     "output_type": "stream",
     "text": [
      "596\n",
      "PROCESS TIME: 3.658088207244873\n",
      "merchant_26322\n"
     ]
    },
    {
     "data": {
      "text/html": [],
      "text/plain": [
       "<IPython.core.display.HTML object>"
      ]
     },
     "metadata": {},
     "output_type": "display_data"
    },
    {
     "name": "stdout",
     "output_type": "stream",
     "text": [
      "597\n",
      "PROCESS TIME: 3.689563035964966\n",
      "merchant_5120\n"
     ]
    },
    {
     "data": {
      "text/html": [],
      "text/plain": [
       "<IPython.core.display.HTML object>"
      ]
     },
     "metadata": {},
     "output_type": "display_data"
    },
    {
     "name": "stdout",
     "output_type": "stream",
     "text": [
      "598\n",
      "PROCESS TIME: 3.6737072467803955\n",
      "merchant_64736\n"
     ]
    },
    {
     "data": {
      "text/html": [],
      "text/plain": [
       "<IPython.core.display.HTML object>"
      ]
     },
     "metadata": {},
     "output_type": "display_data"
    },
    {
     "name": "stdout",
     "output_type": "stream",
     "text": [
      "599\n",
      "PROCESS TIME: 3.582623243331909\n",
      "merchant_16691\n"
     ]
    },
    {
     "data": {
      "text/html": [],
      "text/plain": [
       "<IPython.core.display.HTML object>"
      ]
     },
     "metadata": {},
     "output_type": "display_data"
    },
    {
     "name": "stdout",
     "output_type": "stream",
     "text": [
      "600\n",
      "PROCESS TIME: 3.6438658237457275\n",
      "merchant_35016\n"
     ]
    },
    {
     "data": {
      "text/html": [],
      "text/plain": [
       "<IPython.core.display.HTML object>"
      ]
     },
     "metadata": {},
     "output_type": "display_data"
    },
    {
     "name": "stdout",
     "output_type": "stream",
     "text": [
      "601\n",
      "PROCESS TIME: 3.6448652744293213\n",
      "merchant_12419\n",
      "data is not enough 5\n",
      "PROCESS TIME: 2.6433932781219482\n",
      "merchant_11391\n",
      "data is not enough 2\n",
      "PROCESS TIME: 2.6420726776123047\n",
      "merchant_9532\n"
     ]
    },
    {
     "data": {
      "text/html": [],
      "text/plain": [
       "<IPython.core.display.HTML object>"
      ]
     },
     "metadata": {},
     "output_type": "display_data"
    },
    {
     "name": "stdout",
     "output_type": "stream",
     "text": [
      "604\n",
      "PROCESS TIME: 3.5460472106933594\n",
      "merchant_20624\n"
     ]
    },
    {
     "data": {
      "text/html": [],
      "text/plain": [
       "<IPython.core.display.HTML object>"
      ]
     },
     "metadata": {},
     "output_type": "display_data"
    },
    {
     "name": "stdout",
     "output_type": "stream",
     "text": [
      "605\n",
      "PROCESS TIME: 3.7809112071990967\n",
      "merchant_20527\n"
     ]
    },
    {
     "data": {
      "text/html": [],
      "text/plain": [
       "<IPython.core.display.HTML object>"
      ]
     },
     "metadata": {},
     "output_type": "display_data"
    },
    {
     "name": "stdout",
     "output_type": "stream",
     "text": [
      "606\n",
      "PROCESS TIME: 3.650595188140869\n",
      "merchant_38919\n"
     ]
    },
    {
     "data": {
      "text/html": [],
      "text/plain": [
       "<IPython.core.display.HTML object>"
      ]
     },
     "metadata": {},
     "output_type": "display_data"
    },
    {
     "name": "stdout",
     "output_type": "stream",
     "text": [
      "607\n",
      "PROCESS TIME: 3.631162405014038\n",
      "merchant_61824\n",
      "data is not enough 5\n",
      "PROCESS TIME: 2.6257808208465576\n",
      "merchant_3092\n"
     ]
    },
    {
     "data": {
      "text/html": [],
      "text/plain": [
       "<IPython.core.display.HTML object>"
      ]
     },
     "metadata": {},
     "output_type": "display_data"
    },
    {
     "name": "stdout",
     "output_type": "stream",
     "text": [
      "609\n",
      "PROCESS TIME: 3.4889354705810547\n",
      "merchant_39604\n"
     ]
    },
    {
     "data": {
      "text/html": [],
      "text/plain": [
       "<IPython.core.display.HTML object>"
      ]
     },
     "metadata": {},
     "output_type": "display_data"
    },
    {
     "name": "stdout",
     "output_type": "stream",
     "text": [
      "610\n",
      "PROCESS TIME: 3.632909059524536\n",
      "merchant_31732\n"
     ]
    },
    {
     "data": {
      "text/html": [],
      "text/plain": [
       "<IPython.core.display.HTML object>"
      ]
     },
     "metadata": {},
     "output_type": "display_data"
    },
    {
     "name": "stdout",
     "output_type": "stream",
     "text": [
      "611\n",
      "PROCESS TIME: 3.548034191131592\n",
      "merchant_16402\n"
     ]
    },
    {
     "data": {
      "text/html": [],
      "text/plain": [
       "<IPython.core.display.HTML object>"
      ]
     },
     "metadata": {},
     "output_type": "display_data"
    },
    {
     "name": "stdout",
     "output_type": "stream",
     "text": [
      "612\n",
      "PROCESS TIME: 3.681028127670288\n",
      "merchant_35223\n"
     ]
    },
    {
     "data": {
      "text/html": [],
      "text/plain": [
       "<IPython.core.display.HTML object>"
      ]
     },
     "metadata": {},
     "output_type": "display_data"
    },
    {
     "name": "stdout",
     "output_type": "stream",
     "text": [
      "613\n",
      "PROCESS TIME: 3.6330978870391846\n",
      "merchant_53627\n",
      "data is not enough 3\n",
      "PROCESS TIME: 2.6323413848876953\n",
      "merchant_51326\n"
     ]
    },
    {
     "data": {
      "text/html": [],
      "text/plain": [
       "<IPython.core.display.HTML object>"
      ]
     },
     "metadata": {},
     "output_type": "display_data"
    },
    {
     "name": "stdout",
     "output_type": "stream",
     "text": [
      "615\n",
      "PROCESS TIME: 3.5478906631469727\n",
      "merchant_42871\n"
     ]
    },
    {
     "data": {
      "text/html": [],
      "text/plain": [
       "<IPython.core.display.HTML object>"
      ]
     },
     "metadata": {},
     "output_type": "display_data"
    },
    {
     "name": "stdout",
     "output_type": "stream",
     "text": [
      "616\n",
      "PROCESS TIME: 3.515425682067871\n",
      "merchant_65997\n"
     ]
    },
    {
     "data": {
      "text/html": [],
      "text/plain": [
       "<IPython.core.display.HTML object>"
      ]
     },
     "metadata": {},
     "output_type": "display_data"
    },
    {
     "name": "stdout",
     "output_type": "stream",
     "text": [
      "617\n",
      "PROCESS TIME: 3.598837375640869\n",
      "merchant_64877\n"
     ]
    },
    {
     "data": {
      "text/html": [],
      "text/plain": [
       "<IPython.core.display.HTML object>"
      ]
     },
     "metadata": {},
     "output_type": "display_data"
    },
    {
     "name": "stdout",
     "output_type": "stream",
     "text": [
      "618\n",
      "PROCESS TIME: 3.54982328414917\n",
      "merchant_18956\n"
     ]
    },
    {
     "data": {
      "text/html": [],
      "text/plain": [
       "<IPython.core.display.HTML object>"
      ]
     },
     "metadata": {},
     "output_type": "display_data"
    },
    {
     "name": "stdout",
     "output_type": "stream",
     "text": [
      "619\n",
      "PROCESS TIME: 3.5043609142303467\n",
      "merchant_16335\n"
     ]
    },
    {
     "data": {
      "text/html": [],
      "text/plain": [
       "<IPython.core.display.HTML object>"
      ]
     },
     "metadata": {},
     "output_type": "display_data"
    },
    {
     "name": "stdout",
     "output_type": "stream",
     "text": [
      "620\n",
      "PROCESS TIME: 3.628305196762085\n",
      "merchant_26876\n"
     ]
    },
    {
     "data": {
      "text/html": [],
      "text/plain": [
       "<IPython.core.display.HTML object>"
      ]
     },
     "metadata": {},
     "output_type": "display_data"
    },
    {
     "name": "stdout",
     "output_type": "stream",
     "text": [
      "621\n",
      "PROCESS TIME: 3.662532329559326\n",
      "merchant_38307\n"
     ]
    },
    {
     "data": {
      "text/html": [],
      "text/plain": [
       "<IPython.core.display.HTML object>"
      ]
     },
     "metadata": {},
     "output_type": "display_data"
    },
    {
     "name": "stdout",
     "output_type": "stream",
     "text": [
      "622\n",
      "PROCESS TIME: 3.5499725341796875\n",
      "merchant_65461\n"
     ]
    },
    {
     "data": {
      "text/html": [],
      "text/plain": [
       "<IPython.core.display.HTML object>"
      ]
     },
     "metadata": {},
     "output_type": "display_data"
    },
    {
     "name": "stdout",
     "output_type": "stream",
     "text": [
      "623\n",
      "PROCESS TIME: 3.548790454864502\n",
      "merchant_12285\n"
     ]
    },
    {
     "data": {
      "text/html": [],
      "text/plain": [
       "<IPython.core.display.HTML object>"
      ]
     },
     "metadata": {},
     "output_type": "display_data"
    },
    {
     "name": "stdout",
     "output_type": "stream",
     "text": [
      "624\n",
      "PROCESS TIME: 3.5145158767700195\n",
      "merchant_35066\n"
     ]
    },
    {
     "data": {
      "text/html": [],
      "text/plain": [
       "<IPython.core.display.HTML object>"
      ]
     },
     "metadata": {},
     "output_type": "display_data"
    },
    {
     "name": "stdout",
     "output_type": "stream",
     "text": [
      "625\n",
      "PROCESS TIME: 3.555203914642334\n",
      "merchant_32827\n"
     ]
    },
    {
     "data": {
      "text/html": [],
      "text/plain": [
       "<IPython.core.display.HTML object>"
      ]
     },
     "metadata": {},
     "output_type": "display_data"
    },
    {
     "name": "stdout",
     "output_type": "stream",
     "text": [
      "626\n",
      "PROCESS TIME: 3.677309274673462\n",
      "merchant_36613\n"
     ]
    },
    {
     "data": {
      "text/html": [],
      "text/plain": [
       "<IPython.core.display.HTML object>"
      ]
     },
     "metadata": {},
     "output_type": "display_data"
    },
    {
     "name": "stdout",
     "output_type": "stream",
     "text": [
      "627\n",
      "PROCESS TIME: 3.5814530849456787\n",
      "merchant_21118\n",
      "data is not enough 2\n",
      "PROCESS TIME: 2.644749879837036\n",
      "merchant_18818\n",
      "data is not enough 3\n",
      "PROCESS TIME: 2.65401554107666\n",
      "merchant_5610\n"
     ]
    },
    {
     "data": {
      "text/html": [],
      "text/plain": [
       "<IPython.core.display.HTML object>"
      ]
     },
     "metadata": {},
     "output_type": "display_data"
    },
    {
     "name": "stdout",
     "output_type": "stream",
     "text": [
      "630\n",
      "PROCESS TIME: 3.4982540607452393\n",
      "merchant_36487\n"
     ]
    },
    {
     "data": {
      "text/html": [],
      "text/plain": [
       "<IPython.core.display.HTML object>"
      ]
     },
     "metadata": {},
     "output_type": "display_data"
    },
    {
     "name": "stdout",
     "output_type": "stream",
     "text": [
      "631\n",
      "PROCESS TIME: 3.682025909423828\n",
      "merchant_28276\n"
     ]
    },
    {
     "data": {
      "text/html": [],
      "text/plain": [
       "<IPython.core.display.HTML object>"
      ]
     },
     "metadata": {},
     "output_type": "display_data"
    },
    {
     "name": "stdout",
     "output_type": "stream",
     "text": [
      "632\n",
      "PROCESS TIME: 3.5511720180511475\n",
      "merchant_37668\n",
      "data is not enough 2\n",
      "PROCESS TIME: 2.6369709968566895\n",
      "merchant_4577\n"
     ]
    },
    {
     "data": {
      "text/html": [],
      "text/plain": [
       "<IPython.core.display.HTML object>"
      ]
     },
     "metadata": {},
     "output_type": "display_data"
    },
    {
     "name": "stdout",
     "output_type": "stream",
     "text": [
      "634\n",
      "PROCESS TIME: 3.7586021423339844\n",
      "merchant_55478\n"
     ]
    },
    {
     "data": {
      "text/html": [],
      "text/plain": [
       "<IPython.core.display.HTML object>"
      ]
     },
     "metadata": {},
     "output_type": "display_data"
    },
    {
     "name": "stdout",
     "output_type": "stream",
     "text": [
      "635\n",
      "PROCESS TIME: 3.565316915512085\n",
      "merchant_33389\n"
     ]
    },
    {
     "data": {
      "text/html": [],
      "text/plain": [
       "<IPython.core.display.HTML object>"
      ]
     },
     "metadata": {},
     "output_type": "display_data"
    },
    {
     "name": "stdout",
     "output_type": "stream",
     "text": [
      "636\n",
      "PROCESS TIME: 3.56443452835083\n",
      "merchant_59529\n"
     ]
    },
    {
     "data": {
      "text/html": [],
      "text/plain": [
       "<IPython.core.display.HTML object>"
      ]
     },
     "metadata": {},
     "output_type": "display_data"
    },
    {
     "name": "stdout",
     "output_type": "stream",
     "text": [
      "637\n",
      "PROCESS TIME: 3.5498318672180176\n",
      "merchant_2865\n"
     ]
    },
    {
     "data": {
      "text/html": [],
      "text/plain": [
       "<IPython.core.display.HTML object>"
      ]
     },
     "metadata": {},
     "output_type": "display_data"
    },
    {
     "name": "stdout",
     "output_type": "stream",
     "text": [
      "638\n",
      "PROCESS TIME: 3.6545403003692627\n",
      "merchant_33345\n",
      "data is not enough 4\n",
      "PROCESS TIME: 2.6370925903320312\n",
      "merchant_66183\n"
     ]
    },
    {
     "data": {
      "text/html": [],
      "text/plain": [
       "<IPython.core.display.HTML object>"
      ]
     },
     "metadata": {},
     "output_type": "display_data"
    },
    {
     "name": "stdout",
     "output_type": "stream",
     "text": [
      "640\n",
      "PROCESS TIME: 3.589290142059326\n",
      "merchant_29992\n"
     ]
    },
    {
     "data": {
      "text/html": [],
      "text/plain": [
       "<IPython.core.display.HTML object>"
      ]
     },
     "metadata": {},
     "output_type": "display_data"
    },
    {
     "name": "stdout",
     "output_type": "stream",
     "text": [
      "641\n",
      "PROCESS TIME: 3.630237579345703\n",
      "merchant_32888\n"
     ]
    },
    {
     "data": {
      "text/html": [],
      "text/plain": [
       "<IPython.core.display.HTML object>"
      ]
     },
     "metadata": {},
     "output_type": "display_data"
    },
    {
     "name": "stdout",
     "output_type": "stream",
     "text": [
      "642\n",
      "PROCESS TIME: 3.5321357250213623\n",
      "merchant_51762\n"
     ]
    },
    {
     "data": {
      "text/html": [],
      "text/plain": [
       "<IPython.core.display.HTML object>"
      ]
     },
     "metadata": {},
     "output_type": "display_data"
    },
    {
     "name": "stdout",
     "output_type": "stream",
     "text": [
      "643\n",
      "PROCESS TIME: 3.532175302505493\n",
      "merchant_17640\n"
     ]
    },
    {
     "data": {
      "text/html": [],
      "text/plain": [
       "<IPython.core.display.HTML object>"
      ]
     },
     "metadata": {},
     "output_type": "display_data"
    },
    {
     "name": "stdout",
     "output_type": "stream",
     "text": [
      "644\n",
      "PROCESS TIME: 3.639772415161133\n",
      "merchant_5648\n"
     ]
    },
    {
     "data": {
      "text/html": [],
      "text/plain": [
       "<IPython.core.display.HTML object>"
      ]
     },
     "metadata": {},
     "output_type": "display_data"
    },
    {
     "name": "stdout",
     "output_type": "stream",
     "text": [
      "645\n",
      "PROCESS TIME: 3.6604464054107666\n",
      "merchant_16506\n"
     ]
    }
   ],
   "source": [
    "best_predictor=[]\n",
    "for index,merc in enumerate(df.merchant_id.unique()):\n",
    "    start_time =time.time()\n",
    "    try:\n",
    "        print(merc)\n",
    "        df_test = df[df[\"merchant_id\"]==merc]\n",
    "        df_test = df_test.sort_values(by=[\"year\",\"month\"])\n",
    "        df_test['Series'] = np.arange(1,len(df_test)+1)\n",
    "        df_test=df_test[[\"Series\",\"year\",\"month\",\"net_payment_count\"]]\n",
    "        s = setup(data = df_test, target = 'net_payment_count', fold_strategy = 'timeseries', \\\n",
    "                  data_split_shuffle = False, numeric_features = ['year'], fold = 3, \\\n",
    "                  transform_target = True, session_id = 123,verbose=False,n_jobs=8,\\\n",
    "                  log_experiment=False)\n",
    "        best = compare_models(sort = 'MAE',verbose=False,include=[\"lasso\",\"ada\"])\n",
    "        final_best = finalize_model(best)\n",
    "        best_predictor.append(best)\n",
    "\n",
    "        future_dates = pd.date_range(start = '2023-10-01', end = '2023-12-31', freq = 'MS')\n",
    "        future_df = pd.DataFrame()\n",
    "        future_df['month'] = [i.month for i in future_dates]\n",
    "        future_df['year'] = [i.year for i in future_dates]    \n",
    "        future_df['Series'] = np.arange(df_test.shape[0],(df_test.shape[0]+len(future_dates)))\n",
    "        predictions_future = predict_model(final_best, data=future_df)\n",
    "        predictions_future[\"id\"]=predictions_future.year.astype(str)+predictions_future.month.astype(str)+merc\n",
    "        predictions_future[\"prediction_label\"]=predictions_future[\"prediction_label\"].astype(int)\n",
    "        predictions_future[[\"id\",\"prediction_label\"]].to_csv(\"deneme.csv\",mode=\"a\",header=False,index=False)\n",
    "        \n",
    "        print(index)\n",
    "    except:\n",
    "        \n",
    "        print(\"data is not enough\",len(df[df[\"merchant_id\"]==merc]))\n",
    "        future_dates = pd.date_range(start = '2023-10-01', end = '2023-12-31', freq = 'MS')\n",
    "        future_df = pd.DataFrame()\n",
    "        future_df['month'] = [i.month for i in future_dates]\n",
    "        future_df['year'] = [i.year for i in future_dates]    \n",
    "        future_df['Series'] = np.arange(df_test.shape[0],(df_test.shape[0]+len(future_dates)))\n",
    "        future_df[\"id\"]= future_df.year.astype(str)+future_df.month.astype(str)+merc\n",
    "        future_df[\"prediction_label\"]=0\n",
    "        future_df[[\"id\",\"prediction_label\"]].to_csv(\"deneme.csv\",mode=\"a\",header=False,index=False)\n",
    "        #print(future_df)           \n",
    "    finally:\n",
    "        print(\"PROCESS TIME:\",time.time()-start_time)"
   ]
  },
  {
   "cell_type": "code",
   "execution_count": null,
   "id": "c44cd0f3",
   "metadata": {},
   "outputs": [],
   "source": []
  },
  {
   "cell_type": "code",
   "execution_count": null,
   "id": "2ef0b254",
   "metadata": {},
   "outputs": [],
   "source": [
    "from collections import Counter"
   ]
  },
  {
   "cell_type": "code",
   "execution_count": null,
   "id": "82d7a2b4",
   "metadata": {},
   "outputs": [],
   "source": [
    "count = Counter(str(best_predictor).strip(\"[]\").split(\",\"))"
   ]
  },
  {
   "cell_type": "code",
   "execution_count": null,
   "id": "a53b5643",
   "metadata": {},
   "outputs": [],
   "source": [
    "print(count)"
   ]
  },
  {
   "cell_type": "code",
   "execution_count": null,
   "id": "21fef952",
   "metadata": {},
   "outputs": [],
   "source": [
    "[\"ada\",\"lasso\",\"gbr\",\"lightgbm\",\"dt\"]"
   ]
  },
  {
   "cell_type": "code",
   "execution_count": null,
   "id": "7c0845b1",
   "metadata": {},
   "outputs": [],
   "source": [
    "models()"
   ]
  },
  {
   "cell_type": "code",
   "execution_count": null,
   "id": "77da4ca8",
   "metadata": {},
   "outputs": [],
   "source": []
  },
  {
   "cell_type": "code",
   "execution_count": null,
   "id": "7d67f289",
   "metadata": {},
   "outputs": [],
   "source": []
  },
  {
   "cell_type": "code",
   "execution_count": null,
   "id": "bdda1fbf",
   "metadata": {},
   "outputs": [],
   "source": []
  }
 ],
 "metadata": {
  "kernelspec": {
   "display_name": "Python 3 (ipykernel)",
   "language": "python",
   "name": "python3"
  },
  "language_info": {
   "codemirror_mode": {
    "name": "ipython",
    "version": 3
   },
   "file_extension": ".py",
   "mimetype": "text/x-python",
   "name": "python",
   "nbconvert_exporter": "python",
   "pygments_lexer": "ipython3",
   "version": "3.11.5"
  }
 },
 "nbformat": 4,
 "nbformat_minor": 5
}
